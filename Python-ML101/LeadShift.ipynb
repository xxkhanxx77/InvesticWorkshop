{
 "cells": [
  {
   "cell_type": "code",
   "execution_count": 1,
   "id": "73de022a",
   "metadata": {},
   "outputs": [],
   "source": [
    "import pandas as pd\n",
    "import yfinance as yf\n",
    "import numpy as np\n",
    "import matplotlib.pyplot as plt"
   ]
  },
  {
   "cell_type": "code",
   "execution_count": 2,
   "id": "35a65327",
   "metadata": {},
   "outputs": [],
   "source": [
    "start = '2017-01-01'\n",
    "end = '2021-10-01'"
   ]
  },
  {
   "cell_type": "code",
   "execution_count": 3,
   "id": "44a44230",
   "metadata": {},
   "outputs": [
    {
     "name": "stdout",
     "output_type": "stream",
     "text": [
      "[*********************100%***********************]  2 of 2 completed\n"
     ]
    }
   ],
   "source": [
    "data=yf.download('CL=F PTTEP.BK',start =start,end=end,periods=1)"
   ]
  },
  {
   "cell_type": "code",
   "execution_count": 4,
   "id": "9fc66fc7",
   "metadata": {},
   "outputs": [
    {
     "data": {
      "text/html": [
       "<div>\n",
       "<style scoped>\n",
       "    .dataframe tbody tr th:only-of-type {\n",
       "        vertical-align: middle;\n",
       "    }\n",
       "\n",
       "    .dataframe tbody tr th {\n",
       "        vertical-align: top;\n",
       "    }\n",
       "\n",
       "    .dataframe thead tr th {\n",
       "        text-align: left;\n",
       "    }\n",
       "\n",
       "    .dataframe thead tr:last-of-type th {\n",
       "        text-align: right;\n",
       "    }\n",
       "</style>\n",
       "<table border=\"1\" class=\"dataframe\">\n",
       "  <thead>\n",
       "    <tr>\n",
       "      <th></th>\n",
       "      <th colspan=\"2\" halign=\"left\">Adj Close</th>\n",
       "      <th colspan=\"2\" halign=\"left\">Close</th>\n",
       "      <th colspan=\"2\" halign=\"left\">High</th>\n",
       "      <th colspan=\"2\" halign=\"left\">Low</th>\n",
       "      <th colspan=\"2\" halign=\"left\">Open</th>\n",
       "      <th colspan=\"2\" halign=\"left\">Volume</th>\n",
       "    </tr>\n",
       "    <tr>\n",
       "      <th></th>\n",
       "      <th>CL=F</th>\n",
       "      <th>PTTEP.BK</th>\n",
       "      <th>CL=F</th>\n",
       "      <th>PTTEP.BK</th>\n",
       "      <th>CL=F</th>\n",
       "      <th>PTTEP.BK</th>\n",
       "      <th>CL=F</th>\n",
       "      <th>PTTEP.BK</th>\n",
       "      <th>CL=F</th>\n",
       "      <th>PTTEP.BK</th>\n",
       "      <th>CL=F</th>\n",
       "      <th>PTTEP.BK</th>\n",
       "    </tr>\n",
       "    <tr>\n",
       "      <th>Date</th>\n",
       "      <th></th>\n",
       "      <th></th>\n",
       "      <th></th>\n",
       "      <th></th>\n",
       "      <th></th>\n",
       "      <th></th>\n",
       "      <th></th>\n",
       "      <th></th>\n",
       "      <th></th>\n",
       "      <th></th>\n",
       "      <th></th>\n",
       "      <th></th>\n",
       "    </tr>\n",
       "  </thead>\n",
       "  <tbody>\n",
       "    <tr>\n",
       "      <th>2017-01-03</th>\n",
       "      <td>52.330002</td>\n",
       "      <td>NaN</td>\n",
       "      <td>52.330002</td>\n",
       "      <td>NaN</td>\n",
       "      <td>55.240002</td>\n",
       "      <td>NaN</td>\n",
       "      <td>52.110001</td>\n",
       "      <td>NaN</td>\n",
       "      <td>54.200001</td>\n",
       "      <td>NaN</td>\n",
       "      <td>727793.0</td>\n",
       "      <td>NaN</td>\n",
       "    </tr>\n",
       "    <tr>\n",
       "      <th>2017-01-04</th>\n",
       "      <td>53.259998</td>\n",
       "      <td>74.474815</td>\n",
       "      <td>53.259998</td>\n",
       "      <td>98.50</td>\n",
       "      <td>53.430000</td>\n",
       "      <td>98.75</td>\n",
       "      <td>52.150002</td>\n",
       "      <td>96.00</td>\n",
       "      <td>52.490002</td>\n",
       "      <td>96.25</td>\n",
       "      <td>512641.0</td>\n",
       "      <td>17352200.0</td>\n",
       "    </tr>\n",
       "    <tr>\n",
       "      <th>2017-01-05</th>\n",
       "      <td>53.759998</td>\n",
       "      <td>74.096779</td>\n",
       "      <td>53.759998</td>\n",
       "      <td>98.00</td>\n",
       "      <td>54.119999</td>\n",
       "      <td>99.50</td>\n",
       "      <td>52.790001</td>\n",
       "      <td>98.00</td>\n",
       "      <td>53.389999</td>\n",
       "      <td>98.50</td>\n",
       "      <td>517362.0</td>\n",
       "      <td>18246200.0</td>\n",
       "    </tr>\n",
       "    <tr>\n",
       "      <th>2017-01-06</th>\n",
       "      <td>53.990002</td>\n",
       "      <td>74.474815</td>\n",
       "      <td>53.990002</td>\n",
       "      <td>98.50</td>\n",
       "      <td>54.320000</td>\n",
       "      <td>99.50</td>\n",
       "      <td>53.320000</td>\n",
       "      <td>97.25</td>\n",
       "      <td>53.730000</td>\n",
       "      <td>98.00</td>\n",
       "      <td>528333.0</td>\n",
       "      <td>11993700.0</td>\n",
       "    </tr>\n",
       "    <tr>\n",
       "      <th>2017-01-09</th>\n",
       "      <td>51.959999</td>\n",
       "      <td>73.907745</td>\n",
       "      <td>51.959999</td>\n",
       "      <td>97.75</td>\n",
       "      <td>53.830002</td>\n",
       "      <td>98.75</td>\n",
       "      <td>51.759998</td>\n",
       "      <td>97.50</td>\n",
       "      <td>53.750000</td>\n",
       "      <td>98.50</td>\n",
       "      <td>564893.0</td>\n",
       "      <td>4042300.0</td>\n",
       "    </tr>\n",
       "    <tr>\n",
       "      <th>...</th>\n",
       "      <td>...</td>\n",
       "      <td>...</td>\n",
       "      <td>...</td>\n",
       "      <td>...</td>\n",
       "      <td>...</td>\n",
       "      <td>...</td>\n",
       "      <td>...</td>\n",
       "      <td>...</td>\n",
       "      <td>...</td>\n",
       "      <td>...</td>\n",
       "      <td>...</td>\n",
       "      <td>...</td>\n",
       "    </tr>\n",
       "    <tr>\n",
       "      <th>2021-09-24</th>\n",
       "      <td>73.980003</td>\n",
       "      <td>NaN</td>\n",
       "      <td>73.980003</td>\n",
       "      <td>NaN</td>\n",
       "      <td>74.269997</td>\n",
       "      <td>NaN</td>\n",
       "      <td>72.809998</td>\n",
       "      <td>NaN</td>\n",
       "      <td>73.239998</td>\n",
       "      <td>NaN</td>\n",
       "      <td>350382.0</td>\n",
       "      <td>NaN</td>\n",
       "    </tr>\n",
       "    <tr>\n",
       "      <th>2021-09-27</th>\n",
       "      <td>75.449997</td>\n",
       "      <td>111.294357</td>\n",
       "      <td>75.449997</td>\n",
       "      <td>117.00</td>\n",
       "      <td>75.750000</td>\n",
       "      <td>117.50</td>\n",
       "      <td>74.160004</td>\n",
       "      <td>114.50</td>\n",
       "      <td>74.190002</td>\n",
       "      <td>115.00</td>\n",
       "      <td>417829.0</td>\n",
       "      <td>25185600.0</td>\n",
       "    </tr>\n",
       "    <tr>\n",
       "      <th>2021-09-28</th>\n",
       "      <td>75.290001</td>\n",
       "      <td>113.196823</td>\n",
       "      <td>75.290001</td>\n",
       "      <td>119.00</td>\n",
       "      <td>76.669998</td>\n",
       "      <td>121.00</td>\n",
       "      <td>74.239998</td>\n",
       "      <td>118.00</td>\n",
       "      <td>75.430000</td>\n",
       "      <td>118.50</td>\n",
       "      <td>476143.0</td>\n",
       "      <td>34817500.0</td>\n",
       "    </tr>\n",
       "    <tr>\n",
       "      <th>2021-09-29</th>\n",
       "      <td>74.830002</td>\n",
       "      <td>113.196823</td>\n",
       "      <td>74.830002</td>\n",
       "      <td>119.00</td>\n",
       "      <td>75.790001</td>\n",
       "      <td>120.00</td>\n",
       "      <td>73.739998</td>\n",
       "      <td>117.00</td>\n",
       "      <td>74.379997</td>\n",
       "      <td>117.00</td>\n",
       "      <td>424193.0</td>\n",
       "      <td>13055700.0</td>\n",
       "    </tr>\n",
       "    <tr>\n",
       "      <th>2021-09-30</th>\n",
       "      <td>75.029999</td>\n",
       "      <td>111.769974</td>\n",
       "      <td>75.029999</td>\n",
       "      <td>117.50</td>\n",
       "      <td>76.070000</td>\n",
       "      <td>119.50</td>\n",
       "      <td>73.139999</td>\n",
       "      <td>117.00</td>\n",
       "      <td>74.779999</td>\n",
       "      <td>119.00</td>\n",
       "      <td>583189.0</td>\n",
       "      <td>11996900.0</td>\n",
       "    </tr>\n",
       "  </tbody>\n",
       "</table>\n",
       "<p>1231 rows × 12 columns</p>\n",
       "</div>"
      ],
      "text/plain": [
       "            Adj Close                  Close                High           \\\n",
       "                 CL=F    PTTEP.BK       CL=F PTTEP.BK       CL=F PTTEP.BK   \n",
       "Date                                                                        \n",
       "2017-01-03  52.330002         NaN  52.330002      NaN  55.240002      NaN   \n",
       "2017-01-04  53.259998   74.474815  53.259998    98.50  53.430000    98.75   \n",
       "2017-01-05  53.759998   74.096779  53.759998    98.00  54.119999    99.50   \n",
       "2017-01-06  53.990002   74.474815  53.990002    98.50  54.320000    99.50   \n",
       "2017-01-09  51.959999   73.907745  51.959999    97.75  53.830002    98.75   \n",
       "...               ...         ...        ...      ...        ...      ...   \n",
       "2021-09-24  73.980003         NaN  73.980003      NaN  74.269997      NaN   \n",
       "2021-09-27  75.449997  111.294357  75.449997   117.00  75.750000   117.50   \n",
       "2021-09-28  75.290001  113.196823  75.290001   119.00  76.669998   121.00   \n",
       "2021-09-29  74.830002  113.196823  74.830002   119.00  75.790001   120.00   \n",
       "2021-09-30  75.029999  111.769974  75.029999   117.50  76.070000   119.50   \n",
       "\n",
       "                  Low                Open             Volume              \n",
       "                 CL=F PTTEP.BK       CL=F PTTEP.BK      CL=F    PTTEP.BK  \n",
       "Date                                                                      \n",
       "2017-01-03  52.110001      NaN  54.200001      NaN  727793.0         NaN  \n",
       "2017-01-04  52.150002    96.00  52.490002    96.25  512641.0  17352200.0  \n",
       "2017-01-05  52.790001    98.00  53.389999    98.50  517362.0  18246200.0  \n",
       "2017-01-06  53.320000    97.25  53.730000    98.00  528333.0  11993700.0  \n",
       "2017-01-09  51.759998    97.50  53.750000    98.50  564893.0   4042300.0  \n",
       "...               ...      ...        ...      ...       ...         ...  \n",
       "2021-09-24  72.809998      NaN  73.239998      NaN  350382.0         NaN  \n",
       "2021-09-27  74.160004   114.50  74.190002   115.00  417829.0  25185600.0  \n",
       "2021-09-28  74.239998   118.00  75.430000   118.50  476143.0  34817500.0  \n",
       "2021-09-29  73.739998   117.00  74.379997   117.00  424193.0  13055700.0  \n",
       "2021-09-30  73.139999   117.00  74.779999   119.00  583189.0  11996900.0  \n",
       "\n",
       "[1231 rows x 12 columns]"
      ]
     },
     "execution_count": 4,
     "metadata": {},
     "output_type": "execute_result"
    }
   ],
   "source": [
    "data"
   ]
  },
  {
   "cell_type": "markdown",
   "id": "5ee04e35",
   "metadata": {},
   "source": [
    "# note we have 2 way to lead shift today predict tomorrow\n",
    "# and yesterday predict to day"
   ]
  },
  {
   "cell_type": "code",
   "execution_count": 5,
   "id": "7d59c653",
   "metadata": {},
   "outputs": [
    {
     "data": {
      "text/html": [
       "<div>\n",
       "<style scoped>\n",
       "    .dataframe tbody tr th:only-of-type {\n",
       "        vertical-align: middle;\n",
       "    }\n",
       "\n",
       "    .dataframe tbody tr th {\n",
       "        vertical-align: top;\n",
       "    }\n",
       "\n",
       "    .dataframe thead th {\n",
       "        text-align: right;\n",
       "    }\n",
       "</style>\n",
       "<table border=\"1\" class=\"dataframe\">\n",
       "  <thead>\n",
       "    <tr style=\"text-align: right;\">\n",
       "      <th></th>\n",
       "      <th>CL=F</th>\n",
       "      <th>PTTEP.BK</th>\n",
       "    </tr>\n",
       "    <tr>\n",
       "      <th>Date</th>\n",
       "      <th></th>\n",
       "      <th></th>\n",
       "    </tr>\n",
       "  </thead>\n",
       "  <tbody>\n",
       "    <tr>\n",
       "      <th>2017-01-03</th>\n",
       "      <td>52.330002</td>\n",
       "      <td>NaN</td>\n",
       "    </tr>\n",
       "    <tr>\n",
       "      <th>2017-01-04</th>\n",
       "      <td>53.259998</td>\n",
       "      <td>74.474815</td>\n",
       "    </tr>\n",
       "    <tr>\n",
       "      <th>2017-01-05</th>\n",
       "      <td>53.759998</td>\n",
       "      <td>74.096779</td>\n",
       "    </tr>\n",
       "    <tr>\n",
       "      <th>2017-01-06</th>\n",
       "      <td>53.990002</td>\n",
       "      <td>74.474815</td>\n",
       "    </tr>\n",
       "    <tr>\n",
       "      <th>2017-01-09</th>\n",
       "      <td>51.959999</td>\n",
       "      <td>73.907745</td>\n",
       "    </tr>\n",
       "    <tr>\n",
       "      <th>...</th>\n",
       "      <td>...</td>\n",
       "      <td>...</td>\n",
       "    </tr>\n",
       "    <tr>\n",
       "      <th>2021-09-24</th>\n",
       "      <td>73.980003</td>\n",
       "      <td>NaN</td>\n",
       "    </tr>\n",
       "    <tr>\n",
       "      <th>2021-09-27</th>\n",
       "      <td>75.449997</td>\n",
       "      <td>111.294357</td>\n",
       "    </tr>\n",
       "    <tr>\n",
       "      <th>2021-09-28</th>\n",
       "      <td>75.290001</td>\n",
       "      <td>113.196823</td>\n",
       "    </tr>\n",
       "    <tr>\n",
       "      <th>2021-09-29</th>\n",
       "      <td>74.830002</td>\n",
       "      <td>113.196823</td>\n",
       "    </tr>\n",
       "    <tr>\n",
       "      <th>2021-09-30</th>\n",
       "      <td>75.029999</td>\n",
       "      <td>111.769974</td>\n",
       "    </tr>\n",
       "  </tbody>\n",
       "</table>\n",
       "<p>1231 rows × 2 columns</p>\n",
       "</div>"
      ],
      "text/plain": [
       "                 CL=F    PTTEP.BK\n",
       "Date                             \n",
       "2017-01-03  52.330002         NaN\n",
       "2017-01-04  53.259998   74.474815\n",
       "2017-01-05  53.759998   74.096779\n",
       "2017-01-06  53.990002   74.474815\n",
       "2017-01-09  51.959999   73.907745\n",
       "...               ...         ...\n",
       "2021-09-24  73.980003         NaN\n",
       "2021-09-27  75.449997  111.294357\n",
       "2021-09-28  75.290001  113.196823\n",
       "2021-09-29  74.830002  113.196823\n",
       "2021-09-30  75.029999  111.769974\n",
       "\n",
       "[1231 rows x 2 columns]"
      ]
     },
     "execution_count": 5,
     "metadata": {},
     "output_type": "execute_result"
    }
   ],
   "source": [
    "df=data['Adj Close']\n",
    "df"
   ]
  },
  {
   "cell_type": "code",
   "execution_count": 6,
   "id": "885c42bc",
   "metadata": {},
   "outputs": [
    {
     "name": "stderr",
     "output_type": "stream",
     "text": [
      "/var/folders/0j/079zvm2s3dxclvzgz86_k33m0000gn/T/ipykernel_65421/704209468.py:1: SettingWithCopyWarning: \n",
      "A value is trying to be set on a copy of a slice from a DataFrame.\n",
      "Try using .loc[row_indexer,col_indexer] = value instead\n",
      "\n",
      "See the caveats in the documentation: https://pandas.pydata.org/pandas-docs/stable/user_guide/indexing.html#returning-a-view-versus-a-copy\n",
      "  df['PTTEP Shift']=df['PTTEP.BK'].shift(1)\n"
     ]
    },
    {
     "data": {
      "text/html": [
       "<div>\n",
       "<style scoped>\n",
       "    .dataframe tbody tr th:only-of-type {\n",
       "        vertical-align: middle;\n",
       "    }\n",
       "\n",
       "    .dataframe tbody tr th {\n",
       "        vertical-align: top;\n",
       "    }\n",
       "\n",
       "    .dataframe thead th {\n",
       "        text-align: right;\n",
       "    }\n",
       "</style>\n",
       "<table border=\"1\" class=\"dataframe\">\n",
       "  <thead>\n",
       "    <tr style=\"text-align: right;\">\n",
       "      <th></th>\n",
       "      <th>CL=F</th>\n",
       "      <th>PTTEP.BK</th>\n",
       "      <th>PTTEP Shift</th>\n",
       "    </tr>\n",
       "    <tr>\n",
       "      <th>Date</th>\n",
       "      <th></th>\n",
       "      <th></th>\n",
       "      <th></th>\n",
       "    </tr>\n",
       "  </thead>\n",
       "  <tbody>\n",
       "    <tr>\n",
       "      <th>2017-01-03</th>\n",
       "      <td>52.330002</td>\n",
       "      <td>NaN</td>\n",
       "      <td>NaN</td>\n",
       "    </tr>\n",
       "    <tr>\n",
       "      <th>2017-01-04</th>\n",
       "      <td>53.259998</td>\n",
       "      <td>74.474815</td>\n",
       "      <td>NaN</td>\n",
       "    </tr>\n",
       "    <tr>\n",
       "      <th>2017-01-05</th>\n",
       "      <td>53.759998</td>\n",
       "      <td>74.096779</td>\n",
       "      <td>74.474815</td>\n",
       "    </tr>\n",
       "    <tr>\n",
       "      <th>2017-01-06</th>\n",
       "      <td>53.990002</td>\n",
       "      <td>74.474815</td>\n",
       "      <td>74.096779</td>\n",
       "    </tr>\n",
       "    <tr>\n",
       "      <th>2017-01-09</th>\n",
       "      <td>51.959999</td>\n",
       "      <td>73.907745</td>\n",
       "      <td>74.474815</td>\n",
       "    </tr>\n",
       "    <tr>\n",
       "      <th>...</th>\n",
       "      <td>...</td>\n",
       "      <td>...</td>\n",
       "      <td>...</td>\n",
       "    </tr>\n",
       "    <tr>\n",
       "      <th>2021-09-24</th>\n",
       "      <td>73.980003</td>\n",
       "      <td>NaN</td>\n",
       "      <td>107.489426</td>\n",
       "    </tr>\n",
       "    <tr>\n",
       "      <th>2021-09-27</th>\n",
       "      <td>75.449997</td>\n",
       "      <td>111.294357</td>\n",
       "      <td>NaN</td>\n",
       "    </tr>\n",
       "    <tr>\n",
       "      <th>2021-09-28</th>\n",
       "      <td>75.290001</td>\n",
       "      <td>113.196823</td>\n",
       "      <td>111.294357</td>\n",
       "    </tr>\n",
       "    <tr>\n",
       "      <th>2021-09-29</th>\n",
       "      <td>74.830002</td>\n",
       "      <td>113.196823</td>\n",
       "      <td>113.196823</td>\n",
       "    </tr>\n",
       "    <tr>\n",
       "      <th>2021-09-30</th>\n",
       "      <td>75.029999</td>\n",
       "      <td>111.769974</td>\n",
       "      <td>113.196823</td>\n",
       "    </tr>\n",
       "  </tbody>\n",
       "</table>\n",
       "<p>1231 rows × 3 columns</p>\n",
       "</div>"
      ],
      "text/plain": [
       "                 CL=F    PTTEP.BK  PTTEP Shift\n",
       "Date                                          \n",
       "2017-01-03  52.330002         NaN          NaN\n",
       "2017-01-04  53.259998   74.474815          NaN\n",
       "2017-01-05  53.759998   74.096779    74.474815\n",
       "2017-01-06  53.990002   74.474815    74.096779\n",
       "2017-01-09  51.959999   73.907745    74.474815\n",
       "...               ...         ...          ...\n",
       "2021-09-24  73.980003         NaN   107.489426\n",
       "2021-09-27  75.449997  111.294357          NaN\n",
       "2021-09-28  75.290001  113.196823   111.294357\n",
       "2021-09-29  74.830002  113.196823   113.196823\n",
       "2021-09-30  75.029999  111.769974   113.196823\n",
       "\n",
       "[1231 rows x 3 columns]"
      ]
     },
     "execution_count": 6,
     "metadata": {},
     "output_type": "execute_result"
    }
   ],
   "source": [
    "df['PTTEP Shift']=df['PTTEP.BK'].shift(1)\n",
    "df"
   ]
  },
  {
   "cell_type": "code",
   "execution_count": 7,
   "id": "9c81c2fc",
   "metadata": {},
   "outputs": [
    {
     "data": {
      "text/plain": [
       "Date\n",
       "2017-01-03         NaN\n",
       "2017-01-04         NaN\n",
       "2017-01-05   -0.005076\n",
       "2017-01-06    0.005102\n",
       "2017-01-09   -0.007614\n",
       "                ...   \n",
       "2021-09-24         NaN\n",
       "2021-09-27         NaN\n",
       "2021-09-28    0.017094\n",
       "2021-09-29    0.000000\n",
       "2021-09-30   -0.012605\n",
       "Length: 1231, dtype: float64"
      ]
     },
     "execution_count": 7,
     "metadata": {},
     "output_type": "execute_result"
    }
   ],
   "source": [
    "# find return \n",
    "df['PTTEP.BK']/df['PTTEP Shift']-1"
   ]
  },
  {
   "cell_type": "code",
   "execution_count": 11,
   "id": "97a5f241",
   "metadata": {},
   "outputs": [
    {
     "data": {
      "text/plain": [
       "Date\n",
       "2017-01-03         NaN\n",
       "2017-01-04         NaN\n",
       "2017-01-05   -0.005076\n",
       "2017-01-06    0.005102\n",
       "2017-01-09   -0.007614\n",
       "                ...   \n",
       "2021-09-24         NaN\n",
       "2021-09-27         NaN\n",
       "2021-09-28    0.017094\n",
       "2021-09-29    0.000000\n",
       "2021-09-30   -0.012605\n",
       "Name: PTTEP.BK, Length: 1231, dtype: float64"
      ]
     },
     "execution_count": 11,
     "metadata": {},
     "output_type": "execute_result"
    }
   ],
   "source": [
    "df['PTTEP.BK']/df['PTTEP.BK'].shift(1)-1"
   ]
  },
  {
   "cell_type": "code",
   "execution_count": 9,
   "id": "f2cd2aa0",
   "metadata": {
    "scrolled": true
   },
   "outputs": [
    {
     "name": "stderr",
     "output_type": "stream",
     "text": [
      "/var/folders/0j/079zvm2s3dxclvzgz86_k33m0000gn/T/ipykernel_65421/102847901.py:1: SettingWithCopyWarning: \n",
      "A value is trying to be set on a copy of a slice from a DataFrame.\n",
      "Try using .loc[row_indexer,col_indexer] = value instead\n",
      "\n",
      "See the caveats in the documentation: https://pandas.pydata.org/pandas-docs/stable/user_guide/indexing.html#returning-a-view-versus-a-copy\n",
      "  df['return'] = df['PTTEP.BK']/df['PTTEP Shift']-1\n"
     ]
    }
   ],
   "source": [
    "df['return'] = df['PTTEP.BK']/df['PTTEP Shift']-1"
   ]
  },
  {
   "cell_type": "code",
   "execution_count": 10,
   "id": "29072a00",
   "metadata": {},
   "outputs": [
    {
     "data": {
      "text/html": [
       "<div>\n",
       "<style scoped>\n",
       "    .dataframe tbody tr th:only-of-type {\n",
       "        vertical-align: middle;\n",
       "    }\n",
       "\n",
       "    .dataframe tbody tr th {\n",
       "        vertical-align: top;\n",
       "    }\n",
       "\n",
       "    .dataframe thead th {\n",
       "        text-align: right;\n",
       "    }\n",
       "</style>\n",
       "<table border=\"1\" class=\"dataframe\">\n",
       "  <thead>\n",
       "    <tr style=\"text-align: right;\">\n",
       "      <th></th>\n",
       "      <th>CL=F</th>\n",
       "      <th>PTTEP.BK</th>\n",
       "      <th>PTTEP Shift</th>\n",
       "      <th>return</th>\n",
       "    </tr>\n",
       "    <tr>\n",
       "      <th>Date</th>\n",
       "      <th></th>\n",
       "      <th></th>\n",
       "      <th></th>\n",
       "      <th></th>\n",
       "    </tr>\n",
       "  </thead>\n",
       "  <tbody>\n",
       "    <tr>\n",
       "      <th>2017-01-03</th>\n",
       "      <td>52.330002</td>\n",
       "      <td>NaN</td>\n",
       "      <td>NaN</td>\n",
       "      <td>NaN</td>\n",
       "    </tr>\n",
       "    <tr>\n",
       "      <th>2017-01-04</th>\n",
       "      <td>53.259998</td>\n",
       "      <td>74.474815</td>\n",
       "      <td>NaN</td>\n",
       "      <td>NaN</td>\n",
       "    </tr>\n",
       "    <tr>\n",
       "      <th>2017-01-05</th>\n",
       "      <td>53.759998</td>\n",
       "      <td>74.096779</td>\n",
       "      <td>74.474815</td>\n",
       "      <td>-0.005076</td>\n",
       "    </tr>\n",
       "    <tr>\n",
       "      <th>2017-01-06</th>\n",
       "      <td>53.990002</td>\n",
       "      <td>74.474815</td>\n",
       "      <td>74.096779</td>\n",
       "      <td>0.005102</td>\n",
       "    </tr>\n",
       "    <tr>\n",
       "      <th>2017-01-09</th>\n",
       "      <td>51.959999</td>\n",
       "      <td>73.907745</td>\n",
       "      <td>74.474815</td>\n",
       "      <td>-0.007614</td>\n",
       "    </tr>\n",
       "    <tr>\n",
       "      <th>...</th>\n",
       "      <td>...</td>\n",
       "      <td>...</td>\n",
       "      <td>...</td>\n",
       "      <td>...</td>\n",
       "    </tr>\n",
       "    <tr>\n",
       "      <th>2021-09-24</th>\n",
       "      <td>73.980003</td>\n",
       "      <td>NaN</td>\n",
       "      <td>107.489426</td>\n",
       "      <td>NaN</td>\n",
       "    </tr>\n",
       "    <tr>\n",
       "      <th>2021-09-27</th>\n",
       "      <td>75.449997</td>\n",
       "      <td>111.294357</td>\n",
       "      <td>NaN</td>\n",
       "      <td>NaN</td>\n",
       "    </tr>\n",
       "    <tr>\n",
       "      <th>2021-09-28</th>\n",
       "      <td>75.290001</td>\n",
       "      <td>113.196823</td>\n",
       "      <td>111.294357</td>\n",
       "      <td>0.017094</td>\n",
       "    </tr>\n",
       "    <tr>\n",
       "      <th>2021-09-29</th>\n",
       "      <td>74.830002</td>\n",
       "      <td>113.196823</td>\n",
       "      <td>113.196823</td>\n",
       "      <td>0.000000</td>\n",
       "    </tr>\n",
       "    <tr>\n",
       "      <th>2021-09-30</th>\n",
       "      <td>75.029999</td>\n",
       "      <td>111.769974</td>\n",
       "      <td>113.196823</td>\n",
       "      <td>-0.012605</td>\n",
       "    </tr>\n",
       "  </tbody>\n",
       "</table>\n",
       "<p>1231 rows × 4 columns</p>\n",
       "</div>"
      ],
      "text/plain": [
       "                 CL=F    PTTEP.BK  PTTEP Shift    return\n",
       "Date                                                    \n",
       "2017-01-03  52.330002         NaN          NaN       NaN\n",
       "2017-01-04  53.259998   74.474815          NaN       NaN\n",
       "2017-01-05  53.759998   74.096779    74.474815 -0.005076\n",
       "2017-01-06  53.990002   74.474815    74.096779  0.005102\n",
       "2017-01-09  51.959999   73.907745    74.474815 -0.007614\n",
       "...               ...         ...          ...       ...\n",
       "2021-09-24  73.980003         NaN   107.489426       NaN\n",
       "2021-09-27  75.449997  111.294357          NaN       NaN\n",
       "2021-09-28  75.290001  113.196823   111.294357  0.017094\n",
       "2021-09-29  74.830002  113.196823   113.196823  0.000000\n",
       "2021-09-30  75.029999  111.769974   113.196823 -0.012605\n",
       "\n",
       "[1231 rows x 4 columns]"
      ]
     },
     "execution_count": 10,
     "metadata": {},
     "output_type": "execute_result"
    }
   ],
   "source": [
    "df"
   ]
  },
  {
   "cell_type": "code",
   "execution_count": 12,
   "id": "f42fe7da",
   "metadata": {},
   "outputs": [],
   "source": [
    "df=data['Adj Close'].pct_change()"
   ]
  },
  {
   "cell_type": "code",
   "execution_count": 13,
   "id": "14bc126a",
   "metadata": {},
   "outputs": [
    {
     "data": {
      "text/plain": [
       "Date\n",
       "2017-01-03         NaN\n",
       "2017-01-04   -0.005076\n",
       "2017-01-05    0.005102\n",
       "2017-01-06   -0.007614\n",
       "2017-01-09   -0.017903\n",
       "                ...   \n",
       "2021-09-24    0.035398\n",
       "2021-09-27    0.017094\n",
       "2021-09-28    0.000000\n",
       "2021-09-29   -0.012605\n",
       "2021-09-30         NaN\n",
       "Name: PTTEP.BK, Length: 1231, dtype: float64"
      ]
     },
     "execution_count": 13,
     "metadata": {},
     "output_type": "execute_result"
    }
   ],
   "source": [
    "df['PTTEP.BK'].shift(-1)"
   ]
  },
  {
   "cell_type": "code",
   "execution_count": 14,
   "id": "d733b7d8",
   "metadata": {},
   "outputs": [],
   "source": [
    "df['PTTEP Shift']=df['PTTEP.BK'].shift(-1)"
   ]
  },
  {
   "cell_type": "code",
   "execution_count": 15,
   "id": "553d4c5c",
   "metadata": {},
   "outputs": [],
   "source": [
    "df.dropna(inplace=True)"
   ]
  },
  {
   "cell_type": "code",
   "execution_count": 16,
   "id": "f0912a75",
   "metadata": {},
   "outputs": [
    {
     "data": {
      "text/html": [
       "<div>\n",
       "<style scoped>\n",
       "    .dataframe tbody tr th:only-of-type {\n",
       "        vertical-align: middle;\n",
       "    }\n",
       "\n",
       "    .dataframe tbody tr th {\n",
       "        vertical-align: top;\n",
       "    }\n",
       "\n",
       "    .dataframe thead th {\n",
       "        text-align: right;\n",
       "    }\n",
       "</style>\n",
       "<table border=\"1\" class=\"dataframe\">\n",
       "  <thead>\n",
       "    <tr style=\"text-align: right;\">\n",
       "      <th></th>\n",
       "      <th>CL=F</th>\n",
       "      <th>PTTEP.BK</th>\n",
       "      <th>PTTEP Shift</th>\n",
       "    </tr>\n",
       "    <tr>\n",
       "      <th>Date</th>\n",
       "      <th></th>\n",
       "      <th></th>\n",
       "      <th></th>\n",
       "    </tr>\n",
       "  </thead>\n",
       "  <tbody>\n",
       "    <tr>\n",
       "      <th>2017-01-05</th>\n",
       "      <td>0.009388</td>\n",
       "      <td>-0.005076</td>\n",
       "      <td>0.005102</td>\n",
       "    </tr>\n",
       "    <tr>\n",
       "      <th>2017-01-06</th>\n",
       "      <td>0.004278</td>\n",
       "      <td>0.005102</td>\n",
       "      <td>-0.007614</td>\n",
       "    </tr>\n",
       "    <tr>\n",
       "      <th>2017-01-09</th>\n",
       "      <td>-0.037600</td>\n",
       "      <td>-0.007614</td>\n",
       "      <td>-0.017903</td>\n",
       "    </tr>\n",
       "    <tr>\n",
       "      <th>2017-01-10</th>\n",
       "      <td>-0.021940</td>\n",
       "      <td>-0.017903</td>\n",
       "      <td>0.005208</td>\n",
       "    </tr>\n",
       "    <tr>\n",
       "      <th>2017-01-11</th>\n",
       "      <td>0.028139</td>\n",
       "      <td>0.005208</td>\n",
       "      <td>0.002591</td>\n",
       "    </tr>\n",
       "    <tr>\n",
       "      <th>...</th>\n",
       "      <td>...</td>\n",
       "      <td>...</td>\n",
       "      <td>...</td>\n",
       "    </tr>\n",
       "    <tr>\n",
       "      <th>2021-09-23</th>\n",
       "      <td>0.014814</td>\n",
       "      <td>0.004445</td>\n",
       "      <td>0.000000</td>\n",
       "    </tr>\n",
       "    <tr>\n",
       "      <th>2021-09-24</th>\n",
       "      <td>0.009277</td>\n",
       "      <td>0.000000</td>\n",
       "      <td>0.035398</td>\n",
       "    </tr>\n",
       "    <tr>\n",
       "      <th>2021-09-27</th>\n",
       "      <td>0.019870</td>\n",
       "      <td>0.035398</td>\n",
       "      <td>0.017094</td>\n",
       "    </tr>\n",
       "    <tr>\n",
       "      <th>2021-09-28</th>\n",
       "      <td>-0.002121</td>\n",
       "      <td>0.017094</td>\n",
       "      <td>0.000000</td>\n",
       "    </tr>\n",
       "    <tr>\n",
       "      <th>2021-09-29</th>\n",
       "      <td>-0.006110</td>\n",
       "      <td>0.000000</td>\n",
       "      <td>-0.012605</td>\n",
       "    </tr>\n",
       "  </tbody>\n",
       "</table>\n",
       "<p>1228 rows × 3 columns</p>\n",
       "</div>"
      ],
      "text/plain": [
       "                CL=F  PTTEP.BK  PTTEP Shift\n",
       "Date                                       \n",
       "2017-01-05  0.009388 -0.005076     0.005102\n",
       "2017-01-06  0.004278  0.005102    -0.007614\n",
       "2017-01-09 -0.037600 -0.007614    -0.017903\n",
       "2017-01-10 -0.021940 -0.017903     0.005208\n",
       "2017-01-11  0.028139  0.005208     0.002591\n",
       "...              ...       ...          ...\n",
       "2021-09-23  0.014814  0.004445     0.000000\n",
       "2021-09-24  0.009277  0.000000     0.035398\n",
       "2021-09-27  0.019870  0.035398     0.017094\n",
       "2021-09-28 -0.002121  0.017094     0.000000\n",
       "2021-09-29 -0.006110  0.000000    -0.012605\n",
       "\n",
       "[1228 rows x 3 columns]"
      ]
     },
     "execution_count": 16,
     "metadata": {},
     "output_type": "execute_result"
    }
   ],
   "source": [
    "df"
   ]
  },
  {
   "cell_type": "code",
   "execution_count": 17,
   "id": "ad7a7581",
   "metadata": {},
   "outputs": [
    {
     "data": {
      "text/plain": [
       "<AxesSubplot:xlabel='CL=F', ylabel='PTTEP Shift'>"
      ]
     },
     "execution_count": 17,
     "metadata": {},
     "output_type": "execute_result"
    },
    {
     "data": {
      "image/png": "[encoded data removed]",
      "text/plain": [
       "<Figure size 640x480 with 1 Axes>"
      ]
     },
     "metadata": {},
     "output_type": "display_data"
    }
   ],
   "source": [
    "df.plot.scatter(x='CL=F',y='PTTEP Shift')"
   ]
  },
  {
   "cell_type": "code",
   "execution_count": null,
   "id": "e628bc59",
   "metadata": {},
   "outputs": [],
   "source": [
    "# clear outliner"
   ]
  },
  {
   "cell_type": "code",
   "execution_count": 22,
   "id": "9722c99c",
   "metadata": {},
   "outputs": [
    {
     "data": {
      "text/html": [
       "<div>\n",
       "<style scoped>\n",
       "    .dataframe tbody tr th:only-of-type {\n",
       "        vertical-align: middle;\n",
       "    }\n",
       "\n",
       "    .dataframe tbody tr th {\n",
       "        vertical-align: top;\n",
       "    }\n",
       "\n",
       "    .dataframe thead th {\n",
       "        text-align: right;\n",
       "    }\n",
       "</style>\n",
       "<table border=\"1\" class=\"dataframe\">\n",
       "  <thead>\n",
       "    <tr style=\"text-align: right;\">\n",
       "      <th></th>\n",
       "      <th>CL=F</th>\n",
       "      <th>PTTEP.BK</th>\n",
       "      <th>PTTEP Shift</th>\n",
       "    </tr>\n",
       "    <tr>\n",
       "      <th>Date</th>\n",
       "      <th></th>\n",
       "      <th></th>\n",
       "      <th></th>\n",
       "    </tr>\n",
       "  </thead>\n",
       "  <tbody>\n",
       "    <tr>\n",
       "      <th>2020-04-20</th>\n",
       "      <td>-3.059661</td>\n",
       "      <td>0.03268</td>\n",
       "      <td>-0.034810</td>\n",
       "    </tr>\n",
       "    <tr>\n",
       "      <th>2020-04-21</th>\n",
       "      <td>-1.266011</td>\n",
       "      <td>-0.03481</td>\n",
       "      <td>-0.019672</td>\n",
       "    </tr>\n",
       "  </tbody>\n",
       "</table>\n",
       "</div>"
      ],
      "text/plain": [
       "                CL=F  PTTEP.BK  PTTEP Shift\n",
       "Date                                       \n",
       "2020-04-20 -3.059661   0.03268    -0.034810\n",
       "2020-04-21 -1.266011  -0.03481    -0.019672"
      ]
     },
     "execution_count": 22,
     "metadata": {},
     "output_type": "execute_result"
    }
   ],
   "source": [
    "df.loc[df['CL=F']<-.5]"
   ]
  },
  {
   "cell_type": "code",
   "execution_count": 23,
   "id": "0b5d03d7",
   "metadata": {},
   "outputs": [],
   "source": [
    "df =df.loc[df['CL=F']>-.5]"
   ]
  },
  {
   "cell_type": "code",
   "execution_count": 24,
   "id": "295be211",
   "metadata": {},
   "outputs": [
    {
     "data": {
      "text/html": [
       "<div>\n",
       "<style scoped>\n",
       "    .dataframe tbody tr th:only-of-type {\n",
       "        vertical-align: middle;\n",
       "    }\n",
       "\n",
       "    .dataframe tbody tr th {\n",
       "        vertical-align: top;\n",
       "    }\n",
       "\n",
       "    .dataframe thead th {\n",
       "        text-align: right;\n",
       "    }\n",
       "</style>\n",
       "<table border=\"1\" class=\"dataframe\">\n",
       "  <thead>\n",
       "    <tr style=\"text-align: right;\">\n",
       "      <th></th>\n",
       "      <th>CL=F</th>\n",
       "      <th>PTTEP.BK</th>\n",
       "      <th>PTTEP Shift</th>\n",
       "    </tr>\n",
       "    <tr>\n",
       "      <th>Date</th>\n",
       "      <th></th>\n",
       "      <th></th>\n",
       "      <th></th>\n",
       "    </tr>\n",
       "  </thead>\n",
       "  <tbody>\n",
       "    <tr>\n",
       "      <th>2017-01-05</th>\n",
       "      <td>0.009388</td>\n",
       "      <td>-0.005076</td>\n",
       "      <td>0.005102</td>\n",
       "    </tr>\n",
       "    <tr>\n",
       "      <th>2017-01-06</th>\n",
       "      <td>0.004278</td>\n",
       "      <td>0.005102</td>\n",
       "      <td>-0.007614</td>\n",
       "    </tr>\n",
       "    <tr>\n",
       "      <th>2017-01-09</th>\n",
       "      <td>-0.037600</td>\n",
       "      <td>-0.007614</td>\n",
       "      <td>-0.017903</td>\n",
       "    </tr>\n",
       "    <tr>\n",
       "      <th>2017-01-10</th>\n",
       "      <td>-0.021940</td>\n",
       "      <td>-0.017903</td>\n",
       "      <td>0.005208</td>\n",
       "    </tr>\n",
       "    <tr>\n",
       "      <th>2017-01-11</th>\n",
       "      <td>0.028139</td>\n",
       "      <td>0.005208</td>\n",
       "      <td>0.002591</td>\n",
       "    </tr>\n",
       "    <tr>\n",
       "      <th>...</th>\n",
       "      <td>...</td>\n",
       "      <td>...</td>\n",
       "      <td>...</td>\n",
       "    </tr>\n",
       "    <tr>\n",
       "      <th>2021-09-23</th>\n",
       "      <td>0.014814</td>\n",
       "      <td>0.004445</td>\n",
       "      <td>0.000000</td>\n",
       "    </tr>\n",
       "    <tr>\n",
       "      <th>2021-09-24</th>\n",
       "      <td>0.009277</td>\n",
       "      <td>0.000000</td>\n",
       "      <td>0.035398</td>\n",
       "    </tr>\n",
       "    <tr>\n",
       "      <th>2021-09-27</th>\n",
       "      <td>0.019870</td>\n",
       "      <td>0.035398</td>\n",
       "      <td>0.017094</td>\n",
       "    </tr>\n",
       "    <tr>\n",
       "      <th>2021-09-28</th>\n",
       "      <td>-0.002121</td>\n",
       "      <td>0.017094</td>\n",
       "      <td>0.000000</td>\n",
       "    </tr>\n",
       "    <tr>\n",
       "      <th>2021-09-29</th>\n",
       "      <td>-0.006110</td>\n",
       "      <td>0.000000</td>\n",
       "      <td>-0.012605</td>\n",
       "    </tr>\n",
       "  </tbody>\n",
       "</table>\n",
       "<p>1226 rows × 3 columns</p>\n",
       "</div>"
      ],
      "text/plain": [
       "                CL=F  PTTEP.BK  PTTEP Shift\n",
       "Date                                       \n",
       "2017-01-05  0.009388 -0.005076     0.005102\n",
       "2017-01-06  0.004278  0.005102    -0.007614\n",
       "2017-01-09 -0.037600 -0.007614    -0.017903\n",
       "2017-01-10 -0.021940 -0.017903     0.005208\n",
       "2017-01-11  0.028139  0.005208     0.002591\n",
       "...              ...       ...          ...\n",
       "2021-09-23  0.014814  0.004445     0.000000\n",
       "2021-09-24  0.009277  0.000000     0.035398\n",
       "2021-09-27  0.019870  0.035398     0.017094\n",
       "2021-09-28 -0.002121  0.017094     0.000000\n",
       "2021-09-29 -0.006110  0.000000    -0.012605\n",
       "\n",
       "[1226 rows x 3 columns]"
      ]
     },
     "execution_count": 24,
     "metadata": {},
     "output_type": "execute_result"
    }
   ],
   "source": [
    "df"
   ]
  },
  {
   "cell_type": "code",
   "execution_count": 25,
   "id": "04fdfbfb",
   "metadata": {},
   "outputs": [
    {
     "data": {
      "text/plain": [
       "<AxesSubplot:xlabel='CL=F', ylabel='PTTEP Shift'>"
      ]
     },
     "execution_count": 25,
     "metadata": {},
     "output_type": "execute_result"
    },
    {
     "data": {
      "image/png": "[encoded data removed]",
      "text/plain": [
       "<Figure size 640x480 with 1 Axes>"
      ]
     },
     "metadata": {},
     "output_type": "display_data"
    }
   ],
   "source": [
    "df.plot.scatter(x='CL=F',y='PTTEP Shift')"
   ]
  },
  {
   "cell_type": "code",
   "execution_count": 26,
   "id": "3529feee",
   "metadata": {},
   "outputs": [
    {
     "data": {
      "text/plain": [
       "<AxesSubplot:xlabel='Date'>"
      ]
     },
     "execution_count": 26,
     "metadata": {},
     "output_type": "execute_result"
    },
    {
     "data": {
      "image/png": "[encoded data removed]",
      "text/plain": [
       "<Figure size 640x480 with 1 Axes>"
      ]
     },
     "metadata": {},
     "output_type": "display_data"
    }
   ],
   "source": [
    "df.plot()"
   ]
  },
  {
   "cell_type": "code",
   "execution_count": 27,
   "id": "1abe7545",
   "metadata": {},
   "outputs": [
    {
     "data": {
      "text/plain": [
       "<AxesSubplot:xlabel='Date'>"
      ]
     },
     "execution_count": 27,
     "metadata": {},
     "output_type": "execute_result"
    },
    {
     "data": {
      "image/png": "[encoded data removed]",
      "text/plain": [
       "<Figure size 640x480 with 1 Axes>"
      ]
     },
     "metadata": {},
     "output_type": "display_data"
    }
   ],
   "source": [
    "df.loc['2020-04-15':'2020-06-01'].plot()"
   ]
  },
  {
   "cell_type": "code",
   "execution_count": 28,
   "id": "f33da413",
   "metadata": {},
   "outputs": [
    {
     "name": "stderr",
     "output_type": "stream",
     "text": [
      "/var/folders/0j/079zvm2s3dxclvzgz86_k33m0000gn/T/ipykernel_65421/2264704435.py:1: FutureWarning: The frame.append method is deprecated and will be removed from pandas in a future version. Use pandas.concat instead.\n",
      "  df_clean = df.loc[:'2020-04-13'].append(df.loc['2020-05-10':])\n"
     ]
    }
   ],
   "source": [
    "df_clean = df.loc[:'2020-04-13'].append(df.loc['2020-05-10':])"
   ]
  },
  {
   "cell_type": "code",
   "execution_count": 29,
   "id": "1b70aa8e",
   "metadata": {},
   "outputs": [
    {
     "data": {
      "text/html": [
       "<div>\n",
       "<style scoped>\n",
       "    .dataframe tbody tr th:only-of-type {\n",
       "        vertical-align: middle;\n",
       "    }\n",
       "\n",
       "    .dataframe tbody tr th {\n",
       "        vertical-align: top;\n",
       "    }\n",
       "\n",
       "    .dataframe thead th {\n",
       "        text-align: right;\n",
       "    }\n",
       "</style>\n",
       "<table border=\"1\" class=\"dataframe\">\n",
       "  <thead>\n",
       "    <tr style=\"text-align: right;\">\n",
       "      <th></th>\n",
       "      <th>CL=F</th>\n",
       "      <th>PTTEP.BK</th>\n",
       "      <th>PTTEP Shift</th>\n",
       "    </tr>\n",
       "    <tr>\n",
       "      <th>Date</th>\n",
       "      <th></th>\n",
       "      <th></th>\n",
       "      <th></th>\n",
       "    </tr>\n",
       "  </thead>\n",
       "  <tbody>\n",
       "    <tr>\n",
       "      <th>2020-04-13</th>\n",
       "      <td>-0.015378</td>\n",
       "      <td>-0.003135</td>\n",
       "      <td>0.012579</td>\n",
       "    </tr>\n",
       "    <tr>\n",
       "      <th>2020-05-11</th>\n",
       "      <td>-0.024252</td>\n",
       "      <td>0.000000</td>\n",
       "      <td>0.012048</td>\n",
       "    </tr>\n",
       "    <tr>\n",
       "      <th>2020-05-12</th>\n",
       "      <td>0.067937</td>\n",
       "      <td>0.012048</td>\n",
       "      <td>-0.005953</td>\n",
       "    </tr>\n",
       "    <tr>\n",
       "      <th>2020-05-13</th>\n",
       "      <td>-0.019007</td>\n",
       "      <td>-0.005953</td>\n",
       "      <td>-0.020958</td>\n",
       "    </tr>\n",
       "    <tr>\n",
       "      <th>2020-05-14</th>\n",
       "      <td>0.089759</td>\n",
       "      <td>-0.020958</td>\n",
       "      <td>0.021407</td>\n",
       "    </tr>\n",
       "    <tr>\n",
       "      <th>2020-05-15</th>\n",
       "      <td>0.067852</td>\n",
       "      <td>0.021407</td>\n",
       "      <td>0.023952</td>\n",
       "    </tr>\n",
       "    <tr>\n",
       "      <th>2020-05-18</th>\n",
       "      <td>0.081210</td>\n",
       "      <td>0.023952</td>\n",
       "      <td>0.029240</td>\n",
       "    </tr>\n",
       "    <tr>\n",
       "      <th>2020-05-19</th>\n",
       "      <td>0.021370</td>\n",
       "      <td>0.029240</td>\n",
       "      <td>0.005682</td>\n",
       "    </tr>\n",
       "    <tr>\n",
       "      <th>2020-05-20</th>\n",
       "      <td>0.030462</td>\n",
       "      <td>0.005682</td>\n",
       "      <td>0.005650</td>\n",
       "    </tr>\n",
       "  </tbody>\n",
       "</table>\n",
       "</div>"
      ],
      "text/plain": [
       "                CL=F  PTTEP.BK  PTTEP Shift\n",
       "Date                                       \n",
       "2020-04-13 -0.015378 -0.003135     0.012579\n",
       "2020-05-11 -0.024252  0.000000     0.012048\n",
       "2020-05-12  0.067937  0.012048    -0.005953\n",
       "2020-05-13 -0.019007 -0.005953    -0.020958\n",
       "2020-05-14  0.089759 -0.020958     0.021407\n",
       "2020-05-15  0.067852  0.021407     0.023952\n",
       "2020-05-18  0.081210  0.023952     0.029240\n",
       "2020-05-19  0.021370  0.029240     0.005682\n",
       "2020-05-20  0.030462  0.005682     0.005650"
      ]
     },
     "execution_count": 29,
     "metadata": {},
     "output_type": "execute_result"
    }
   ],
   "source": [
    "df_clean.loc['2020-04-12':'2020-05-20']"
   ]
  },
  {
   "cell_type": "code",
   "execution_count": 30,
   "id": "7460caa9",
   "metadata": {},
   "outputs": [
    {
     "data": {
      "text/plain": [
       "<AxesSubplot:xlabel='Date'>"
      ]
     },
     "execution_count": 30,
     "metadata": {},
     "output_type": "execute_result"
    },
    {
     "data": {
      "image/png": "[encoded data removed]",
      "text/plain": [
       "<Figure size 640x480 with 1 Axes>"
      ]
     },
     "metadata": {},
     "output_type": "display_data"
    }
   ],
   "source": [
    "df_clean.plot()"
   ]
  },
  {
   "cell_type": "code",
   "execution_count": 31,
   "id": "637baf5d",
   "metadata": {},
   "outputs": [
    {
     "data": {
      "text/plain": [
       "<AxesSubplot:xlabel='CL=F', ylabel='PTTEP Shift'>"
      ]
     },
     "execution_count": 31,
     "metadata": {},
     "output_type": "execute_result"
    },
    {
     "data": {
      "image/png": "[encoded data removed]",
      "text/plain": [
       "<Figure size 640x480 with 1 Axes>"
      ]
     },
     "metadata": {},
     "output_type": "display_data"
    }
   ],
   "source": [
    "df.plot.scatter(x='CL=F',y='PTTEP Shift')"
   ]
  },
  {
   "cell_type": "code",
   "execution_count": 34,
   "id": "f59e335d",
   "metadata": {},
   "outputs": [],
   "source": [
    "#create linear regression line\n",
    "X= df_clean['CL=F']\n",
    "y=df_clean['PTTEP Shift']\n",
    "m,c=np.polyfit(X,y,1)"
   ]
  },
  {
   "cell_type": "code",
   "execution_count": 35,
   "id": "ce1347f9",
   "metadata": {},
   "outputs": [
    {
     "data": {
      "text/plain": [
       "[<matplotlib.lines.Line2D at 0x7f7e41112310>]"
      ]
     },
     "execution_count": 35,
     "metadata": {},
     "output_type": "execute_result"
    },
    {
     "data": {
      "image/png": "[encoded data removed]",
      "text/plain": [
       "<Figure size 640x480 with 1 Axes>"
      ]
     },
     "metadata": {},
     "output_type": "display_data"
    }
   ],
   "source": [
    "df_clean.plot.scatter(x='CL=F',y='PTTEP Shift', c='k')\n",
    "plt.plot(X,m*X+c)"
   ]
  },
  {
   "cell_type": "code",
   "execution_count": 36,
   "id": "b3b28d00",
   "metadata": {},
   "outputs": [],
   "source": [
    "df_clean.drop('PTTEP.BK',axis=1,inplace=True)"
   ]
  },
  {
   "cell_type": "code",
   "execution_count": 37,
   "id": "ed675052",
   "metadata": {},
   "outputs": [],
   "source": [
    "Lower_limit = df_clean.quantile(0.01)\n",
    "Upper_limit=df_clean.quantile(0.99)"
   ]
  },
  {
   "cell_type": "code",
   "execution_count": 38,
   "id": "8709cb59",
   "metadata": {},
   "outputs": [
    {
     "data": {
      "text/plain": [
       "(CL=F          -0.075635\n",
       " PTTEP Shift   -0.053263\n",
       " Name: 0.01, dtype: float64,\n",
       " CL=F           0.059159\n",
       " PTTEP Shift    0.064666\n",
       " Name: 0.99, dtype: float64)"
      ]
     },
     "execution_count": 38,
     "metadata": {},
     "output_type": "execute_result"
    }
   ],
   "source": [
    "Lower_limit,Upper_limit"
   ]
  },
  {
   "cell_type": "code",
   "execution_count": 39,
   "id": "de236808",
   "metadata": {},
   "outputs": [
    {
     "data": {
      "text/html": [
       "<div>\n",
       "<style scoped>\n",
       "    .dataframe tbody tr th:only-of-type {\n",
       "        vertical-align: middle;\n",
       "    }\n",
       "\n",
       "    .dataframe tbody tr th {\n",
       "        vertical-align: top;\n",
       "    }\n",
       "\n",
       "    .dataframe thead th {\n",
       "        text-align: right;\n",
       "    }\n",
       "</style>\n",
       "<table border=\"1\" class=\"dataframe\">\n",
       "  <thead>\n",
       "    <tr style=\"text-align: right;\">\n",
       "      <th></th>\n",
       "      <th>CL=F</th>\n",
       "      <th>PTTEP Shift</th>\n",
       "    </tr>\n",
       "    <tr>\n",
       "      <th>Date</th>\n",
       "      <th></th>\n",
       "      <th></th>\n",
       "    </tr>\n",
       "  </thead>\n",
       "  <tbody>\n",
       "    <tr>\n",
       "      <th>2017-01-05</th>\n",
       "      <td>False</td>\n",
       "      <td>False</td>\n",
       "    </tr>\n",
       "    <tr>\n",
       "      <th>2017-01-06</th>\n",
       "      <td>False</td>\n",
       "      <td>False</td>\n",
       "    </tr>\n",
       "    <tr>\n",
       "      <th>2017-01-09</th>\n",
       "      <td>False</td>\n",
       "      <td>False</td>\n",
       "    </tr>\n",
       "    <tr>\n",
       "      <th>2017-01-10</th>\n",
       "      <td>False</td>\n",
       "      <td>False</td>\n",
       "    </tr>\n",
       "    <tr>\n",
       "      <th>2017-01-11</th>\n",
       "      <td>False</td>\n",
       "      <td>False</td>\n",
       "    </tr>\n",
       "    <tr>\n",
       "      <th>...</th>\n",
       "      <td>...</td>\n",
       "      <td>...</td>\n",
       "    </tr>\n",
       "    <tr>\n",
       "      <th>2021-09-23</th>\n",
       "      <td>False</td>\n",
       "      <td>False</td>\n",
       "    </tr>\n",
       "    <tr>\n",
       "      <th>2021-09-24</th>\n",
       "      <td>False</td>\n",
       "      <td>False</td>\n",
       "    </tr>\n",
       "    <tr>\n",
       "      <th>2021-09-27</th>\n",
       "      <td>False</td>\n",
       "      <td>False</td>\n",
       "    </tr>\n",
       "    <tr>\n",
       "      <th>2021-09-28</th>\n",
       "      <td>False</td>\n",
       "      <td>False</td>\n",
       "    </tr>\n",
       "    <tr>\n",
       "      <th>2021-09-29</th>\n",
       "      <td>False</td>\n",
       "      <td>False</td>\n",
       "    </tr>\n",
       "  </tbody>\n",
       "</table>\n",
       "<p>1209 rows × 2 columns</p>\n",
       "</div>"
      ],
      "text/plain": [
       "             CL=F  PTTEP Shift\n",
       "Date                          \n",
       "2017-01-05  False        False\n",
       "2017-01-06  False        False\n",
       "2017-01-09  False        False\n",
       "2017-01-10  False        False\n",
       "2017-01-11  False        False\n",
       "...           ...          ...\n",
       "2021-09-23  False        False\n",
       "2021-09-24  False        False\n",
       "2021-09-27  False        False\n",
       "2021-09-28  False        False\n",
       "2021-09-29  False        False\n",
       "\n",
       "[1209 rows x 2 columns]"
      ]
     },
     "execution_count": 39,
     "metadata": {},
     "output_type": "execute_result"
    }
   ],
   "source": [
    "(df_clean < Lower_limit)| (df_clean>Upper_limit)"
   ]
  },
  {
   "cell_type": "code",
   "execution_count": 41,
   "id": "9f150076",
   "metadata": {},
   "outputs": [],
   "source": [
    "df_cleaner=df_clean[~((df_clean < Lower_limit)| (df_clean > Upper_limit)).any(1)]"
   ]
  },
  {
   "cell_type": "code",
   "execution_count": 42,
   "id": "8a316b14",
   "metadata": {},
   "outputs": [
    {
     "data": {
      "text/html": [
       "<div>\n",
       "<style scoped>\n",
       "    .dataframe tbody tr th:only-of-type {\n",
       "        vertical-align: middle;\n",
       "    }\n",
       "\n",
       "    .dataframe tbody tr th {\n",
       "        vertical-align: top;\n",
       "    }\n",
       "\n",
       "    .dataframe thead th {\n",
       "        text-align: right;\n",
       "    }\n",
       "</style>\n",
       "<table border=\"1\" class=\"dataframe\">\n",
       "  <thead>\n",
       "    <tr style=\"text-align: right;\">\n",
       "      <th></th>\n",
       "      <th>CL=F</th>\n",
       "      <th>PTTEP Shift</th>\n",
       "    </tr>\n",
       "    <tr>\n",
       "      <th>Date</th>\n",
       "      <th></th>\n",
       "      <th></th>\n",
       "    </tr>\n",
       "  </thead>\n",
       "  <tbody>\n",
       "    <tr>\n",
       "      <th>2017-01-05</th>\n",
       "      <td>0.009388</td>\n",
       "      <td>0.005102</td>\n",
       "    </tr>\n",
       "    <tr>\n",
       "      <th>2017-01-06</th>\n",
       "      <td>0.004278</td>\n",
       "      <td>-0.007614</td>\n",
       "    </tr>\n",
       "    <tr>\n",
       "      <th>2017-01-09</th>\n",
       "      <td>-0.037600</td>\n",
       "      <td>-0.017903</td>\n",
       "    </tr>\n",
       "    <tr>\n",
       "      <th>2017-01-10</th>\n",
       "      <td>-0.021940</td>\n",
       "      <td>0.005208</td>\n",
       "    </tr>\n",
       "    <tr>\n",
       "      <th>2017-01-11</th>\n",
       "      <td>0.028139</td>\n",
       "      <td>0.002591</td>\n",
       "    </tr>\n",
       "    <tr>\n",
       "      <th>...</th>\n",
       "      <td>...</td>\n",
       "      <td>...</td>\n",
       "    </tr>\n",
       "    <tr>\n",
       "      <th>2021-09-23</th>\n",
       "      <td>0.014814</td>\n",
       "      <td>0.000000</td>\n",
       "    </tr>\n",
       "    <tr>\n",
       "      <th>2021-09-24</th>\n",
       "      <td>0.009277</td>\n",
       "      <td>0.035398</td>\n",
       "    </tr>\n",
       "    <tr>\n",
       "      <th>2021-09-27</th>\n",
       "      <td>0.019870</td>\n",
       "      <td>0.017094</td>\n",
       "    </tr>\n",
       "    <tr>\n",
       "      <th>2021-09-28</th>\n",
       "      <td>-0.002121</td>\n",
       "      <td>0.000000</td>\n",
       "    </tr>\n",
       "    <tr>\n",
       "      <th>2021-09-29</th>\n",
       "      <td>-0.006110</td>\n",
       "      <td>-0.012605</td>\n",
       "    </tr>\n",
       "  </tbody>\n",
       "</table>\n",
       "<p>1163 rows × 2 columns</p>\n",
       "</div>"
      ],
      "text/plain": [
       "                CL=F  PTTEP Shift\n",
       "Date                             \n",
       "2017-01-05  0.009388     0.005102\n",
       "2017-01-06  0.004278    -0.007614\n",
       "2017-01-09 -0.037600    -0.017903\n",
       "2017-01-10 -0.021940     0.005208\n",
       "2017-01-11  0.028139     0.002591\n",
       "...              ...          ...\n",
       "2021-09-23  0.014814     0.000000\n",
       "2021-09-24  0.009277     0.035398\n",
       "2021-09-27  0.019870     0.017094\n",
       "2021-09-28 -0.002121     0.000000\n",
       "2021-09-29 -0.006110    -0.012605\n",
       "\n",
       "[1163 rows x 2 columns]"
      ]
     },
     "execution_count": 42,
     "metadata": {},
     "output_type": "execute_result"
    }
   ],
   "source": [
    "df_cleaner"
   ]
  },
  {
   "cell_type": "code",
   "execution_count": 43,
   "id": "425474be",
   "metadata": {},
   "outputs": [
    {
     "data": {
      "text/plain": [
       "<AxesSubplot:xlabel='CL=F', ylabel='PTTEP Shift'>"
      ]
     },
     "execution_count": 43,
     "metadata": {},
     "output_type": "execute_result"
    },
    {
     "data": {
      "image/png": "[encoded data removed]",
      "text/plain": [
       "<Figure size 640x480 with 1 Axes>"
      ]
     },
     "metadata": {},
     "output_type": "display_data"
    }
   ],
   "source": [
    "df_cleaner.plot.scatter(x='CL=F',y='PTTEP Shift', c='k')\n"
   ]
  },
  {
   "cell_type": "code",
   "execution_count": 46,
   "id": "ef99e1c5",
   "metadata": {},
   "outputs": [
    {
     "data": {
      "text/plain": [
       "[<matplotlib.lines.Line2D at 0x7f7e40f1b610>]"
      ]
     },
     "execution_count": 46,
     "metadata": {},
     "output_type": "execute_result"
    },
    {
     "data": {
      "image/png": "[encoded data removed]",
      "text/plain": [
       "<Figure size 640x480 with 1 Axes>"
      ]
     },
     "metadata": {},
     "output_type": "display_data"
    }
   ],
   "source": [
    "#create linear regression line\n",
    "X= df_cleaner['CL=F']\n",
    "y=df_cleaner['PTTEP Shift']\n",
    "m,c=np.polyfit(X,y,1)\n",
    "df_cleaner.plot.scatter(x='CL=F',y='PTTEP Shift', )\n",
    "plt.plot(X,m*X+c,color='k')"
   ]
  },
  {
   "cell_type": "code",
   "execution_count": 47,
   "id": "e5728c51",
   "metadata": {},
   "outputs": [
    {
     "name": "stdout",
     "output_type": "stream",
     "text": [
      "slope =0.24668086028044284\n",
      "intercept =0.0005534681967951976\n"
     ]
    }
   ],
   "source": [
    "print('slope ='+str(m))\n",
    "print('intercept ='+str(c))"
   ]
  },
  {
   "cell_type": "code",
   "execution_count": 48,
   "id": "0b9e1382",
   "metadata": {},
   "outputs": [
    {
     "data": {
      "text/html": [
       "<div>\n",
       "<style scoped>\n",
       "    .dataframe tbody tr th:only-of-type {\n",
       "        vertical-align: middle;\n",
       "    }\n",
       "\n",
       "    .dataframe tbody tr th {\n",
       "        vertical-align: top;\n",
       "    }\n",
       "\n",
       "    .dataframe thead th {\n",
       "        text-align: right;\n",
       "    }\n",
       "</style>\n",
       "<table border=\"1\" class=\"dataframe\">\n",
       "  <thead>\n",
       "    <tr style=\"text-align: right;\">\n",
       "      <th></th>\n",
       "      <th>CL=F</th>\n",
       "      <th>PTTEP Shift</th>\n",
       "    </tr>\n",
       "  </thead>\n",
       "  <tbody>\n",
       "    <tr>\n",
       "      <th>CL=F</th>\n",
       "      <td>1.000000</td>\n",
       "      <td>0.297379</td>\n",
       "    </tr>\n",
       "    <tr>\n",
       "      <th>PTTEP Shift</th>\n",
       "      <td>0.297379</td>\n",
       "      <td>1.000000</td>\n",
       "    </tr>\n",
       "  </tbody>\n",
       "</table>\n",
       "</div>"
      ],
      "text/plain": [
       "                 CL=F  PTTEP Shift\n",
       "CL=F         1.000000     0.297379\n",
       "PTTEP Shift  0.297379     1.000000"
      ]
     },
     "execution_count": 48,
     "metadata": {},
     "output_type": "execute_result"
    }
   ],
   "source": [
    "df_cleaner.corr()"
   ]
  },
  {
   "cell_type": "code",
   "execution_count": 49,
   "id": "8982ba70",
   "metadata": {},
   "outputs": [
    {
     "data": {
      "text/plain": [
       "<AxesSubplot:xlabel='Date'>"
      ]
     },
     "execution_count": 49,
     "metadata": {},
     "output_type": "execute_result"
    },
    {
     "data": {
      "image/png": "[encoded data removed]",
      "text/plain": [
       "<Figure size 640x480 with 1 Axes>"
      ]
     },
     "metadata": {},
     "output_type": "display_data"
    }
   ],
   "source": [
    "df_cleaner['CL=F'].rolling(60).corr(df_cleaner['PTTEP Shift']).plot()"
   ]
  },
  {
   "cell_type": "code",
   "execution_count": 50,
   "id": "68925b66",
   "metadata": {},
   "outputs": [
    {
     "data": {
      "text/plain": [
       "<AxesSubplot:xlabel='Date'>"
      ]
     },
     "execution_count": 50,
     "metadata": {},
     "output_type": "execute_result"
    },
    {
     "data": {
      "image/png": "[encoded data removed]",
      "text/plain": [
       "<Figure size 640x480 with 1 Axes>"
      ]
     },
     "metadata": {},
     "output_type": "display_data"
    }
   ],
   "source": [
    "df['CL=F'].rolling(60).corr(df['PTTEP.BK']).plot()"
   ]
  },
  {
   "cell_type": "code",
   "execution_count": 51,
   "id": "51591d84",
   "metadata": {},
   "outputs": [],
   "source": [
    "from sklearn.linear_model import LinearRegression\n",
    "from sklearn.model_selection import train_test_split\n",
    "from sklearn.preprocessing import scale\n",
    "from sklearn import metrics"
   ]
  },
  {
   "cell_type": "code",
   "execution_count": 52,
   "id": "5f8c9e31",
   "metadata": {},
   "outputs": [
    {
     "name": "stdout",
     "output_type": "stream",
     "text": [
      "[*********************100%***********************]  5 of 5 completed\n"
     ]
    }
   ],
   "source": [
    "data= yf.download('CL=F PTTEP.BK GPSC.BK PTTGC.BK PTT.BK',start=start,end=end)"
   ]
  },
  {
   "cell_type": "code",
   "execution_count": 53,
   "id": "f2fe38bc",
   "metadata": {},
   "outputs": [],
   "source": [
    "df=data['Adj Close']"
   ]
  },
  {
   "cell_type": "code",
   "execution_count": 54,
   "id": "2e06bdbc",
   "metadata": {},
   "outputs": [
    {
     "data": {
      "text/html": [
       "<div>\n",
       "<style scoped>\n",
       "    .dataframe tbody tr th:only-of-type {\n",
       "        vertical-align: middle;\n",
       "    }\n",
       "\n",
       "    .dataframe tbody tr th {\n",
       "        vertical-align: top;\n",
       "    }\n",
       "\n",
       "    .dataframe thead th {\n",
       "        text-align: right;\n",
       "    }\n",
       "</style>\n",
       "<table border=\"1\" class=\"dataframe\">\n",
       "  <thead>\n",
       "    <tr style=\"text-align: right;\">\n",
       "      <th></th>\n",
       "      <th>CL=F</th>\n",
       "      <th>GPSC.BK</th>\n",
       "      <th>PTT.BK</th>\n",
       "      <th>PTTEP.BK</th>\n",
       "      <th>PTTGC.BK</th>\n",
       "    </tr>\n",
       "    <tr>\n",
       "      <th>Date</th>\n",
       "      <th></th>\n",
       "      <th></th>\n",
       "      <th></th>\n",
       "      <th></th>\n",
       "      <th></th>\n",
       "    </tr>\n",
       "  </thead>\n",
       "  <tbody>\n",
       "    <tr>\n",
       "      <th>2017-01-03</th>\n",
       "      <td>52.330002</td>\n",
       "      <td>NaN</td>\n",
       "      <td>NaN</td>\n",
       "      <td>NaN</td>\n",
       "      <td>NaN</td>\n",
       "    </tr>\n",
       "    <tr>\n",
       "      <th>2017-01-04</th>\n",
       "      <td>53.259998</td>\n",
       "      <td>29.146652</td>\n",
       "      <td>29.128029</td>\n",
       "      <td>74.474815</td>\n",
       "      <td>48.913532</td>\n",
       "    </tr>\n",
       "    <tr>\n",
       "      <th>2017-01-05</th>\n",
       "      <td>53.759998</td>\n",
       "      <td>28.555843</td>\n",
       "      <td>29.664600</td>\n",
       "      <td>74.096771</td>\n",
       "      <td>49.104599</td>\n",
       "    </tr>\n",
       "    <tr>\n",
       "      <th>2017-01-06</th>\n",
       "      <td>53.990002</td>\n",
       "      <td>28.555843</td>\n",
       "      <td>29.817902</td>\n",
       "      <td>74.474815</td>\n",
       "      <td>48.913532</td>\n",
       "    </tr>\n",
       "    <tr>\n",
       "      <th>2017-01-09</th>\n",
       "      <td>51.959999</td>\n",
       "      <td>28.555843</td>\n",
       "      <td>29.357981</td>\n",
       "      <td>73.907753</td>\n",
       "      <td>48.340332</td>\n",
       "    </tr>\n",
       "    <tr>\n",
       "      <th>...</th>\n",
       "      <td>...</td>\n",
       "      <td>...</td>\n",
       "      <td>...</td>\n",
       "      <td>...</td>\n",
       "      <td>...</td>\n",
       "    </tr>\n",
       "    <tr>\n",
       "      <th>2021-09-24</th>\n",
       "      <td>73.980003</td>\n",
       "      <td>NaN</td>\n",
       "      <td>NaN</td>\n",
       "      <td>NaN</td>\n",
       "      <td>NaN</td>\n",
       "    </tr>\n",
       "    <tr>\n",
       "      <th>2021-09-27</th>\n",
       "      <td>75.449997</td>\n",
       "      <td>75.753326</td>\n",
       "      <td>37.146832</td>\n",
       "      <td>111.294357</td>\n",
       "      <td>58.820950</td>\n",
       "    </tr>\n",
       "    <tr>\n",
       "      <th>2021-09-28</th>\n",
       "      <td>75.290001</td>\n",
       "      <td>75.015472</td>\n",
       "      <td>37.146832</td>\n",
       "      <td>113.196823</td>\n",
       "      <td>60.726086</td>\n",
       "    </tr>\n",
       "    <tr>\n",
       "      <th>2021-09-29</th>\n",
       "      <td>74.830002</td>\n",
       "      <td>75.015472</td>\n",
       "      <td>37.099571</td>\n",
       "      <td>113.196823</td>\n",
       "      <td>60.249802</td>\n",
       "    </tr>\n",
       "    <tr>\n",
       "      <th>2021-09-30</th>\n",
       "      <td>75.029999</td>\n",
       "      <td>74.277611</td>\n",
       "      <td>36.863266</td>\n",
       "      <td>111.769974</td>\n",
       "      <td>60.249802</td>\n",
       "    </tr>\n",
       "  </tbody>\n",
       "</table>\n",
       "<p>1231 rows × 5 columns</p>\n",
       "</div>"
      ],
      "text/plain": [
       "                 CL=F    GPSC.BK     PTT.BK    PTTEP.BK   PTTGC.BK\n",
       "Date                                                              \n",
       "2017-01-03  52.330002        NaN        NaN         NaN        NaN\n",
       "2017-01-04  53.259998  29.146652  29.128029   74.474815  48.913532\n",
       "2017-01-05  53.759998  28.555843  29.664600   74.096771  49.104599\n",
       "2017-01-06  53.990002  28.555843  29.817902   74.474815  48.913532\n",
       "2017-01-09  51.959999  28.555843  29.357981   73.907753  48.340332\n",
       "...               ...        ...        ...         ...        ...\n",
       "2021-09-24  73.980003        NaN        NaN         NaN        NaN\n",
       "2021-09-27  75.449997  75.753326  37.146832  111.294357  58.820950\n",
       "2021-09-28  75.290001  75.015472  37.146832  113.196823  60.726086\n",
       "2021-09-29  74.830002  75.015472  37.099571  113.196823  60.249802\n",
       "2021-09-30  75.029999  74.277611  36.863266  111.769974  60.249802\n",
       "\n",
       "[1231 rows x 5 columns]"
      ]
     },
     "execution_count": 54,
     "metadata": {},
     "output_type": "execute_result"
    }
   ],
   "source": [
    "df"
   ]
  },
  {
   "cell_type": "code",
   "execution_count": 55,
   "id": "427d031f",
   "metadata": {},
   "outputs": [],
   "source": [
    "df=df.fillna(method='ffill').pct_change().dropna()"
   ]
  },
  {
   "cell_type": "code",
   "execution_count": 56,
   "id": "641b630e",
   "metadata": {},
   "outputs": [
    {
     "data": {
      "text/html": [
       "<div>\n",
       "<style scoped>\n",
       "    .dataframe tbody tr th:only-of-type {\n",
       "        vertical-align: middle;\n",
       "    }\n",
       "\n",
       "    .dataframe tbody tr th {\n",
       "        vertical-align: top;\n",
       "    }\n",
       "\n",
       "    .dataframe thead th {\n",
       "        text-align: right;\n",
       "    }\n",
       "</style>\n",
       "<table border=\"1\" class=\"dataframe\">\n",
       "  <thead>\n",
       "    <tr style=\"text-align: right;\">\n",
       "      <th></th>\n",
       "      <th>CL=F</th>\n",
       "      <th>GPSC.BK</th>\n",
       "      <th>PTT.BK</th>\n",
       "      <th>PTTEP.BK</th>\n",
       "      <th>PTTGC.BK</th>\n",
       "    </tr>\n",
       "    <tr>\n",
       "      <th>Date</th>\n",
       "      <th></th>\n",
       "      <th></th>\n",
       "      <th></th>\n",
       "      <th></th>\n",
       "      <th></th>\n",
       "    </tr>\n",
       "  </thead>\n",
       "  <tbody>\n",
       "    <tr>\n",
       "      <th>2017-01-05</th>\n",
       "      <td>0.009388</td>\n",
       "      <td>-0.020270</td>\n",
       "      <td>0.018421</td>\n",
       "      <td>-0.005076</td>\n",
       "      <td>0.003906</td>\n",
       "    </tr>\n",
       "    <tr>\n",
       "      <th>2017-01-06</th>\n",
       "      <td>0.004278</td>\n",
       "      <td>0.000000</td>\n",
       "      <td>0.005168</td>\n",
       "      <td>0.005102</td>\n",
       "      <td>-0.003891</td>\n",
       "    </tr>\n",
       "    <tr>\n",
       "      <th>2017-01-09</th>\n",
       "      <td>-0.037600</td>\n",
       "      <td>0.000000</td>\n",
       "      <td>-0.015424</td>\n",
       "      <td>-0.007614</td>\n",
       "      <td>-0.011719</td>\n",
       "    </tr>\n",
       "    <tr>\n",
       "      <th>2017-01-10</th>\n",
       "      <td>-0.021940</td>\n",
       "      <td>0.006896</td>\n",
       "      <td>0.013055</td>\n",
       "      <td>-0.017903</td>\n",
       "      <td>0.003952</td>\n",
       "    </tr>\n",
       "    <tr>\n",
       "      <th>2017-01-11</th>\n",
       "      <td>0.028139</td>\n",
       "      <td>0.006849</td>\n",
       "      <td>-0.007732</td>\n",
       "      <td>0.005208</td>\n",
       "      <td>-0.003937</td>\n",
       "    </tr>\n",
       "    <tr>\n",
       "      <th>...</th>\n",
       "      <td>...</td>\n",
       "      <td>...</td>\n",
       "      <td>...</td>\n",
       "      <td>...</td>\n",
       "      <td>...</td>\n",
       "    </tr>\n",
       "    <tr>\n",
       "      <th>2021-09-24</th>\n",
       "      <td>0.009277</td>\n",
       "      <td>0.000000</td>\n",
       "      <td>0.000000</td>\n",
       "      <td>0.000000</td>\n",
       "      <td>0.000000</td>\n",
       "    </tr>\n",
       "    <tr>\n",
       "      <th>2021-09-27</th>\n",
       "      <td>0.019870</td>\n",
       "      <td>-0.012821</td>\n",
       "      <td>0.012500</td>\n",
       "      <td>0.035398</td>\n",
       "      <td>0.020661</td>\n",
       "    </tr>\n",
       "    <tr>\n",
       "      <th>2021-09-28</th>\n",
       "      <td>-0.002121</td>\n",
       "      <td>-0.009740</td>\n",
       "      <td>0.000000</td>\n",
       "      <td>0.017094</td>\n",
       "      <td>0.032389</td>\n",
       "    </tr>\n",
       "    <tr>\n",
       "      <th>2021-09-29</th>\n",
       "      <td>-0.006110</td>\n",
       "      <td>0.000000</td>\n",
       "      <td>-0.001272</td>\n",
       "      <td>0.000000</td>\n",
       "      <td>-0.007843</td>\n",
       "    </tr>\n",
       "    <tr>\n",
       "      <th>2021-09-30</th>\n",
       "      <td>0.002673</td>\n",
       "      <td>-0.009836</td>\n",
       "      <td>-0.006369</td>\n",
       "      <td>-0.012605</td>\n",
       "      <td>0.000000</td>\n",
       "    </tr>\n",
       "  </tbody>\n",
       "</table>\n",
       "<p>1229 rows × 5 columns</p>\n",
       "</div>"
      ],
      "text/plain": [
       "                CL=F   GPSC.BK    PTT.BK  PTTEP.BK  PTTGC.BK\n",
       "Date                                                        \n",
       "2017-01-05  0.009388 -0.020270  0.018421 -0.005076  0.003906\n",
       "2017-01-06  0.004278  0.000000  0.005168  0.005102 -0.003891\n",
       "2017-01-09 -0.037600  0.000000 -0.015424 -0.007614 -0.011719\n",
       "2017-01-10 -0.021940  0.006896  0.013055 -0.017903  0.003952\n",
       "2017-01-11  0.028139  0.006849 -0.007732  0.005208 -0.003937\n",
       "...              ...       ...       ...       ...       ...\n",
       "2021-09-24  0.009277  0.000000  0.000000  0.000000  0.000000\n",
       "2021-09-27  0.019870 -0.012821  0.012500  0.035398  0.020661\n",
       "2021-09-28 -0.002121 -0.009740  0.000000  0.017094  0.032389\n",
       "2021-09-29 -0.006110  0.000000 -0.001272  0.000000 -0.007843\n",
       "2021-09-30  0.002673 -0.009836 -0.006369 -0.012605  0.000000\n",
       "\n",
       "[1229 rows x 5 columns]"
      ]
     },
     "execution_count": 56,
     "metadata": {},
     "output_type": "execute_result"
    }
   ],
   "source": [
    "df"
   ]
  },
  {
   "cell_type": "code",
   "execution_count": 57,
   "id": "878cd590",
   "metadata": {},
   "outputs": [
    {
     "data": {
      "text/html": [
       "<div>\n",
       "<style scoped>\n",
       "    .dataframe tbody tr th:only-of-type {\n",
       "        vertical-align: middle;\n",
       "    }\n",
       "\n",
       "    .dataframe tbody tr th {\n",
       "        vertical-align: top;\n",
       "    }\n",
       "\n",
       "    .dataframe thead th {\n",
       "        text-align: right;\n",
       "    }\n",
       "</style>\n",
       "<table border=\"1\" class=\"dataframe\">\n",
       "  <thead>\n",
       "    <tr style=\"text-align: right;\">\n",
       "      <th></th>\n",
       "      <th>CL=F</th>\n",
       "      <th>GPSC.BK</th>\n",
       "      <th>PTT.BK</th>\n",
       "      <th>PTTEP.BK</th>\n",
       "      <th>PTTGC.BK</th>\n",
       "    </tr>\n",
       "    <tr>\n",
       "      <th>Date</th>\n",
       "      <th></th>\n",
       "      <th></th>\n",
       "      <th></th>\n",
       "      <th></th>\n",
       "      <th></th>\n",
       "    </tr>\n",
       "  </thead>\n",
       "  <tbody>\n",
       "    <tr>\n",
       "      <th>2017-01-13</th>\n",
       "      <td>-0.012073</td>\n",
       "      <td>0.0</td>\n",
       "      <td>0.0</td>\n",
       "      <td>0.0</td>\n",
       "      <td>0.0</td>\n",
       "    </tr>\n",
       "    <tr>\n",
       "      <th>2017-02-13</th>\n",
       "      <td>-0.017267</td>\n",
       "      <td>0.0</td>\n",
       "      <td>0.0</td>\n",
       "      <td>0.0</td>\n",
       "      <td>0.0</td>\n",
       "    </tr>\n",
       "    <tr>\n",
       "      <th>2017-04-06</th>\n",
       "      <td>0.010753</td>\n",
       "      <td>0.0</td>\n",
       "      <td>0.0</td>\n",
       "      <td>0.0</td>\n",
       "      <td>0.0</td>\n",
       "    </tr>\n",
       "    <tr>\n",
       "      <th>2017-04-13</th>\n",
       "      <td>0.001318</td>\n",
       "      <td>0.0</td>\n",
       "      <td>0.0</td>\n",
       "      <td>0.0</td>\n",
       "      <td>0.0</td>\n",
       "    </tr>\n",
       "    <tr>\n",
       "      <th>2017-05-01</th>\n",
       "      <td>-0.009933</td>\n",
       "      <td>0.0</td>\n",
       "      <td>0.0</td>\n",
       "      <td>0.0</td>\n",
       "      <td>0.0</td>\n",
       "    </tr>\n",
       "    <tr>\n",
       "      <th>...</th>\n",
       "      <td>...</td>\n",
       "      <td>...</td>\n",
       "      <td>...</td>\n",
       "      <td>...</td>\n",
       "      <td>...</td>\n",
       "    </tr>\n",
       "    <tr>\n",
       "      <th>2021-06-03</th>\n",
       "      <td>-0.000291</td>\n",
       "      <td>0.0</td>\n",
       "      <td>0.0</td>\n",
       "      <td>0.0</td>\n",
       "      <td>0.0</td>\n",
       "    </tr>\n",
       "    <tr>\n",
       "      <th>2021-07-26</th>\n",
       "      <td>-0.002220</td>\n",
       "      <td>0.0</td>\n",
       "      <td>0.0</td>\n",
       "      <td>0.0</td>\n",
       "      <td>0.0</td>\n",
       "    </tr>\n",
       "    <tr>\n",
       "      <th>2021-07-28</th>\n",
       "      <td>0.010328</td>\n",
       "      <td>0.0</td>\n",
       "      <td>0.0</td>\n",
       "      <td>0.0</td>\n",
       "      <td>0.0</td>\n",
       "    </tr>\n",
       "    <tr>\n",
       "      <th>2021-08-12</th>\n",
       "      <td>-0.002311</td>\n",
       "      <td>0.0</td>\n",
       "      <td>0.0</td>\n",
       "      <td>0.0</td>\n",
       "      <td>0.0</td>\n",
       "    </tr>\n",
       "    <tr>\n",
       "      <th>2021-09-24</th>\n",
       "      <td>0.009277</td>\n",
       "      <td>0.0</td>\n",
       "      <td>0.0</td>\n",
       "      <td>0.0</td>\n",
       "      <td>0.0</td>\n",
       "    </tr>\n",
       "  </tbody>\n",
       "</table>\n",
       "<p>76 rows × 5 columns</p>\n",
       "</div>"
      ],
      "text/plain": [
       "                CL=F  GPSC.BK  PTT.BK  PTTEP.BK  PTTGC.BK\n",
       "Date                                                     \n",
       "2017-01-13 -0.012073      0.0     0.0       0.0       0.0\n",
       "2017-02-13 -0.017267      0.0     0.0       0.0       0.0\n",
       "2017-04-06  0.010753      0.0     0.0       0.0       0.0\n",
       "2017-04-13  0.001318      0.0     0.0       0.0       0.0\n",
       "2017-05-01 -0.009933      0.0     0.0       0.0       0.0\n",
       "...              ...      ...     ...       ...       ...\n",
       "2021-06-03 -0.000291      0.0     0.0       0.0       0.0\n",
       "2021-07-26 -0.002220      0.0     0.0       0.0       0.0\n",
       "2021-07-28  0.010328      0.0     0.0       0.0       0.0\n",
       "2021-08-12 -0.002311      0.0     0.0       0.0       0.0\n",
       "2021-09-24  0.009277      0.0     0.0       0.0       0.0\n",
       "\n",
       "[76 rows x 5 columns]"
      ]
     },
     "execution_count": 57,
     "metadata": {},
     "output_type": "execute_result"
    }
   ],
   "source": [
    "df[(df.iloc[:,1:]==0).all(1)]\n",
    "# find value is equal 0 it mean they are not making any change in trading"
   ]
  },
  {
   "cell_type": "code",
   "execution_count": 58,
   "id": "a44f4401",
   "metadata": {},
   "outputs": [
    {
     "data": {
      "text/html": [
       "<div>\n",
       "<style scoped>\n",
       "    .dataframe tbody tr th:only-of-type {\n",
       "        vertical-align: middle;\n",
       "    }\n",
       "\n",
       "    .dataframe tbody tr th {\n",
       "        vertical-align: top;\n",
       "    }\n",
       "\n",
       "    .dataframe thead th {\n",
       "        text-align: right;\n",
       "    }\n",
       "</style>\n",
       "<table border=\"1\" class=\"dataframe\">\n",
       "  <thead>\n",
       "    <tr style=\"text-align: right;\">\n",
       "      <th></th>\n",
       "      <th>CL=F</th>\n",
       "      <th>GPSC.BK</th>\n",
       "      <th>PTT.BK</th>\n",
       "      <th>PTTEP.BK</th>\n",
       "      <th>PTTGC.BK</th>\n",
       "    </tr>\n",
       "    <tr>\n",
       "      <th>Date</th>\n",
       "      <th></th>\n",
       "      <th></th>\n",
       "      <th></th>\n",
       "      <th></th>\n",
       "      <th></th>\n",
       "    </tr>\n",
       "  </thead>\n",
       "  <tbody>\n",
       "    <tr>\n",
       "      <th>2017-01-13</th>\n",
       "      <td>-0.012073</td>\n",
       "      <td>0.000000</td>\n",
       "      <td>0.0</td>\n",
       "      <td>0.000000</td>\n",
       "      <td>0.000000</td>\n",
       "    </tr>\n",
       "    <tr>\n",
       "      <th>2017-01-19</th>\n",
       "      <td>0.005677</td>\n",
       "      <td>-0.006944</td>\n",
       "      <td>0.0</td>\n",
       "      <td>-0.002645</td>\n",
       "      <td>0.003831</td>\n",
       "    </tr>\n",
       "    <tr>\n",
       "      <th>2017-01-30</th>\n",
       "      <td>-0.010156</td>\n",
       "      <td>-0.013698</td>\n",
       "      <td>0.0</td>\n",
       "      <td>0.043478</td>\n",
       "      <td>0.007353</td>\n",
       "    </tr>\n",
       "    <tr>\n",
       "      <th>2017-02-01</th>\n",
       "      <td>0.020261</td>\n",
       "      <td>-0.006993</td>\n",
       "      <td>0.0</td>\n",
       "      <td>0.007653</td>\n",
       "      <td>-0.018450</td>\n",
       "    </tr>\n",
       "    <tr>\n",
       "      <th>2017-02-02</th>\n",
       "      <td>-0.006310</td>\n",
       "      <td>0.000000</td>\n",
       "      <td>0.0</td>\n",
       "      <td>-0.012658</td>\n",
       "      <td>0.000000</td>\n",
       "    </tr>\n",
       "    <tr>\n",
       "      <th>...</th>\n",
       "      <td>...</td>\n",
       "      <td>...</td>\n",
       "      <td>...</td>\n",
       "      <td>...</td>\n",
       "      <td>...</td>\n",
       "    </tr>\n",
       "    <tr>\n",
       "      <th>2021-09-15</th>\n",
       "      <td>0.030514</td>\n",
       "      <td>0.003145</td>\n",
       "      <td>0.0</td>\n",
       "      <td>0.000000</td>\n",
       "      <td>-0.012346</td>\n",
       "    </tr>\n",
       "    <tr>\n",
       "      <th>2021-09-20</th>\n",
       "      <td>-0.023343</td>\n",
       "      <td>-0.009677</td>\n",
       "      <td>0.0</td>\n",
       "      <td>-0.013274</td>\n",
       "      <td>-0.028926</td>\n",
       "    </tr>\n",
       "    <tr>\n",
       "      <th>2021-09-22</th>\n",
       "      <td>0.023668</td>\n",
       "      <td>0.003215</td>\n",
       "      <td>0.0</td>\n",
       "      <td>0.000000</td>\n",
       "      <td>0.008403</td>\n",
       "    </tr>\n",
       "    <tr>\n",
       "      <th>2021-09-24</th>\n",
       "      <td>0.009277</td>\n",
       "      <td>0.000000</td>\n",
       "      <td>0.0</td>\n",
       "      <td>0.000000</td>\n",
       "      <td>0.000000</td>\n",
       "    </tr>\n",
       "    <tr>\n",
       "      <th>2021-09-28</th>\n",
       "      <td>-0.002121</td>\n",
       "      <td>-0.009740</td>\n",
       "      <td>0.0</td>\n",
       "      <td>0.017094</td>\n",
       "      <td>0.032389</td>\n",
       "    </tr>\n",
       "  </tbody>\n",
       "</table>\n",
       "<p>270 rows × 5 columns</p>\n",
       "</div>"
      ],
      "text/plain": [
       "                CL=F   GPSC.BK  PTT.BK  PTTEP.BK  PTTGC.BK\n",
       "Date                                                      \n",
       "2017-01-13 -0.012073  0.000000     0.0  0.000000  0.000000\n",
       "2017-01-19  0.005677 -0.006944     0.0 -0.002645  0.003831\n",
       "2017-01-30 -0.010156 -0.013698     0.0  0.043478  0.007353\n",
       "2017-02-01  0.020261 -0.006993     0.0  0.007653 -0.018450\n",
       "2017-02-02 -0.006310  0.000000     0.0 -0.012658  0.000000\n",
       "...              ...       ...     ...       ...       ...\n",
       "2021-09-15  0.030514  0.003145     0.0  0.000000 -0.012346\n",
       "2021-09-20 -0.023343 -0.009677     0.0 -0.013274 -0.028926\n",
       "2021-09-22  0.023668  0.003215     0.0  0.000000  0.008403\n",
       "2021-09-24  0.009277  0.000000     0.0  0.000000  0.000000\n",
       "2021-09-28 -0.002121 -0.009740     0.0  0.017094  0.032389\n",
       "\n",
       "[270 rows x 5 columns]"
      ]
     },
     "execution_count": 58,
     "metadata": {},
     "output_type": "execute_result"
    }
   ],
   "source": [
    "df[(df['PTT.BK']==0)]"
   ]
  },
  {
   "cell_type": "code",
   "execution_count": 59,
   "id": "86c848c0",
   "metadata": {},
   "outputs": [],
   "source": [
    "# clean data remove change 0 % cause no change\n",
    "df=df[~(df.iloc[:,1:]==0).all(1)]"
   ]
  },
  {
   "cell_type": "code",
   "execution_count": 60,
   "id": "896f3066",
   "metadata": {},
   "outputs": [
    {
     "data": {
      "text/plain": [
       "CL=F         43\n",
       "GPSC.BK     148\n",
       "PTT.BK      194\n",
       "PTTEP.BK    129\n",
       "PTTGC.BK    117\n",
       "dtype: int64"
      ]
     },
     "execution_count": 60,
     "metadata": {},
     "output_type": "execute_result"
    }
   ],
   "source": [
    "(df==0).sum()"
   ]
  },
  {
   "cell_type": "code",
   "execution_count": 61,
   "id": "6fc75bf4",
   "metadata": {},
   "outputs": [
    {
     "data": {
      "text/html": [
       "<div>\n",
       "<style scoped>\n",
       "    .dataframe tbody tr th:only-of-type {\n",
       "        vertical-align: middle;\n",
       "    }\n",
       "\n",
       "    .dataframe tbody tr th {\n",
       "        vertical-align: top;\n",
       "    }\n",
       "\n",
       "    .dataframe thead th {\n",
       "        text-align: right;\n",
       "    }\n",
       "</style>\n",
       "<table border=\"1\" class=\"dataframe\">\n",
       "  <thead>\n",
       "    <tr style=\"text-align: right;\">\n",
       "      <th></th>\n",
       "      <th>CL=F</th>\n",
       "      <th>GPSC.BK</th>\n",
       "      <th>PTT.BK</th>\n",
       "      <th>PTTEP.BK</th>\n",
       "      <th>PTTGC.BK</th>\n",
       "    </tr>\n",
       "    <tr>\n",
       "      <th>Date</th>\n",
       "      <th></th>\n",
       "      <th></th>\n",
       "      <th></th>\n",
       "      <th></th>\n",
       "      <th></th>\n",
       "    </tr>\n",
       "  </thead>\n",
       "  <tbody>\n",
       "    <tr>\n",
       "      <th>2017-01-05</th>\n",
       "      <td>0.009388</td>\n",
       "      <td>-0.020270</td>\n",
       "      <td>0.018421</td>\n",
       "      <td>-0.005076</td>\n",
       "      <td>0.003906</td>\n",
       "    </tr>\n",
       "    <tr>\n",
       "      <th>2017-01-06</th>\n",
       "      <td>0.004278</td>\n",
       "      <td>0.000000</td>\n",
       "      <td>0.005168</td>\n",
       "      <td>0.005102</td>\n",
       "      <td>-0.003891</td>\n",
       "    </tr>\n",
       "    <tr>\n",
       "      <th>2017-01-09</th>\n",
       "      <td>-0.037600</td>\n",
       "      <td>0.000000</td>\n",
       "      <td>-0.015424</td>\n",
       "      <td>-0.007614</td>\n",
       "      <td>-0.011719</td>\n",
       "    </tr>\n",
       "    <tr>\n",
       "      <th>2017-01-10</th>\n",
       "      <td>-0.021940</td>\n",
       "      <td>0.006896</td>\n",
       "      <td>0.013055</td>\n",
       "      <td>-0.017903</td>\n",
       "      <td>0.003952</td>\n",
       "    </tr>\n",
       "    <tr>\n",
       "      <th>2017-01-11</th>\n",
       "      <td>0.028139</td>\n",
       "      <td>0.006849</td>\n",
       "      <td>-0.007732</td>\n",
       "      <td>0.005208</td>\n",
       "      <td>-0.003937</td>\n",
       "    </tr>\n",
       "    <tr>\n",
       "      <th>...</th>\n",
       "      <td>...</td>\n",
       "      <td>...</td>\n",
       "      <td>...</td>\n",
       "      <td>...</td>\n",
       "      <td>...</td>\n",
       "    </tr>\n",
       "    <tr>\n",
       "      <th>2021-09-23</th>\n",
       "      <td>0.014814</td>\n",
       "      <td>0.000000</td>\n",
       "      <td>0.012658</td>\n",
       "      <td>0.004444</td>\n",
       "      <td>0.008333</td>\n",
       "    </tr>\n",
       "    <tr>\n",
       "      <th>2021-09-27</th>\n",
       "      <td>0.019870</td>\n",
       "      <td>-0.012821</td>\n",
       "      <td>0.012500</td>\n",
       "      <td>0.035398</td>\n",
       "      <td>0.020661</td>\n",
       "    </tr>\n",
       "    <tr>\n",
       "      <th>2021-09-28</th>\n",
       "      <td>-0.002121</td>\n",
       "      <td>-0.009740</td>\n",
       "      <td>0.000000</td>\n",
       "      <td>0.017094</td>\n",
       "      <td>0.032389</td>\n",
       "    </tr>\n",
       "    <tr>\n",
       "      <th>2021-09-29</th>\n",
       "      <td>-0.006110</td>\n",
       "      <td>0.000000</td>\n",
       "      <td>-0.001272</td>\n",
       "      <td>0.000000</td>\n",
       "      <td>-0.007843</td>\n",
       "    </tr>\n",
       "    <tr>\n",
       "      <th>2021-09-30</th>\n",
       "      <td>0.002673</td>\n",
       "      <td>-0.009836</td>\n",
       "      <td>-0.006369</td>\n",
       "      <td>-0.012605</td>\n",
       "      <td>0.000000</td>\n",
       "    </tr>\n",
       "  </tbody>\n",
       "</table>\n",
       "<p>1153 rows × 5 columns</p>\n",
       "</div>"
      ],
      "text/plain": [
       "                CL=F   GPSC.BK    PTT.BK  PTTEP.BK  PTTGC.BK\n",
       "Date                                                        \n",
       "2017-01-05  0.009388 -0.020270  0.018421 -0.005076  0.003906\n",
       "2017-01-06  0.004278  0.000000  0.005168  0.005102 -0.003891\n",
       "2017-01-09 -0.037600  0.000000 -0.015424 -0.007614 -0.011719\n",
       "2017-01-10 -0.021940  0.006896  0.013055 -0.017903  0.003952\n",
       "2017-01-11  0.028139  0.006849 -0.007732  0.005208 -0.003937\n",
       "...              ...       ...       ...       ...       ...\n",
       "2021-09-23  0.014814  0.000000  0.012658  0.004444  0.008333\n",
       "2021-09-27  0.019870 -0.012821  0.012500  0.035398  0.020661\n",
       "2021-09-28 -0.002121 -0.009740  0.000000  0.017094  0.032389\n",
       "2021-09-29 -0.006110  0.000000 -0.001272  0.000000 -0.007843\n",
       "2021-09-30  0.002673 -0.009836 -0.006369 -0.012605  0.000000\n",
       "\n",
       "[1153 rows x 5 columns]"
      ]
     },
     "execution_count": 61,
     "metadata": {},
     "output_type": "execute_result"
    }
   ],
   "source": [
    "df"
   ]
  },
  {
   "cell_type": "code",
   "execution_count": 62,
   "id": "cc914adc",
   "metadata": {},
   "outputs": [],
   "source": [
    "df = df[['CL=F','GPSC.BK','PTTEP.BK','PTTGC.BK','PTT.BK']]"
   ]
  },
  {
   "cell_type": "code",
   "execution_count": 63,
   "id": "0f434ad7",
   "metadata": {},
   "outputs": [
    {
     "data": {
      "text/plain": [
       "<AxesSubplot:xlabel='Date'>"
      ]
     },
     "execution_count": 63,
     "metadata": {},
     "output_type": "execute_result"
    },
    {
     "data": {
      "image/png": "[encoded data removed]",
      "text/plain": [
       "<Figure size 640x480 with 1 Axes>"
      ]
     },
     "metadata": {},
     "output_type": "display_data"
    }
   ],
   "source": [
    "df.loc['2020-04':'2020-06'].plot()"
   ]
  },
  {
   "cell_type": "code",
   "execution_count": 65,
   "id": "cc557762",
   "metadata": {},
   "outputs": [],
   "source": [
    "start_remove = pd.to_datetime('2020-04-10')\n",
    "end_remove = pd.to_datetime('2020-05-10')\n",
    "df=df.loc[(df.index<start_remove)|(df.index>end_remove)]"
   ]
  },
  {
   "cell_type": "code",
   "execution_count": 68,
   "id": "52d1a22d",
   "metadata": {},
   "outputs": [
    {
     "data": {
      "text/plain": [
       "<AxesSubplot:xlabel='Date'>"
      ]
     },
     "execution_count": 68,
     "metadata": {},
     "output_type": "execute_result"
    },
    {
     "data": {
      "image/png": "[encoded data removed]",
      "text/plain": [
       "<Figure size 640x480 with 1 Axes>"
      ]
     },
     "metadata": {},
     "output_type": "display_data"
    }
   ],
   "source": [
    "df.loc['2020-04':'2020-06'].plot()"
   ]
  },
  {
   "cell_type": "code",
   "execution_count": 69,
   "id": "d3e80998",
   "metadata": {},
   "outputs": [],
   "source": [
    "X = df.iloc[:1000,:-1]\n",
    "y = df.iloc[:1000,-1]"
   ]
  },
  {
   "cell_type": "code",
   "execution_count": 70,
   "id": "f9787186",
   "metadata": {},
   "outputs": [],
   "source": [
    "Lower_limit = df.quantile(0.01)\n",
    "Upper_limit =df.quantile(0.99)"
   ]
  },
  {
   "cell_type": "code",
   "execution_count": 71,
   "id": "43572fde",
   "metadata": {},
   "outputs": [
    {
     "name": "stderr",
     "output_type": "stream",
     "text": [
      "/var/folders/0j/079zvm2s3dxclvzgz86_k33m0000gn/T/ipykernel_65421/82063418.py:1: FutureWarning: Automatic reindexing on DataFrame vs Series comparisons is deprecated and will raise ValueError in a future version. Do `left, right = left.align(right, axis=1, copy=False)` before e.g. `left == right`\n",
      "  df=df[~((df<Lower_limit)|(df>Upper_limit)).any(1)]\n"
     ]
    }
   ],
   "source": [
    "df=df[~((df<Lower_limit)|(df>Upper_limit)).any(1)]"
   ]
  },
  {
   "cell_type": "code",
   "execution_count": 72,
   "id": "5bf6ca11",
   "metadata": {},
   "outputs": [
    {
     "data": {
      "text/html": [
       "<div>\n",
       "<style scoped>\n",
       "    .dataframe tbody tr th:only-of-type {\n",
       "        vertical-align: middle;\n",
       "    }\n",
       "\n",
       "    .dataframe tbody tr th {\n",
       "        vertical-align: top;\n",
       "    }\n",
       "\n",
       "    .dataframe thead th {\n",
       "        text-align: right;\n",
       "    }\n",
       "</style>\n",
       "<table border=\"1\" class=\"dataframe\">\n",
       "  <thead>\n",
       "    <tr style=\"text-align: right;\">\n",
       "      <th></th>\n",
       "      <th>CL=F</th>\n",
       "      <th>GPSC.BK</th>\n",
       "      <th>PTTEP.BK</th>\n",
       "      <th>PTTGC.BK</th>\n",
       "      <th>PTT.BK</th>\n",
       "    </tr>\n",
       "    <tr>\n",
       "      <th>Date</th>\n",
       "      <th></th>\n",
       "      <th></th>\n",
       "      <th></th>\n",
       "      <th></th>\n",
       "      <th></th>\n",
       "    </tr>\n",
       "  </thead>\n",
       "  <tbody>\n",
       "    <tr>\n",
       "      <th>2017-01-05</th>\n",
       "      <td>0.009388</td>\n",
       "      <td>-0.020270</td>\n",
       "      <td>-0.005076</td>\n",
       "      <td>0.003906</td>\n",
       "      <td>0.018421</td>\n",
       "    </tr>\n",
       "    <tr>\n",
       "      <th>2017-01-06</th>\n",
       "      <td>0.004278</td>\n",
       "      <td>0.000000</td>\n",
       "      <td>0.005102</td>\n",
       "      <td>-0.003891</td>\n",
       "      <td>0.005168</td>\n",
       "    </tr>\n",
       "    <tr>\n",
       "      <th>2017-01-09</th>\n",
       "      <td>-0.037600</td>\n",
       "      <td>0.000000</td>\n",
       "      <td>-0.007614</td>\n",
       "      <td>-0.011719</td>\n",
       "      <td>-0.015424</td>\n",
       "    </tr>\n",
       "    <tr>\n",
       "      <th>2017-01-10</th>\n",
       "      <td>-0.021940</td>\n",
       "      <td>0.006896</td>\n",
       "      <td>-0.017903</td>\n",
       "      <td>0.003952</td>\n",
       "      <td>0.013055</td>\n",
       "    </tr>\n",
       "    <tr>\n",
       "      <th>2017-01-11</th>\n",
       "      <td>0.028139</td>\n",
       "      <td>0.006849</td>\n",
       "      <td>0.005208</td>\n",
       "      <td>-0.003937</td>\n",
       "      <td>-0.007732</td>\n",
       "    </tr>\n",
       "    <tr>\n",
       "      <th>...</th>\n",
       "      <td>...</td>\n",
       "      <td>...</td>\n",
       "      <td>...</td>\n",
       "      <td>...</td>\n",
       "      <td>...</td>\n",
       "    </tr>\n",
       "    <tr>\n",
       "      <th>2021-09-23</th>\n",
       "      <td>0.014814</td>\n",
       "      <td>0.000000</td>\n",
       "      <td>0.004444</td>\n",
       "      <td>0.008333</td>\n",
       "      <td>0.012658</td>\n",
       "    </tr>\n",
       "    <tr>\n",
       "      <th>2021-09-27</th>\n",
       "      <td>0.019870</td>\n",
       "      <td>-0.012821</td>\n",
       "      <td>0.035398</td>\n",
       "      <td>0.020661</td>\n",
       "      <td>0.012500</td>\n",
       "    </tr>\n",
       "    <tr>\n",
       "      <th>2021-09-28</th>\n",
       "      <td>-0.002121</td>\n",
       "      <td>-0.009740</td>\n",
       "      <td>0.017094</td>\n",
       "      <td>0.032389</td>\n",
       "      <td>0.000000</td>\n",
       "    </tr>\n",
       "    <tr>\n",
       "      <th>2021-09-29</th>\n",
       "      <td>-0.006110</td>\n",
       "      <td>0.000000</td>\n",
       "      <td>0.000000</td>\n",
       "      <td>-0.007843</td>\n",
       "      <td>-0.001272</td>\n",
       "    </tr>\n",
       "    <tr>\n",
       "      <th>2021-09-30</th>\n",
       "      <td>0.002673</td>\n",
       "      <td>-0.009836</td>\n",
       "      <td>-0.012605</td>\n",
       "      <td>0.000000</td>\n",
       "      <td>-0.006369</td>\n",
       "    </tr>\n",
       "  </tbody>\n",
       "</table>\n",
       "<p>1086 rows × 5 columns</p>\n",
       "</div>"
      ],
      "text/plain": [
       "                CL=F   GPSC.BK  PTTEP.BK  PTTGC.BK    PTT.BK\n",
       "Date                                                        \n",
       "2017-01-05  0.009388 -0.020270 -0.005076  0.003906  0.018421\n",
       "2017-01-06  0.004278  0.000000  0.005102 -0.003891  0.005168\n",
       "2017-01-09 -0.037600  0.000000 -0.007614 -0.011719 -0.015424\n",
       "2017-01-10 -0.021940  0.006896 -0.017903  0.003952  0.013055\n",
       "2017-01-11  0.028139  0.006849  0.005208 -0.003937 -0.007732\n",
       "...              ...       ...       ...       ...       ...\n",
       "2021-09-23  0.014814  0.000000  0.004444  0.008333  0.012658\n",
       "2021-09-27  0.019870 -0.012821  0.035398  0.020661  0.012500\n",
       "2021-09-28 -0.002121 -0.009740  0.017094  0.032389  0.000000\n",
       "2021-09-29 -0.006110  0.000000  0.000000 -0.007843 -0.001272\n",
       "2021-09-30  0.002673 -0.009836 -0.012605  0.000000 -0.006369\n",
       "\n",
       "[1086 rows x 5 columns]"
      ]
     },
     "execution_count": 72,
     "metadata": {},
     "output_type": "execute_result"
    }
   ],
   "source": [
    "df"
   ]
  },
  {
   "cell_type": "code",
   "execution_count": 73,
   "id": "fff591a8",
   "metadata": {},
   "outputs": [
    {
     "data": {
      "text/html": [
       "<div>\n",
       "<style scoped>\n",
       "    .dataframe tbody tr th:only-of-type {\n",
       "        vertical-align: middle;\n",
       "    }\n",
       "\n",
       "    .dataframe tbody tr th {\n",
       "        vertical-align: top;\n",
       "    }\n",
       "\n",
       "    .dataframe thead th {\n",
       "        text-align: right;\n",
       "    }\n",
       "</style>\n",
       "<table border=\"1\" class=\"dataframe\">\n",
       "  <thead>\n",
       "    <tr style=\"text-align: right;\">\n",
       "      <th></th>\n",
       "      <th>CL=F</th>\n",
       "      <th>GPSC.BK</th>\n",
       "      <th>PTTEP.BK</th>\n",
       "      <th>PTTGC.BK</th>\n",
       "      <th>PTT.BK</th>\n",
       "    </tr>\n",
       "  </thead>\n",
       "  <tbody>\n",
       "    <tr>\n",
       "      <th>count</th>\n",
       "      <td>1086.000000</td>\n",
       "      <td>1086.000000</td>\n",
       "      <td>1086.000000</td>\n",
       "      <td>1086.000000</td>\n",
       "      <td>1086.000000</td>\n",
       "    </tr>\n",
       "    <tr>\n",
       "      <th>mean</th>\n",
       "      <td>0.000828</td>\n",
       "      <td>0.001887</td>\n",
       "      <td>0.001784</td>\n",
       "      <td>0.001436</td>\n",
       "      <td>0.001073</td>\n",
       "    </tr>\n",
       "    <tr>\n",
       "      <th>std</th>\n",
       "      <td>0.018862</td>\n",
       "      <td>0.021471</td>\n",
       "      <td>0.017446</td>\n",
       "      <td>0.018018</td>\n",
       "      <td>0.014838</td>\n",
       "    </tr>\n",
       "    <tr>\n",
       "      <th>min</th>\n",
       "      <td>-0.075059</td>\n",
       "      <td>-0.059761</td>\n",
       "      <td>-0.053498</td>\n",
       "      <td>-0.049383</td>\n",
       "      <td>-0.040000</td>\n",
       "    </tr>\n",
       "    <tr>\n",
       "      <th>25%</th>\n",
       "      <td>-0.008973</td>\n",
       "      <td>-0.009639</td>\n",
       "      <td>-0.008322</td>\n",
       "      <td>-0.009367</td>\n",
       "      <td>-0.006525</td>\n",
       "    </tr>\n",
       "    <tr>\n",
       "      <th>50%</th>\n",
       "      <td>0.001889</td>\n",
       "      <td>0.000000</td>\n",
       "      <td>0.000000</td>\n",
       "      <td>0.000000</td>\n",
       "      <td>0.000000</td>\n",
       "    </tr>\n",
       "    <tr>\n",
       "      <th>75%</th>\n",
       "      <td>0.012188</td>\n",
       "      <td>0.012572</td>\n",
       "      <td>0.009102</td>\n",
       "      <td>0.010688</td>\n",
       "      <td>0.007143</td>\n",
       "    </tr>\n",
       "    <tr>\n",
       "      <th>max</th>\n",
       "      <td>0.058570</td>\n",
       "      <td>0.158672</td>\n",
       "      <td>0.118143</td>\n",
       "      <td>0.109091</td>\n",
       "      <td>0.100719</td>\n",
       "    </tr>\n",
       "  </tbody>\n",
       "</table>\n",
       "</div>"
      ],
      "text/plain": [
       "              CL=F      GPSC.BK     PTTEP.BK     PTTGC.BK       PTT.BK\n",
       "count  1086.000000  1086.000000  1086.000000  1086.000000  1086.000000\n",
       "mean      0.000828     0.001887     0.001784     0.001436     0.001073\n",
       "std       0.018862     0.021471     0.017446     0.018018     0.014838\n",
       "min      -0.075059    -0.059761    -0.053498    -0.049383    -0.040000\n",
       "25%      -0.008973    -0.009639    -0.008322    -0.009367    -0.006525\n",
       "50%       0.001889     0.000000     0.000000     0.000000     0.000000\n",
       "75%       0.012188     0.012572     0.009102     0.010688     0.007143\n",
       "max       0.058570     0.158672     0.118143     0.109091     0.100719"
      ]
     },
     "execution_count": 73,
     "metadata": {},
     "output_type": "execute_result"
    }
   ],
   "source": [
    "df.describe()"
   ]
  },
  {
   "cell_type": "code",
   "execution_count": 74,
   "id": "ae640a7c",
   "metadata": {},
   "outputs": [
    {
     "data": {
      "text/plain": [
       "array([0.36702739, 0.42309756, 0.59229265, 0.84983051, 0.6272397 ])"
      ]
     },
     "execution_count": 74,
     "metadata": {},
     "output_type": "execute_result"
    }
   ],
   "source": [
    "from sklearn.model_selection import cross_val_score\n",
    "model=LinearRegression()\n",
    "scores = cross_val_score(model,X,y,scoring ='r2',cv=5)\n",
    "scores"
   ]
  },
  {
   "cell_type": "code",
   "execution_count": 76,
   "id": "23a1bc38",
   "metadata": {},
   "outputs": [
    {
     "data": {
      "text/html": [
       "<div>\n",
       "<style scoped>\n",
       "    .dataframe tbody tr th:only-of-type {\n",
       "        vertical-align: middle;\n",
       "    }\n",
       "\n",
       "    .dataframe tbody tr th {\n",
       "        vertical-align: top;\n",
       "    }\n",
       "\n",
       "    .dataframe thead th {\n",
       "        text-align: right;\n",
       "    }\n",
       "</style>\n",
       "<table border=\"1\" class=\"dataframe\">\n",
       "  <thead>\n",
       "    <tr style=\"text-align: right;\">\n",
       "      <th></th>\n",
       "      <th>CL=F</th>\n",
       "      <th>GPSC.BK</th>\n",
       "      <th>PTTEP.BK</th>\n",
       "      <th>PTTGC.BK</th>\n",
       "      <th>PTT.BK</th>\n",
       "    </tr>\n",
       "  </thead>\n",
       "  <tbody>\n",
       "    <tr>\n",
       "      <th>CL=F</th>\n",
       "      <td>1.000000</td>\n",
       "      <td>0.013168</td>\n",
       "      <td>0.200981</td>\n",
       "      <td>0.153928</td>\n",
       "      <td>0.185155</td>\n",
       "    </tr>\n",
       "    <tr>\n",
       "      <th>GPSC.BK</th>\n",
       "      <td>0.013168</td>\n",
       "      <td>1.000000</td>\n",
       "      <td>0.184212</td>\n",
       "      <td>0.238019</td>\n",
       "      <td>0.233075</td>\n",
       "    </tr>\n",
       "    <tr>\n",
       "      <th>PTTEP.BK</th>\n",
       "      <td>0.200981</td>\n",
       "      <td>0.184212</td>\n",
       "      <td>1.000000</td>\n",
       "      <td>0.547363</td>\n",
       "      <td>0.685045</td>\n",
       "    </tr>\n",
       "    <tr>\n",
       "      <th>PTTGC.BK</th>\n",
       "      <td>0.153928</td>\n",
       "      <td>0.238019</td>\n",
       "      <td>0.547363</td>\n",
       "      <td>1.000000</td>\n",
       "      <td>0.608335</td>\n",
       "    </tr>\n",
       "    <tr>\n",
       "      <th>PTT.BK</th>\n",
       "      <td>0.185155</td>\n",
       "      <td>0.233075</td>\n",
       "      <td>0.685045</td>\n",
       "      <td>0.608335</td>\n",
       "      <td>1.000000</td>\n",
       "    </tr>\n",
       "  </tbody>\n",
       "</table>\n",
       "</div>"
      ],
      "text/plain": [
       "              CL=F   GPSC.BK  PTTEP.BK  PTTGC.BK    PTT.BK\n",
       "CL=F      1.000000  0.013168  0.200981  0.153928  0.185155\n",
       "GPSC.BK   0.013168  1.000000  0.184212  0.238019  0.233075\n",
       "PTTEP.BK  0.200981  0.184212  1.000000  0.547363  0.685045\n",
       "PTTGC.BK  0.153928  0.238019  0.547363  1.000000  0.608335\n",
       "PTT.BK    0.185155  0.233075  0.685045  0.608335  1.000000"
      ]
     },
     "execution_count": 76,
     "metadata": {},
     "output_type": "execute_result"
    }
   ],
   "source": [
    "df.corr()"
   ]
  },
  {
   "cell_type": "code",
   "execution_count": 75,
   "id": "c69c5664",
   "metadata": {},
   "outputs": [
    {
     "data": {
      "text/plain": [
       "array([0.53431039, 0.68695622, 0.63461789, 0.82180803, 0.66581576])"
      ]
     },
     "execution_count": 75,
     "metadata": {},
     "output_type": "execute_result"
    }
   ],
   "source": [
    "X_train,X_test,y_train,y_test = train_test_split(X,y,test_size=0.2,random_state=12)\n",
    "scores = cross_val_score(model,X_train,y_train,scoring ='r2',cv=5)\n",
    "scores"
   ]
  },
  {
   "cell_type": "code",
   "execution_count": 77,
   "id": "40529f8a",
   "metadata": {},
   "outputs": [],
   "source": [
    "model = LinearRegression()\n",
    "reg = model.fit(X_train,y_train)\n"
   ]
  },
  {
   "cell_type": "code",
   "execution_count": 78,
   "id": "6069d4ac",
   "metadata": {},
   "outputs": [],
   "source": [
    "y_pred = reg.predict(X_test)"
   ]
  },
  {
   "cell_type": "code",
   "execution_count": 79,
   "id": "3781caea",
   "metadata": {},
   "outputs": [
    {
     "data": {
      "text/plain": [
       "0.5629310204595068"
      ]
     },
     "execution_count": 79,
     "metadata": {},
     "output_type": "execute_result"
    }
   ],
   "source": [
    "reg.score(X_test,y_test)"
   ]
  },
  {
   "cell_type": "code",
   "execution_count": 80,
   "id": "b085db44",
   "metadata": {},
   "outputs": [
    {
     "name": "stdout",
     "output_type": "stream",
     "text": [
      "MAE = 0.008854254433740877\n",
      "MSE = 0.0001450269096884032\n",
      "RMSE = 0.012042711890948948\n"
     ]
    }
   ],
   "source": [
    "print('MAE =',metrics.mean_absolute_error(y_test,y_pred))\n",
    "print('MSE =',metrics.mean_squared_error(y_test,y_pred))\n",
    "print('RMSE =',np.sqrt(metrics.mean_squared_error(y_test,y_pred)))"
   ]
  },
  {
   "cell_type": "code",
   "execution_count": 81,
   "id": "1fb5a236",
   "metadata": {},
   "outputs": [
    {
     "data": {
      "text/html": [
       "<div>\n",
       "<style scoped>\n",
       "    .dataframe tbody tr th:only-of-type {\n",
       "        vertical-align: middle;\n",
       "    }\n",
       "\n",
       "    .dataframe tbody tr th {\n",
       "        vertical-align: top;\n",
       "    }\n",
       "\n",
       "    .dataframe thead th {\n",
       "        text-align: right;\n",
       "    }\n",
       "</style>\n",
       "<table border=\"1\" class=\"dataframe\">\n",
       "  <thead>\n",
       "    <tr style=\"text-align: right;\">\n",
       "      <th></th>\n",
       "      <th>CL=F</th>\n",
       "      <th>GPSC.BK</th>\n",
       "      <th>PTTEP.BK</th>\n",
       "      <th>PTTGC.BK</th>\n",
       "      <th>PTT.BK</th>\n",
       "    </tr>\n",
       "  </thead>\n",
       "  <tbody>\n",
       "    <tr>\n",
       "      <th>CL=F</th>\n",
       "      <td>1.000000</td>\n",
       "      <td>0.013168</td>\n",
       "      <td>0.200981</td>\n",
       "      <td>0.153928</td>\n",
       "      <td>0.185155</td>\n",
       "    </tr>\n",
       "    <tr>\n",
       "      <th>GPSC.BK</th>\n",
       "      <td>0.013168</td>\n",
       "      <td>1.000000</td>\n",
       "      <td>0.184212</td>\n",
       "      <td>0.238019</td>\n",
       "      <td>0.233075</td>\n",
       "    </tr>\n",
       "    <tr>\n",
       "      <th>PTTEP.BK</th>\n",
       "      <td>0.200981</td>\n",
       "      <td>0.184212</td>\n",
       "      <td>1.000000</td>\n",
       "      <td>0.547363</td>\n",
       "      <td>0.685045</td>\n",
       "    </tr>\n",
       "    <tr>\n",
       "      <th>PTTGC.BK</th>\n",
       "      <td>0.153928</td>\n",
       "      <td>0.238019</td>\n",
       "      <td>0.547363</td>\n",
       "      <td>1.000000</td>\n",
       "      <td>0.608335</td>\n",
       "    </tr>\n",
       "    <tr>\n",
       "      <th>PTT.BK</th>\n",
       "      <td>0.185155</td>\n",
       "      <td>0.233075</td>\n",
       "      <td>0.685045</td>\n",
       "      <td>0.608335</td>\n",
       "      <td>1.000000</td>\n",
       "    </tr>\n",
       "  </tbody>\n",
       "</table>\n",
       "</div>"
      ],
      "text/plain": [
       "              CL=F   GPSC.BK  PTTEP.BK  PTTGC.BK    PTT.BK\n",
       "CL=F      1.000000  0.013168  0.200981  0.153928  0.185155\n",
       "GPSC.BK   0.013168  1.000000  0.184212  0.238019  0.233075\n",
       "PTTEP.BK  0.200981  0.184212  1.000000  0.547363  0.685045\n",
       "PTTGC.BK  0.153928  0.238019  0.547363  1.000000  0.608335\n",
       "PTT.BK    0.185155  0.233075  0.685045  0.608335  1.000000"
      ]
     },
     "execution_count": 81,
     "metadata": {},
     "output_type": "execute_result"
    }
   ],
   "source": [
    "df.corr()"
   ]
  },
  {
   "cell_type": "code",
   "execution_count": 82,
   "id": "5adaeca6",
   "metadata": {},
   "outputs": [
    {
     "data": {
      "text/plain": [
       "array([0.01563558, 0.03658394, 0.47237157, 0.27246255])"
      ]
     },
     "execution_count": 82,
     "metadata": {},
     "output_type": "execute_result"
    }
   ],
   "source": [
    "reg.coef_"
   ]
  },
  {
   "cell_type": "code",
   "execution_count": 83,
   "id": "cea679c9",
   "metadata": {},
   "outputs": [],
   "source": [
    "live_data=reg.predict(df.iloc[1000:,:-1])"
   ]
  },
  {
   "cell_type": "code",
   "execution_count": 84,
   "id": "4917f84c",
   "metadata": {},
   "outputs": [
    {
     "data": {
      "text/plain": [
       "array([-4.73627976e-04, -3.35247524e-03,  2.55175734e-03,  5.55821957e-03,\n",
       "        8.29819576e-03,  5.10720622e-03, -3.65793580e-03, -3.90514756e-03,\n",
       "       -9.63633256e-04,  2.38030943e-03, -9.10870057e-03,  5.13972023e-03,\n",
       "       -7.05583127e-03, -8.09739794e-03,  1.06058310e-02, -8.26358252e-03,\n",
       "       -9.63804446e-03, -8.72948180e-03,  7.41149610e-03,  8.86943253e-04,\n",
       "        9.09575944e-03,  5.48836342e-04, -4.63527533e-03,  2.26298650e-03,\n",
       "       -1.10530641e-02,  6.76800499e-03,  2.89847960e-03,  6.19197034e-03,\n",
       "        9.26180142e-03, -1.79767345e-02, -2.03897971e-02, -4.72297529e-03,\n",
       "        2.55518174e-02, -1.46358033e-02, -3.28785802e-03,  1.12917338e-02,\n",
       "       -1.48304925e-02, -1.46206131e-02,  1.01117809e-02,  4.74826070e-03,\n",
       "       -7.23611445e-03, -4.36547739e-03,  5.04326072e-03, -2.45742540e-02,\n",
       "        1.73233268e-02,  2.26156777e-03,  2.13063541e-03, -1.22076401e-02,\n",
       "       -5.80827553e-04,  6.18159051e-03,  1.37131850e-02, -5.61205571e-03,\n",
       "        7.36955396e-04,  8.95218855e-03, -3.49221642e-03, -5.08688919e-04,\n",
       "       -1.63314637e-02, -1.74407233e-02,  2.67006170e-02,  2.56447487e-02,\n",
       "        5.41014723e-03, -1.54752051e-04,  6.87684984e-03,  2.93245944e-02,\n",
       "       -6.05741652e-03, -1.41549415e-02,  5.79216106e-03,  1.33769753e-05,\n",
       "       -1.33578762e-02, -6.61973033e-03, -5.13139898e-03,  6.77128455e-04,\n",
       "        1.18093570e-03,  9.03599690e-03,  2.06442940e-02, -2.82289064e-03,\n",
       "        4.53644398e-03, -1.42800710e-03, -1.49218193e-02,  8.20014441e-03,\n",
       "        2.72598015e-03,  4.55025705e-03,  2.21408860e-02,  1.64586450e-02,\n",
       "       -2.28379458e-03, -6.32361337e-03])"
      ]
     },
     "execution_count": 84,
     "metadata": {},
     "output_type": "execute_result"
    }
   ],
   "source": [
    "live_data"
   ]
  },
  {
   "cell_type": "code",
   "execution_count": 85,
   "id": "de8c1f83",
   "metadata": {},
   "outputs": [],
   "source": [
    "test=df.iloc[1000:]"
   ]
  },
  {
   "cell_type": "code",
   "execution_count": 86,
   "id": "dafbaec2",
   "metadata": {},
   "outputs": [
    {
     "name": "stderr",
     "output_type": "stream",
     "text": [
      "/var/folders/0j/079zvm2s3dxclvzgz86_k33m0000gn/T/ipykernel_65421/4080423831.py:1: SettingWithCopyWarning: \n",
      "A value is trying to be set on a copy of a slice from a DataFrame.\n",
      "Try using .loc[row_indexer,col_indexer] = value instead\n",
      "\n",
      "See the caveats in the documentation: https://pandas.pydata.org/pandas-docs/stable/user_guide/indexing.html#returning-a-view-versus-a-copy\n",
      "  test['Pred']=live_data\n"
     ]
    }
   ],
   "source": [
    "test['Pred']=live_data"
   ]
  },
  {
   "cell_type": "code",
   "execution_count": 87,
   "id": "10945543",
   "metadata": {},
   "outputs": [
    {
     "data": {
      "text/html": [
       "<div>\n",
       "<style scoped>\n",
       "    .dataframe tbody tr th:only-of-type {\n",
       "        vertical-align: middle;\n",
       "    }\n",
       "\n",
       "    .dataframe tbody tr th {\n",
       "        vertical-align: top;\n",
       "    }\n",
       "\n",
       "    .dataframe thead th {\n",
       "        text-align: right;\n",
       "    }\n",
       "</style>\n",
       "<table border=\"1\" class=\"dataframe\">\n",
       "  <thead>\n",
       "    <tr style=\"text-align: right;\">\n",
       "      <th></th>\n",
       "      <th>CL=F</th>\n",
       "      <th>GPSC.BK</th>\n",
       "      <th>PTTEP.BK</th>\n",
       "      <th>PTTGC.BK</th>\n",
       "      <th>PTT.BK</th>\n",
       "      <th>Pred</th>\n",
       "    </tr>\n",
       "    <tr>\n",
       "      <th>Date</th>\n",
       "      <th></th>\n",
       "      <th></th>\n",
       "      <th></th>\n",
       "      <th></th>\n",
       "      <th></th>\n",
       "      <th></th>\n",
       "    </tr>\n",
       "  </thead>\n",
       "  <tbody>\n",
       "    <tr>\n",
       "      <th>2021-05-25</th>\n",
       "      <td>0.000303</td>\n",
       "      <td>0.025641</td>\n",
       "      <td>0.012821</td>\n",
       "      <td>-0.027237</td>\n",
       "      <td>0.013072</td>\n",
       "      <td>-0.000474</td>\n",
       "    </tr>\n",
       "    <tr>\n",
       "      <th>2021-05-27</th>\n",
       "      <td>0.009666</td>\n",
       "      <td>0.039286</td>\n",
       "      <td>-0.012658</td>\n",
       "      <td>0.004000</td>\n",
       "      <td>0.000000</td>\n",
       "      <td>-0.003352</td>\n",
       "    </tr>\n",
       "    <tr>\n",
       "      <th>2021-05-28</th>\n",
       "      <td>-0.007928</td>\n",
       "      <td>-0.010309</td>\n",
       "      <td>0.004273</td>\n",
       "      <td>0.003984</td>\n",
       "      <td>0.012903</td>\n",
       "      <td>0.002552</td>\n",
       "    </tr>\n",
       "    <tr>\n",
       "      <th>2021-05-31</th>\n",
       "      <td>0.000000</td>\n",
       "      <td>0.013889</td>\n",
       "      <td>0.008511</td>\n",
       "      <td>0.003968</td>\n",
       "      <td>0.006369</td>\n",
       "      <td>0.005558</td>\n",
       "    </tr>\n",
       "    <tr>\n",
       "      <th>2021-06-01</th>\n",
       "      <td>0.021110</td>\n",
       "      <td>0.051370</td>\n",
       "      <td>0.008439</td>\n",
       "      <td>0.007905</td>\n",
       "      <td>0.050633</td>\n",
       "      <td>0.008298</td>\n",
       "    </tr>\n",
       "    <tr>\n",
       "      <th>...</th>\n",
       "      <td>...</td>\n",
       "      <td>...</td>\n",
       "      <td>...</td>\n",
       "      <td>...</td>\n",
       "      <td>...</td>\n",
       "      <td>...</td>\n",
       "    </tr>\n",
       "    <tr>\n",
       "      <th>2021-09-23</th>\n",
       "      <td>0.014814</td>\n",
       "      <td>0.000000</td>\n",
       "      <td>0.004444</td>\n",
       "      <td>0.008333</td>\n",
       "      <td>0.012658</td>\n",
       "      <td>0.004550</td>\n",
       "    </tr>\n",
       "    <tr>\n",
       "      <th>2021-09-27</th>\n",
       "      <td>0.019870</td>\n",
       "      <td>-0.012821</td>\n",
       "      <td>0.035398</td>\n",
       "      <td>0.020661</td>\n",
       "      <td>0.012500</td>\n",
       "      <td>0.022141</td>\n",
       "    </tr>\n",
       "    <tr>\n",
       "      <th>2021-09-28</th>\n",
       "      <td>-0.002121</td>\n",
       "      <td>-0.009740</td>\n",
       "      <td>0.017094</td>\n",
       "      <td>0.032389</td>\n",
       "      <td>0.000000</td>\n",
       "      <td>0.016459</td>\n",
       "    </tr>\n",
       "    <tr>\n",
       "      <th>2021-09-29</th>\n",
       "      <td>-0.006110</td>\n",
       "      <td>0.000000</td>\n",
       "      <td>0.000000</td>\n",
       "      <td>-0.007843</td>\n",
       "      <td>-0.001272</td>\n",
       "      <td>-0.002284</td>\n",
       "    </tr>\n",
       "    <tr>\n",
       "      <th>2021-09-30</th>\n",
       "      <td>0.002673</td>\n",
       "      <td>-0.009836</td>\n",
       "      <td>-0.012605</td>\n",
       "      <td>0.000000</td>\n",
       "      <td>-0.006369</td>\n",
       "      <td>-0.006324</td>\n",
       "    </tr>\n",
       "  </tbody>\n",
       "</table>\n",
       "<p>86 rows × 6 columns</p>\n",
       "</div>"
      ],
      "text/plain": [
       "                CL=F   GPSC.BK  PTTEP.BK  PTTGC.BK    PTT.BK      Pred\n",
       "Date                                                                  \n",
       "2021-05-25  0.000303  0.025641  0.012821 -0.027237  0.013072 -0.000474\n",
       "2021-05-27  0.009666  0.039286 -0.012658  0.004000  0.000000 -0.003352\n",
       "2021-05-28 -0.007928 -0.010309  0.004273  0.003984  0.012903  0.002552\n",
       "2021-05-31  0.000000  0.013889  0.008511  0.003968  0.006369  0.005558\n",
       "2021-06-01  0.021110  0.051370  0.008439  0.007905  0.050633  0.008298\n",
       "...              ...       ...       ...       ...       ...       ...\n",
       "2021-09-23  0.014814  0.000000  0.004444  0.008333  0.012658  0.004550\n",
       "2021-09-27  0.019870 -0.012821  0.035398  0.020661  0.012500  0.022141\n",
       "2021-09-28 -0.002121 -0.009740  0.017094  0.032389  0.000000  0.016459\n",
       "2021-09-29 -0.006110  0.000000  0.000000 -0.007843 -0.001272 -0.002284\n",
       "2021-09-30  0.002673 -0.009836 -0.012605  0.000000 -0.006369 -0.006324\n",
       "\n",
       "[86 rows x 6 columns]"
      ]
     },
     "execution_count": 87,
     "metadata": {},
     "output_type": "execute_result"
    }
   ],
   "source": [
    "test"
   ]
  },
  {
   "cell_type": "code",
   "execution_count": 88,
   "id": "05807afd",
   "metadata": {},
   "outputs": [
    {
     "data": {
      "text/plain": [
       "<AxesSubplot:xlabel='Date'>"
      ]
     },
     "execution_count": 88,
     "metadata": {},
     "output_type": "execute_result"
    },
    {
     "data": {
      "image/png": "[encoded data removed]",
      "text/plain": [
       "<Figure size 1200x800 with 1 Axes>"
      ]
     },
     "metadata": {},
     "output_type": "display_data"
    }
   ],
   "source": [
    "test.iloc[:,-2:].plot(kind='bar',figsize=(12,8))"
   ]
  },
  {
   "cell_type": "markdown",
   "id": "cd98d7b8",
   "metadata": {},
   "source": [
    "# create graph"
   ]
  },
  {
   "cell_type": "code",
   "execution_count": 89,
   "id": "e2f45daf",
   "metadata": {},
   "outputs": [
    {
     "data": {
      "text/html": [
       "<div>\n",
       "<style scoped>\n",
       "    .dataframe tbody tr th:only-of-type {\n",
       "        vertical-align: middle;\n",
       "    }\n",
       "\n",
       "    .dataframe tbody tr th {\n",
       "        vertical-align: top;\n",
       "    }\n",
       "\n",
       "    .dataframe thead th {\n",
       "        text-align: right;\n",
       "    }\n",
       "</style>\n",
       "<table border=\"1\" class=\"dataframe\">\n",
       "  <thead>\n",
       "    <tr style=\"text-align: right;\">\n",
       "      <th></th>\n",
       "      <th>CL=F</th>\n",
       "      <th>GPSC.BK</th>\n",
       "      <th>PTTEP.BK</th>\n",
       "      <th>PTTGC.BK</th>\n",
       "      <th>PTT.BK</th>\n",
       "      <th>Pred</th>\n",
       "    </tr>\n",
       "    <tr>\n",
       "      <th>Date</th>\n",
       "      <th></th>\n",
       "      <th></th>\n",
       "      <th></th>\n",
       "      <th></th>\n",
       "      <th></th>\n",
       "      <th></th>\n",
       "    </tr>\n",
       "  </thead>\n",
       "  <tbody>\n",
       "    <tr>\n",
       "      <th>2021-05-25</th>\n",
       "      <td>1.000303</td>\n",
       "      <td>1.025641</td>\n",
       "      <td>1.012821</td>\n",
       "      <td>0.972763</td>\n",
       "      <td>1.013072</td>\n",
       "      <td>0.999526</td>\n",
       "    </tr>\n",
       "    <tr>\n",
       "      <th>2021-05-27</th>\n",
       "      <td>1.009666</td>\n",
       "      <td>1.039286</td>\n",
       "      <td>0.987342</td>\n",
       "      <td>1.004000</td>\n",
       "      <td>1.000000</td>\n",
       "      <td>0.996648</td>\n",
       "    </tr>\n",
       "    <tr>\n",
       "      <th>2021-05-28</th>\n",
       "      <td>0.992072</td>\n",
       "      <td>0.989691</td>\n",
       "      <td>1.004273</td>\n",
       "      <td>1.003984</td>\n",
       "      <td>1.012903</td>\n",
       "      <td>1.002552</td>\n",
       "    </tr>\n",
       "    <tr>\n",
       "      <th>2021-05-31</th>\n",
       "      <td>1.000000</td>\n",
       "      <td>1.013889</td>\n",
       "      <td>1.008511</td>\n",
       "      <td>1.003968</td>\n",
       "      <td>1.006369</td>\n",
       "      <td>1.005558</td>\n",
       "    </tr>\n",
       "    <tr>\n",
       "      <th>2021-06-01</th>\n",
       "      <td>1.021110</td>\n",
       "      <td>1.051370</td>\n",
       "      <td>1.008439</td>\n",
       "      <td>1.007905</td>\n",
       "      <td>1.050633</td>\n",
       "      <td>1.008298</td>\n",
       "    </tr>\n",
       "    <tr>\n",
       "      <th>...</th>\n",
       "      <td>...</td>\n",
       "      <td>...</td>\n",
       "      <td>...</td>\n",
       "      <td>...</td>\n",
       "      <td>...</td>\n",
       "      <td>...</td>\n",
       "    </tr>\n",
       "    <tr>\n",
       "      <th>2021-09-23</th>\n",
       "      <td>1.014814</td>\n",
       "      <td>1.000000</td>\n",
       "      <td>1.004444</td>\n",
       "      <td>1.008333</td>\n",
       "      <td>1.012658</td>\n",
       "      <td>1.004550</td>\n",
       "    </tr>\n",
       "    <tr>\n",
       "      <th>2021-09-27</th>\n",
       "      <td>1.019870</td>\n",
       "      <td>0.987179</td>\n",
       "      <td>1.035398</td>\n",
       "      <td>1.020661</td>\n",
       "      <td>1.012500</td>\n",
       "      <td>1.022141</td>\n",
       "    </tr>\n",
       "    <tr>\n",
       "      <th>2021-09-28</th>\n",
       "      <td>0.997879</td>\n",
       "      <td>0.990260</td>\n",
       "      <td>1.017094</td>\n",
       "      <td>1.032389</td>\n",
       "      <td>1.000000</td>\n",
       "      <td>1.016459</td>\n",
       "    </tr>\n",
       "    <tr>\n",
       "      <th>2021-09-29</th>\n",
       "      <td>0.993890</td>\n",
       "      <td>1.000000</td>\n",
       "      <td>1.000000</td>\n",
       "      <td>0.992157</td>\n",
       "      <td>0.998728</td>\n",
       "      <td>0.997716</td>\n",
       "    </tr>\n",
       "    <tr>\n",
       "      <th>2021-09-30</th>\n",
       "      <td>1.002673</td>\n",
       "      <td>0.990164</td>\n",
       "      <td>0.987395</td>\n",
       "      <td>1.000000</td>\n",
       "      <td>0.993631</td>\n",
       "      <td>0.993676</td>\n",
       "    </tr>\n",
       "  </tbody>\n",
       "</table>\n",
       "<p>86 rows × 6 columns</p>\n",
       "</div>"
      ],
      "text/plain": [
       "                CL=F   GPSC.BK  PTTEP.BK  PTTGC.BK    PTT.BK      Pred\n",
       "Date                                                                  \n",
       "2021-05-25  1.000303  1.025641  1.012821  0.972763  1.013072  0.999526\n",
       "2021-05-27  1.009666  1.039286  0.987342  1.004000  1.000000  0.996648\n",
       "2021-05-28  0.992072  0.989691  1.004273  1.003984  1.012903  1.002552\n",
       "2021-05-31  1.000000  1.013889  1.008511  1.003968  1.006369  1.005558\n",
       "2021-06-01  1.021110  1.051370  1.008439  1.007905  1.050633  1.008298\n",
       "...              ...       ...       ...       ...       ...       ...\n",
       "2021-09-23  1.014814  1.000000  1.004444  1.008333  1.012658  1.004550\n",
       "2021-09-27  1.019870  0.987179  1.035398  1.020661  1.012500  1.022141\n",
       "2021-09-28  0.997879  0.990260  1.017094  1.032389  1.000000  1.016459\n",
       "2021-09-29  0.993890  1.000000  1.000000  0.992157  0.998728  0.997716\n",
       "2021-09-30  1.002673  0.990164  0.987395  1.000000  0.993631  0.993676\n",
       "\n",
       "[86 rows x 6 columns]"
      ]
     },
     "execution_count": 89,
     "metadata": {},
     "output_type": "execute_result"
    }
   ],
   "source": [
    "test+1"
   ]
  },
  {
   "cell_type": "code",
   "execution_count": 91,
   "id": "bceed059",
   "metadata": {},
   "outputs": [
    {
     "data": {
      "text/html": [
       "<div>\n",
       "<style scoped>\n",
       "    .dataframe tbody tr th:only-of-type {\n",
       "        vertical-align: middle;\n",
       "    }\n",
       "\n",
       "    .dataframe tbody tr th {\n",
       "        vertical-align: top;\n",
       "    }\n",
       "\n",
       "    .dataframe thead th {\n",
       "        text-align: right;\n",
       "    }\n",
       "</style>\n",
       "<table border=\"1\" class=\"dataframe\">\n",
       "  <thead>\n",
       "    <tr style=\"text-align: right;\">\n",
       "      <th></th>\n",
       "      <th>CL=F</th>\n",
       "      <th>GPSC.BK</th>\n",
       "      <th>PTTEP.BK</th>\n",
       "      <th>PTTGC.BK</th>\n",
       "      <th>PTT.BK</th>\n",
       "      <th>Pred</th>\n",
       "    </tr>\n",
       "    <tr>\n",
       "      <th>Date</th>\n",
       "      <th></th>\n",
       "      <th></th>\n",
       "      <th></th>\n",
       "      <th></th>\n",
       "      <th></th>\n",
       "      <th></th>\n",
       "    </tr>\n",
       "  </thead>\n",
       "  <tbody>\n",
       "    <tr>\n",
       "      <th>2021-05-25</th>\n",
       "      <td>1.000303</td>\n",
       "      <td>1.025641</td>\n",
       "      <td>1.012821</td>\n",
       "      <td>0.972763</td>\n",
       "      <td>1.013072</td>\n",
       "      <td>0.999526</td>\n",
       "    </tr>\n",
       "    <tr>\n",
       "      <th>2021-05-27</th>\n",
       "      <td>1.009972</td>\n",
       "      <td>1.065934</td>\n",
       "      <td>1.000000</td>\n",
       "      <td>0.976654</td>\n",
       "      <td>1.013072</td>\n",
       "      <td>0.996175</td>\n",
       "    </tr>\n",
       "    <tr>\n",
       "      <th>2021-05-28</th>\n",
       "      <td>1.001965</td>\n",
       "      <td>1.054945</td>\n",
       "      <td>1.004273</td>\n",
       "      <td>0.980545</td>\n",
       "      <td>1.026144</td>\n",
       "      <td>0.998717</td>\n",
       "    </tr>\n",
       "    <tr>\n",
       "      <th>2021-05-31</th>\n",
       "      <td>1.001965</td>\n",
       "      <td>1.069597</td>\n",
       "      <td>1.012821</td>\n",
       "      <td>0.984436</td>\n",
       "      <td>1.032680</td>\n",
       "      <td>1.004269</td>\n",
       "    </tr>\n",
       "    <tr>\n",
       "      <th>2021-06-01</th>\n",
       "      <td>1.023116</td>\n",
       "      <td>1.124542</td>\n",
       "      <td>1.021368</td>\n",
       "      <td>0.992218</td>\n",
       "      <td>1.084967</td>\n",
       "      <td>1.012602</td>\n",
       "    </tr>\n",
       "    <tr>\n",
       "      <th>...</th>\n",
       "      <td>...</td>\n",
       "      <td>...</td>\n",
       "      <td>...</td>\n",
       "      <td>...</td>\n",
       "      <td>...</td>\n",
       "      <td>...</td>\n",
       "    </tr>\n",
       "    <tr>\n",
       "      <th>2021-09-23</th>\n",
       "      <td>1.108239</td>\n",
       "      <td>1.153894</td>\n",
       "      <td>0.993085</td>\n",
       "      <td>1.038849</td>\n",
       "      <td>1.052817</td>\n",
       "      <td>1.013376</td>\n",
       "    </tr>\n",
       "    <tr>\n",
       "      <th>2021-09-27</th>\n",
       "      <td>1.130259</td>\n",
       "      <td>1.139100</td>\n",
       "      <td>1.028238</td>\n",
       "      <td>1.060313</td>\n",
       "      <td>1.065978</td>\n",
       "      <td>1.035813</td>\n",
       "    </tr>\n",
       "    <tr>\n",
       "      <th>2021-09-28</th>\n",
       "      <td>1.127863</td>\n",
       "      <td>1.128005</td>\n",
       "      <td>1.045815</td>\n",
       "      <td>1.094655</td>\n",
       "      <td>1.065978</td>\n",
       "      <td>1.052861</td>\n",
       "    </tr>\n",
       "    <tr>\n",
       "      <th>2021-09-29</th>\n",
       "      <td>1.120972</td>\n",
       "      <td>1.128005</td>\n",
       "      <td>1.045815</td>\n",
       "      <td>1.086070</td>\n",
       "      <td>1.064621</td>\n",
       "      <td>1.050457</td>\n",
       "    </tr>\n",
       "    <tr>\n",
       "      <th>2021-09-30</th>\n",
       "      <td>1.123968</td>\n",
       "      <td>1.116910</td>\n",
       "      <td>1.032632</td>\n",
       "      <td>1.086070</td>\n",
       "      <td>1.057840</td>\n",
       "      <td>1.043814</td>\n",
       "    </tr>\n",
       "  </tbody>\n",
       "</table>\n",
       "<p>86 rows × 6 columns</p>\n",
       "</div>"
      ],
      "text/plain": [
       "                CL=F   GPSC.BK  PTTEP.BK  PTTGC.BK    PTT.BK      Pred\n",
       "Date                                                                  \n",
       "2021-05-25  1.000303  1.025641  1.012821  0.972763  1.013072  0.999526\n",
       "2021-05-27  1.009972  1.065934  1.000000  0.976654  1.013072  0.996175\n",
       "2021-05-28  1.001965  1.054945  1.004273  0.980545  1.026144  0.998717\n",
       "2021-05-31  1.001965  1.069597  1.012821  0.984436  1.032680  1.004269\n",
       "2021-06-01  1.023116  1.124542  1.021368  0.992218  1.084967  1.012602\n",
       "...              ...       ...       ...       ...       ...       ...\n",
       "2021-09-23  1.108239  1.153894  0.993085  1.038849  1.052817  1.013376\n",
       "2021-09-27  1.130259  1.139100  1.028238  1.060313  1.065978  1.035813\n",
       "2021-09-28  1.127863  1.128005  1.045815  1.094655  1.065978  1.052861\n",
       "2021-09-29  1.120972  1.128005  1.045815  1.086070  1.064621  1.050457\n",
       "2021-09-30  1.123968  1.116910  1.032632  1.086070  1.057840  1.043814\n",
       "\n",
       "[86 rows x 6 columns]"
      ]
     },
     "execution_count": 91,
     "metadata": {},
     "output_type": "execute_result"
    }
   ],
   "source": [
    "(test+1).cumprod(axis=0)"
   ]
  },
  {
   "cell_type": "code",
   "execution_count": 93,
   "id": "4f958abe",
   "metadata": {},
   "outputs": [
    {
     "data": {
      "text/plain": [
       "<AxesSubplot:xlabel='Date'>"
      ]
     },
     "execution_count": 93,
     "metadata": {},
     "output_type": "execute_result"
    },
    {
     "data": {
      "image/png": "[encoded data removed]",
      "text/plain": [
       "<Figure size 640x480 with 1 Axes>"
      ]
     },
     "metadata": {},
     "output_type": "display_data"
    }
   ],
   "source": [
    "(test+1).iloc[:,-2:].cumprod().plot()"
   ]
  },
  {
   "cell_type": "code",
   "execution_count": null,
   "id": "be932118",
   "metadata": {},
   "outputs": [],
   "source": []
  }
 ],
 "metadata": {
  "kernelspec": {
   "display_name": "Python 3 (ipykernel)",
   "language": "python",
   "name": "python3"
  },
  "language_info": {
   "codemirror_mode": {
    "name": "ipython",
    "version": 3
   },
   "file_extension": ".py",
   "mimetype": "text/x-python",
   "name": "python",
   "nbconvert_exporter": "python",
   "pygments_lexer": "ipython3",
   "version": "3.9.13"
  }
 },
 "nbformat": 4,
 "nbformat_minor": 5
}
