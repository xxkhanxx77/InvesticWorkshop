{
 "cells": [
  {
   "cell_type": "code",
   "execution_count": 1,
   "id": "d7f30859",
   "metadata": {},
   "outputs": [],
   "source": [
    "import pandas as pd\n",
    "import yfinance as yf\n",
    "import numpy as np\n",
    "import matplotlib.pyplot as plt"
   ]
  },
  {
   "cell_type": "code",
   "execution_count": 2,
   "id": "7ae9657c",
   "metadata": {},
   "outputs": [],
   "source": [
    "start ='2017-01-01'\n",
    "end='2022-10-01'"
   ]
  },
  {
   "cell_type": "code",
   "execution_count": 3,
   "id": "40666654",
   "metadata": {},
   "outputs": [
    {
     "name": "stdout",
     "output_type": "stream",
     "text": [
      "[*********************100%***********************]  2 of 2 completed\n"
     ]
    }
   ],
   "source": [
    "data=yf.download('CL=F PTTEP.BK',start=start,end=end,period=1)"
   ]
  },
  {
   "cell_type": "code",
   "execution_count": 4,
   "id": "3fa10a7d",
   "metadata": {},
   "outputs": [],
   "source": [
    "df=data['Adj Close']\n",
    "# use adj close cause we will concern about dividened event , par event"
   ]
  },
  {
   "cell_type": "code",
   "execution_count": 5,
   "id": "e3247209",
   "metadata": {},
   "outputs": [
    {
     "data": {
      "text/html": [
       "<div>\n",
       "<style scoped>\n",
       "    .dataframe tbody tr th:only-of-type {\n",
       "        vertical-align: middle;\n",
       "    }\n",
       "\n",
       "    .dataframe tbody tr th {\n",
       "        vertical-align: top;\n",
       "    }\n",
       "\n",
       "    .dataframe thead th {\n",
       "        text-align: right;\n",
       "    }\n",
       "</style>\n",
       "<table border=\"1\" class=\"dataframe\">\n",
       "  <thead>\n",
       "    <tr style=\"text-align: right;\">\n",
       "      <th></th>\n",
       "      <th>CL=F</th>\n",
       "      <th>PTTEP.BK</th>\n",
       "    </tr>\n",
       "    <tr>\n",
       "      <th>Date</th>\n",
       "      <th></th>\n",
       "      <th></th>\n",
       "    </tr>\n",
       "  </thead>\n",
       "  <tbody>\n",
       "    <tr>\n",
       "      <th>2017-01-03</th>\n",
       "      <td>52.330002</td>\n",
       "      <td>NaN</td>\n",
       "    </tr>\n",
       "    <tr>\n",
       "      <th>2017-01-04</th>\n",
       "      <td>53.259998</td>\n",
       "      <td>74.474831</td>\n",
       "    </tr>\n",
       "    <tr>\n",
       "      <th>2017-01-05</th>\n",
       "      <td>53.759998</td>\n",
       "      <td>74.096771</td>\n",
       "    </tr>\n",
       "    <tr>\n",
       "      <th>2017-01-06</th>\n",
       "      <td>53.990002</td>\n",
       "      <td>74.474831</td>\n",
       "    </tr>\n",
       "    <tr>\n",
       "      <th>2017-01-09</th>\n",
       "      <td>51.959999</td>\n",
       "      <td>73.907738</td>\n",
       "    </tr>\n",
       "    <tr>\n",
       "      <th>...</th>\n",
       "      <td>...</td>\n",
       "      <td>...</td>\n",
       "    </tr>\n",
       "    <tr>\n",
       "      <th>2022-09-26</th>\n",
       "      <td>76.709999</td>\n",
       "      <td>166.000000</td>\n",
       "    </tr>\n",
       "    <tr>\n",
       "      <th>2022-09-27</th>\n",
       "      <td>78.500000</td>\n",
       "      <td>164.500000</td>\n",
       "    </tr>\n",
       "    <tr>\n",
       "      <th>2022-09-28</th>\n",
       "      <td>82.150002</td>\n",
       "      <td>162.000000</td>\n",
       "    </tr>\n",
       "    <tr>\n",
       "      <th>2022-09-29</th>\n",
       "      <td>81.230003</td>\n",
       "      <td>161.000000</td>\n",
       "    </tr>\n",
       "    <tr>\n",
       "      <th>2022-09-30</th>\n",
       "      <td>79.489998</td>\n",
       "      <td>160.500000</td>\n",
       "    </tr>\n",
       "  </tbody>\n",
       "</table>\n",
       "<p>1491 rows × 2 columns</p>\n",
       "</div>"
      ],
      "text/plain": [
       "                 CL=F    PTTEP.BK\n",
       "Date                             \n",
       "2017-01-03  52.330002         NaN\n",
       "2017-01-04  53.259998   74.474831\n",
       "2017-01-05  53.759998   74.096771\n",
       "2017-01-06  53.990002   74.474831\n",
       "2017-01-09  51.959999   73.907738\n",
       "...               ...         ...\n",
       "2022-09-26  76.709999  166.000000\n",
       "2022-09-27  78.500000  164.500000\n",
       "2022-09-28  82.150002  162.000000\n",
       "2022-09-29  81.230003  161.000000\n",
       "2022-09-30  79.489998  160.500000\n",
       "\n",
       "[1491 rows x 2 columns]"
      ]
     },
     "execution_count": 5,
     "metadata": {},
     "output_type": "execute_result"
    }
   ],
   "source": [
    "df"
   ]
  },
  {
   "cell_type": "code",
   "execution_count": 6,
   "id": "44a6d92b",
   "metadata": {},
   "outputs": [
    {
     "data": {
      "text/plain": [
       "CL=F        42\n",
       "PTTEP.BK    95\n",
       "dtype: int64"
      ]
     },
     "execution_count": 6,
     "metadata": {},
     "output_type": "execute_result"
    }
   ],
   "source": [
    "df.isnull().sum()"
   ]
  },
  {
   "cell_type": "code",
   "execution_count": 7,
   "id": "1fbb9427",
   "metadata": {},
   "outputs": [
    {
     "name": "stderr",
     "output_type": "stream",
     "text": [
      "/var/folders/0j/079zvm2s3dxclvzgz86_k33m0000gn/T/ipykernel_8886/1379821321.py:1: SettingWithCopyWarning: \n",
      "A value is trying to be set on a copy of a slice from a DataFrame\n",
      "\n",
      "See the caveats in the documentation: https://pandas.pydata.org/pandas-docs/stable/user_guide/indexing.html#returning-a-view-versus-a-copy\n",
      "  df.dropna(inplace=True)\n"
     ]
    }
   ],
   "source": [
    "df.dropna(inplace=True)"
   ]
  },
  {
   "cell_type": "code",
   "execution_count": 8,
   "id": "2f60345d",
   "metadata": {},
   "outputs": [
    {
     "data": {
      "text/html": [
       "<div>\n",
       "<style scoped>\n",
       "    .dataframe tbody tr th:only-of-type {\n",
       "        vertical-align: middle;\n",
       "    }\n",
       "\n",
       "    .dataframe tbody tr th {\n",
       "        vertical-align: top;\n",
       "    }\n",
       "\n",
       "    .dataframe thead th {\n",
       "        text-align: right;\n",
       "    }\n",
       "</style>\n",
       "<table border=\"1\" class=\"dataframe\">\n",
       "  <thead>\n",
       "    <tr style=\"text-align: right;\">\n",
       "      <th></th>\n",
       "      <th>CL=F</th>\n",
       "      <th>PTTEP.BK</th>\n",
       "    </tr>\n",
       "    <tr>\n",
       "      <th>Date</th>\n",
       "      <th></th>\n",
       "      <th></th>\n",
       "    </tr>\n",
       "  </thead>\n",
       "  <tbody>\n",
       "    <tr>\n",
       "      <th>2017-01-04</th>\n",
       "      <td>53.259998</td>\n",
       "      <td>74.474831</td>\n",
       "    </tr>\n",
       "    <tr>\n",
       "      <th>2017-01-05</th>\n",
       "      <td>53.759998</td>\n",
       "      <td>74.096771</td>\n",
       "    </tr>\n",
       "    <tr>\n",
       "      <th>2017-01-06</th>\n",
       "      <td>53.990002</td>\n",
       "      <td>74.474831</td>\n",
       "    </tr>\n",
       "    <tr>\n",
       "      <th>2017-01-09</th>\n",
       "      <td>51.959999</td>\n",
       "      <td>73.907738</td>\n",
       "    </tr>\n",
       "    <tr>\n",
       "      <th>2017-01-10</th>\n",
       "      <td>50.820000</td>\n",
       "      <td>72.584587</td>\n",
       "    </tr>\n",
       "    <tr>\n",
       "      <th>...</th>\n",
       "      <td>...</td>\n",
       "      <td>...</td>\n",
       "    </tr>\n",
       "    <tr>\n",
       "      <th>2022-09-26</th>\n",
       "      <td>76.709999</td>\n",
       "      <td>166.000000</td>\n",
       "    </tr>\n",
       "    <tr>\n",
       "      <th>2022-09-27</th>\n",
       "      <td>78.500000</td>\n",
       "      <td>164.500000</td>\n",
       "    </tr>\n",
       "    <tr>\n",
       "      <th>2022-09-28</th>\n",
       "      <td>82.150002</td>\n",
       "      <td>162.000000</td>\n",
       "    </tr>\n",
       "    <tr>\n",
       "      <th>2022-09-29</th>\n",
       "      <td>81.230003</td>\n",
       "      <td>161.000000</td>\n",
       "    </tr>\n",
       "    <tr>\n",
       "      <th>2022-09-30</th>\n",
       "      <td>79.489998</td>\n",
       "      <td>160.500000</td>\n",
       "    </tr>\n",
       "  </tbody>\n",
       "</table>\n",
       "<p>1354 rows × 2 columns</p>\n",
       "</div>"
      ],
      "text/plain": [
       "                 CL=F    PTTEP.BK\n",
       "Date                             \n",
       "2017-01-04  53.259998   74.474831\n",
       "2017-01-05  53.759998   74.096771\n",
       "2017-01-06  53.990002   74.474831\n",
       "2017-01-09  51.959999   73.907738\n",
       "2017-01-10  50.820000   72.584587\n",
       "...               ...         ...\n",
       "2022-09-26  76.709999  166.000000\n",
       "2022-09-27  78.500000  164.500000\n",
       "2022-09-28  82.150002  162.000000\n",
       "2022-09-29  81.230003  161.000000\n",
       "2022-09-30  79.489998  160.500000\n",
       "\n",
       "[1354 rows x 2 columns]"
      ]
     },
     "execution_count": 8,
     "metadata": {},
     "output_type": "execute_result"
    }
   ],
   "source": [
    "df"
   ]
  },
  {
   "cell_type": "code",
   "execution_count": 9,
   "id": "dae8838f",
   "metadata": {},
   "outputs": [
    {
     "data": {
      "text/plain": [
       "<AxesSubplot:xlabel='Date'>"
      ]
     },
     "execution_count": 9,
     "metadata": {},
     "output_type": "execute_result"
    },
    {
     "data": {
      "image/png": "[encoded data removed]",
      "text/plain": [
       "<Figure size 640x480 with 1 Axes>"
      ]
     },
     "metadata": {},
     "output_type": "display_data"
    }
   ],
   "source": [
    "df.plot()"
   ]
  },
  {
   "cell_type": "code",
   "execution_count": 10,
   "id": "38814409",
   "metadata": {},
   "outputs": [
    {
     "data": {
      "text/plain": [
       "<AxesSubplot:xlabel='Date'>"
      ]
     },
     "execution_count": 10,
     "metadata": {},
     "output_type": "execute_result"
    },
    {
     "data": {
      "image/png": "[encoded data removed]",
      "text/plain": [
       "<Figure size 640x480 with 1 Axes>"
      ]
     },
     "metadata": {},
     "output_type": "display_data"
    }
   ],
   "source": [
    "\n",
    "df.pct_change().plot()"
   ]
  },
  {
   "cell_type": "code",
   "execution_count": null,
   "id": "cf19a112",
   "metadata": {},
   "outputs": [],
   "source": []
  },
  {
   "cell_type": "code",
   "execution_count": 11,
   "id": "c4010675",
   "metadata": {
    "scrolled": false
   },
   "outputs": [
    {
     "data": {
      "text/plain": [
       "<AxesSubplot:xlabel='Date'>"
      ]
     },
     "execution_count": 11,
     "metadata": {},
     "output_type": "execute_result"
    },
    {
     "data": {
      "image/png": "[encoded data removed]",
      "text/plain": [
       "<Figure size 640x480 with 1 Axes>"
      ]
     },
     "metadata": {},
     "output_type": "display_data"
    }
   ],
   "source": [
    "df.loc['2020-03':'2020-04'].plot()"
   ]
  },
  {
   "cell_type": "code",
   "execution_count": 13,
   "id": "918166ba",
   "metadata": {},
   "outputs": [
    {
     "data": {
      "text/plain": [
       "<AxesSubplot:xlabel='Date'>"
      ]
     },
     "execution_count": 13,
     "metadata": {},
     "output_type": "execute_result"
    },
    {
     "data": {
      "image/png": "[encoded data removed]",
      "text/plain": [
       "<Figure size 640x480 with 1 Axes>"
      ]
     },
     "metadata": {},
     "output_type": "display_data"
    }
   ],
   "source": [
    "df.loc['2020-04-15':'2020-04-25'].plot()"
   ]
  },
  {
   "cell_type": "code",
   "execution_count": 38,
   "id": "3096a95a",
   "metadata": {},
   "outputs": [],
   "source": [
    "df_ret = df.pct_change()\n",
    "start_remove = '2020-04-18'\n",
    "end_remove = '2020-04-22'\n"
   ]
  },
  {
   "cell_type": "code",
   "execution_count": 39,
   "id": "93248667",
   "metadata": {},
   "outputs": [
    {
     "name": "stderr",
     "output_type": "stream",
     "text": [
      "/var/folders/0j/079zvm2s3dxclvzgz86_k33m0000gn/T/ipykernel_8886/1675457969.py:1: FutureWarning: The frame.append method is deprecated and will be removed from pandas in a future version. Use pandas.concat instead.\n",
      "  df_clean = df_ret.loc[:start_remove].append(df_ret.loc[end_remove:])\n"
     ]
    }
   ],
   "source": [
    "df_clean = df_ret.loc[:start_remove].append(df_ret.loc[end_remove:])\n"
   ]
  },
  {
   "cell_type": "code",
   "execution_count": 40,
   "id": "9cda62b4",
   "metadata": {},
   "outputs": [
    {
     "data": {
      "text/html": [
       "<div>\n",
       "<style scoped>\n",
       "    .dataframe tbody tr th:only-of-type {\n",
       "        vertical-align: middle;\n",
       "    }\n",
       "\n",
       "    .dataframe tbody tr th {\n",
       "        vertical-align: top;\n",
       "    }\n",
       "\n",
       "    .dataframe thead th {\n",
       "        text-align: right;\n",
       "    }\n",
       "</style>\n",
       "<table border=\"1\" class=\"dataframe\">\n",
       "  <thead>\n",
       "    <tr style=\"text-align: right;\">\n",
       "      <th></th>\n",
       "      <th>CL=F</th>\n",
       "      <th>PTTEP.BK</th>\n",
       "    </tr>\n",
       "    <tr>\n",
       "      <th>Date</th>\n",
       "      <th></th>\n",
       "      <th></th>\n",
       "    </tr>\n",
       "  </thead>\n",
       "  <tbody>\n",
       "    <tr>\n",
       "      <th>2017-01-04</th>\n",
       "      <td>NaN</td>\n",
       "      <td>NaN</td>\n",
       "    </tr>\n",
       "    <tr>\n",
       "      <th>2017-01-05</th>\n",
       "      <td>0.009388</td>\n",
       "      <td>-0.005076</td>\n",
       "    </tr>\n",
       "    <tr>\n",
       "      <th>2017-01-06</th>\n",
       "      <td>0.004278</td>\n",
       "      <td>0.005102</td>\n",
       "    </tr>\n",
       "    <tr>\n",
       "      <th>2017-01-09</th>\n",
       "      <td>-0.037600</td>\n",
       "      <td>-0.007615</td>\n",
       "    </tr>\n",
       "    <tr>\n",
       "      <th>2017-01-10</th>\n",
       "      <td>-0.021940</td>\n",
       "      <td>-0.017903</td>\n",
       "    </tr>\n",
       "    <tr>\n",
       "      <th>...</th>\n",
       "      <td>...</td>\n",
       "      <td>...</td>\n",
       "    </tr>\n",
       "    <tr>\n",
       "      <th>2022-09-26</th>\n",
       "      <td>-0.025781</td>\n",
       "      <td>-0.026393</td>\n",
       "    </tr>\n",
       "    <tr>\n",
       "      <th>2022-09-27</th>\n",
       "      <td>0.023335</td>\n",
       "      <td>-0.009036</td>\n",
       "    </tr>\n",
       "    <tr>\n",
       "      <th>2022-09-28</th>\n",
       "      <td>0.046497</td>\n",
       "      <td>-0.015198</td>\n",
       "    </tr>\n",
       "    <tr>\n",
       "      <th>2022-09-29</th>\n",
       "      <td>-0.011199</td>\n",
       "      <td>-0.006173</td>\n",
       "    </tr>\n",
       "    <tr>\n",
       "      <th>2022-09-30</th>\n",
       "      <td>-0.021421</td>\n",
       "      <td>-0.003106</td>\n",
       "    </tr>\n",
       "  </tbody>\n",
       "</table>\n",
       "<p>1352 rows × 2 columns</p>\n",
       "</div>"
      ],
      "text/plain": [
       "                CL=F  PTTEP.BK\n",
       "Date                          \n",
       "2017-01-04       NaN       NaN\n",
       "2017-01-05  0.009388 -0.005076\n",
       "2017-01-06  0.004278  0.005102\n",
       "2017-01-09 -0.037600 -0.007615\n",
       "2017-01-10 -0.021940 -0.017903\n",
       "...              ...       ...\n",
       "2022-09-26 -0.025781 -0.026393\n",
       "2022-09-27  0.023335 -0.009036\n",
       "2022-09-28  0.046497 -0.015198\n",
       "2022-09-29 -0.011199 -0.006173\n",
       "2022-09-30 -0.021421 -0.003106\n",
       "\n",
       "[1352 rows x 2 columns]"
      ]
     },
     "execution_count": 40,
     "metadata": {},
     "output_type": "execute_result"
    }
   ],
   "source": [
    "df_clean"
   ]
  },
  {
   "cell_type": "code",
   "execution_count": 41,
   "id": "b2f16fa6",
   "metadata": {},
   "outputs": [
    {
     "data": {
      "text/html": [
       "<div>\n",
       "<style scoped>\n",
       "    .dataframe tbody tr th:only-of-type {\n",
       "        vertical-align: middle;\n",
       "    }\n",
       "\n",
       "    .dataframe tbody tr th {\n",
       "        vertical-align: top;\n",
       "    }\n",
       "\n",
       "    .dataframe thead th {\n",
       "        text-align: right;\n",
       "    }\n",
       "</style>\n",
       "<table border=\"1\" class=\"dataframe\">\n",
       "  <thead>\n",
       "    <tr style=\"text-align: right;\">\n",
       "      <th></th>\n",
       "      <th>CL=F</th>\n",
       "      <th>PTTEP.BK</th>\n",
       "    </tr>\n",
       "    <tr>\n",
       "      <th>Date</th>\n",
       "      <th></th>\n",
       "      <th></th>\n",
       "    </tr>\n",
       "  </thead>\n",
       "  <tbody>\n",
       "    <tr>\n",
       "      <th>2020-04-15</th>\n",
       "      <td>-0.011934</td>\n",
       "      <td>-0.027950</td>\n",
       "    </tr>\n",
       "    <tr>\n",
       "      <th>2020-04-16</th>\n",
       "      <td>0.000000</td>\n",
       "      <td>-0.054313</td>\n",
       "    </tr>\n",
       "    <tr>\n",
       "      <th>2020-04-17</th>\n",
       "      <td>-0.080523</td>\n",
       "      <td>0.033784</td>\n",
       "    </tr>\n",
       "    <tr>\n",
       "      <th>2020-04-22</th>\n",
       "      <td>0.376623</td>\n",
       "      <td>-0.019672</td>\n",
       "    </tr>\n",
       "    <tr>\n",
       "      <th>2020-04-23</th>\n",
       "      <td>0.197388</td>\n",
       "      <td>0.016722</td>\n",
       "    </tr>\n",
       "    <tr>\n",
       "      <th>2020-04-24</th>\n",
       "      <td>0.026667</td>\n",
       "      <td>0.003289</td>\n",
       "    </tr>\n",
       "  </tbody>\n",
       "</table>\n",
       "</div>"
      ],
      "text/plain": [
       "                CL=F  PTTEP.BK\n",
       "Date                          \n",
       "2020-04-15 -0.011934 -0.027950\n",
       "2020-04-16  0.000000 -0.054313\n",
       "2020-04-17 -0.080523  0.033784\n",
       "2020-04-22  0.376623 -0.019672\n",
       "2020-04-23  0.197388  0.016722\n",
       "2020-04-24  0.026667  0.003289"
      ]
     },
     "execution_count": 41,
     "metadata": {},
     "output_type": "execute_result"
    }
   ],
   "source": [
    "df_clean.loc['2020-04-15':'2020-04-25']"
   ]
  },
  {
   "cell_type": "code",
   "execution_count": 42,
   "id": "0550bf52",
   "metadata": {},
   "outputs": [
    {
     "data": {
      "text/plain": [
       "<AxesSubplot:xlabel='Date'>"
      ]
     },
     "execution_count": 42,
     "metadata": {},
     "output_type": "execute_result"
    },
    {
     "data": {
      "image/png": "[encoded data removed]",
      "text/plain": [
       "<Figure size 640x480 with 1 Axes>"
      ]
     },
     "metadata": {},
     "output_type": "display_data"
    }
   ],
   "source": [
    "df_clean.loc['2020-04-15':'2020-04-25'].plot()"
   ]
  },
  {
   "cell_type": "code",
   "execution_count": 51,
   "id": "bdbe9a52",
   "metadata": {},
   "outputs": [
    {
     "data": {
      "text/plain": [
       "<AxesSubplot:xlabel='Date'>"
      ]
     },
     "execution_count": 51,
     "metadata": {},
     "output_type": "execute_result"
    },
    {
     "data": {
      "image/png": "[encoded data removed]",
      "text/plain": [
       "<Figure size 640x480 with 1 Axes>"
      ]
     },
     "metadata": {},
     "output_type": "display_data"
    }
   ],
   "source": [
    "df_clean.pct_change().plot()"
   ]
  },
  {
   "cell_type": "code",
   "execution_count": 49,
   "id": "62bc90a6",
   "metadata": {},
   "outputs": [
    {
     "data": {
      "text/html": [
       "<div>\n",
       "<style scoped>\n",
       "    .dataframe tbody tr th:only-of-type {\n",
       "        vertical-align: middle;\n",
       "    }\n",
       "\n",
       "    .dataframe tbody tr th {\n",
       "        vertical-align: top;\n",
       "    }\n",
       "\n",
       "    .dataframe thead th {\n",
       "        text-align: right;\n",
       "    }\n",
       "</style>\n",
       "<table border=\"1\" class=\"dataframe\">\n",
       "  <thead>\n",
       "    <tr style=\"text-align: right;\">\n",
       "      <th></th>\n",
       "      <th>CL=F</th>\n",
       "      <th>PTTEP.BK</th>\n",
       "    </tr>\n",
       "    <tr>\n",
       "      <th>Date</th>\n",
       "      <th></th>\n",
       "      <th></th>\n",
       "    </tr>\n",
       "  </thead>\n",
       "  <tbody>\n",
       "    <tr>\n",
       "      <th>2021-12-15</th>\n",
       "      <td>0.001979</td>\n",
       "      <td>-0.012500</td>\n",
       "    </tr>\n",
       "    <tr>\n",
       "      <th>2021-12-16</th>\n",
       "      <td>0.021307</td>\n",
       "      <td>0.008439</td>\n",
       "    </tr>\n",
       "    <tr>\n",
       "      <th>2021-12-17</th>\n",
       "      <td>-0.021000</td>\n",
       "      <td>0.004184</td>\n",
       "    </tr>\n",
       "    <tr>\n",
       "      <th>2021-12-20</th>\n",
       "      <td>-0.037115</td>\n",
       "      <td>-0.029167</td>\n",
       "    </tr>\n",
       "    <tr>\n",
       "      <th>2021-12-21</th>\n",
       "      <td>0.042357</td>\n",
       "      <td>0.008584</td>\n",
       "    </tr>\n",
       "    <tr>\n",
       "      <th>...</th>\n",
       "      <td>...</td>\n",
       "      <td>...</td>\n",
       "    </tr>\n",
       "    <tr>\n",
       "      <th>2022-09-26</th>\n",
       "      <td>-0.025781</td>\n",
       "      <td>-0.026393</td>\n",
       "    </tr>\n",
       "    <tr>\n",
       "      <th>2022-09-27</th>\n",
       "      <td>0.023335</td>\n",
       "      <td>-0.009036</td>\n",
       "    </tr>\n",
       "    <tr>\n",
       "      <th>2022-09-28</th>\n",
       "      <td>0.046497</td>\n",
       "      <td>-0.015198</td>\n",
       "    </tr>\n",
       "    <tr>\n",
       "      <th>2022-09-29</th>\n",
       "      <td>-0.011199</td>\n",
       "      <td>-0.006173</td>\n",
       "    </tr>\n",
       "    <tr>\n",
       "      <th>2022-09-30</th>\n",
       "      <td>-0.021421</td>\n",
       "      <td>-0.003106</td>\n",
       "    </tr>\n",
       "  </tbody>\n",
       "</table>\n",
       "<p>187 rows × 2 columns</p>\n",
       "</div>"
      ],
      "text/plain": [
       "                CL=F  PTTEP.BK\n",
       "Date                          \n",
       "2021-12-15  0.001979 -0.012500\n",
       "2021-12-16  0.021307  0.008439\n",
       "2021-12-17 -0.021000  0.004184\n",
       "2021-12-20 -0.037115 -0.029167\n",
       "2021-12-21  0.042357  0.008584\n",
       "...              ...       ...\n",
       "2022-09-26 -0.025781 -0.026393\n",
       "2022-09-27  0.023335 -0.009036\n",
       "2022-09-28  0.046497 -0.015198\n",
       "2022-09-29 -0.011199 -0.006173\n",
       "2022-09-30 -0.021421 -0.003106\n",
       "\n",
       "[187 rows x 2 columns]"
      ]
     },
     "execution_count": 49,
     "metadata": {},
     "output_type": "execute_result"
    }
   ],
   "source": [
    "df_clean.loc['2021-12-15':]"
   ]
  },
  {
   "cell_type": "code",
   "execution_count": 50,
   "id": "76a5782f",
   "metadata": {},
   "outputs": [
    {
     "data": {
      "text/plain": [
       "<AxesSubplot:xlabel='CL=F', ylabel='PTTEP.BK'>"
      ]
     },
     "execution_count": 50,
     "metadata": {},
     "output_type": "execute_result"
    },
    {
     "data": {
      "image/png": "[encoded data removed]",
      "text/plain": [
       "<Figure size 640x480 with 1 Axes>"
      ]
     },
     "metadata": {},
     "output_type": "display_data"
    }
   ],
   "source": [
    "df_clean.plot.scatter(x='CL=F',y='PTTEP.BK')"
   ]
  },
  {
   "cell_type": "code",
   "execution_count": 52,
   "id": "1e20e84b",
   "metadata": {},
   "outputs": [],
   "source": [
    "X=df_clean['CL=F'].iloc[1:]\n",
    "y= df_clean['PTTEP.BK'].iloc[1:]"
   ]
  },
  {
   "cell_type": "code",
   "execution_count": 53,
   "id": "f7fbcd75",
   "metadata": {},
   "outputs": [],
   "source": [
    "m,c=np.polyfit(X,y,1)"
   ]
  },
  {
   "cell_type": "code",
   "execution_count": 55,
   "id": "5d2f34ef",
   "metadata": {},
   "outputs": [
    {
     "data": {
      "text/plain": [
       "[<matplotlib.lines.Line2D at 0x7fcc18181ac0>]"
      ]
     },
     "execution_count": 55,
     "metadata": {},
     "output_type": "execute_result"
    },
    {
     "data": {
      "image/png": "[encoded data removed]",
      "text/plain": [
       "<Figure size 640x480 with 1 Axes>"
      ]
     },
     "metadata": {},
     "output_type": "display_data"
    }
   ],
   "source": [
    "df_clean.plot.scatter(x='CL=F',y='PTTEP.BK',c='k')\n",
    "plt.plot(X,y,'o')\n",
    "plt.plot(X,m*X+c)"
   ]
  },
  {
   "cell_type": "code",
   "execution_count": 56,
   "id": "45d7dab1",
   "metadata": {},
   "outputs": [],
   "source": [
    "Lower_limit = df_clean.quantile(0.01)\n",
    "Upper_limit = df_clean.quantile(0.99)"
   ]
  },
  {
   "cell_type": "code",
   "execution_count": 58,
   "id": "8770f94f",
   "metadata": {},
   "outputs": [
    {
     "data": {
      "text/plain": [
       "CL=F       -0.081423\n",
       "PTTEP.BK   -0.052030\n",
       "Name: 0.01, dtype: float64"
      ]
     },
     "execution_count": 58,
     "metadata": {},
     "output_type": "execute_result"
    }
   ],
   "source": [
    "Lower_limit"
   ]
  },
  {
   "cell_type": "code",
   "execution_count": 59,
   "id": "0656fcab",
   "metadata": {},
   "outputs": [
    {
     "data": {
      "text/html": [
       "<div>\n",
       "<style scoped>\n",
       "    .dataframe tbody tr th:only-of-type {\n",
       "        vertical-align: middle;\n",
       "    }\n",
       "\n",
       "    .dataframe tbody tr th {\n",
       "        vertical-align: top;\n",
       "    }\n",
       "\n",
       "    .dataframe thead th {\n",
       "        text-align: right;\n",
       "    }\n",
       "</style>\n",
       "<table border=\"1\" class=\"dataframe\">\n",
       "  <thead>\n",
       "    <tr style=\"text-align: right;\">\n",
       "      <th></th>\n",
       "      <th>CL=F</th>\n",
       "      <th>PTTEP.BK</th>\n",
       "    </tr>\n",
       "    <tr>\n",
       "      <th>Date</th>\n",
       "      <th></th>\n",
       "      <th></th>\n",
       "    </tr>\n",
       "  </thead>\n",
       "  <tbody>\n",
       "    <tr>\n",
       "      <th>2017-01-04</th>\n",
       "      <td>False</td>\n",
       "      <td>False</td>\n",
       "    </tr>\n",
       "    <tr>\n",
       "      <th>2017-01-05</th>\n",
       "      <td>True</td>\n",
       "      <td>True</td>\n",
       "    </tr>\n",
       "    <tr>\n",
       "      <th>2017-01-06</th>\n",
       "      <td>True</td>\n",
       "      <td>True</td>\n",
       "    </tr>\n",
       "    <tr>\n",
       "      <th>2017-01-09</th>\n",
       "      <td>True</td>\n",
       "      <td>True</td>\n",
       "    </tr>\n",
       "    <tr>\n",
       "      <th>2017-01-10</th>\n",
       "      <td>True</td>\n",
       "      <td>True</td>\n",
       "    </tr>\n",
       "    <tr>\n",
       "      <th>...</th>\n",
       "      <td>...</td>\n",
       "      <td>...</td>\n",
       "    </tr>\n",
       "    <tr>\n",
       "      <th>2022-09-26</th>\n",
       "      <td>True</td>\n",
       "      <td>True</td>\n",
       "    </tr>\n",
       "    <tr>\n",
       "      <th>2022-09-27</th>\n",
       "      <td>True</td>\n",
       "      <td>True</td>\n",
       "    </tr>\n",
       "    <tr>\n",
       "      <th>2022-09-28</th>\n",
       "      <td>True</td>\n",
       "      <td>True</td>\n",
       "    </tr>\n",
       "    <tr>\n",
       "      <th>2022-09-29</th>\n",
       "      <td>True</td>\n",
       "      <td>True</td>\n",
       "    </tr>\n",
       "    <tr>\n",
       "      <th>2022-09-30</th>\n",
       "      <td>True</td>\n",
       "      <td>True</td>\n",
       "    </tr>\n",
       "  </tbody>\n",
       "</table>\n",
       "<p>1352 rows × 2 columns</p>\n",
       "</div>"
      ],
      "text/plain": [
       "             CL=F  PTTEP.BK\n",
       "Date                       \n",
       "2017-01-04  False     False\n",
       "2017-01-05   True      True\n",
       "2017-01-06   True      True\n",
       "2017-01-09   True      True\n",
       "2017-01-10   True      True\n",
       "...           ...       ...\n",
       "2022-09-26   True      True\n",
       "2022-09-27   True      True\n",
       "2022-09-28   True      True\n",
       "2022-09-29   True      True\n",
       "2022-09-30   True      True\n",
       "\n",
       "[1352 rows x 2 columns]"
      ]
     },
     "execution_count": 59,
     "metadata": {},
     "output_type": "execute_result"
    }
   ],
   "source": [
    "(df_clean > Lower_limit) | (df_clean > Upper_limit)"
   ]
  },
  {
   "cell_type": "code",
   "execution_count": 63,
   "id": "77e0ba0b",
   "metadata": {},
   "outputs": [
    {
     "data": {
      "text/html": [
       "<div>\n",
       "<style scoped>\n",
       "    .dataframe tbody tr th:only-of-type {\n",
       "        vertical-align: middle;\n",
       "    }\n",
       "\n",
       "    .dataframe tbody tr th {\n",
       "        vertical-align: top;\n",
       "    }\n",
       "\n",
       "    .dataframe thead th {\n",
       "        text-align: right;\n",
       "    }\n",
       "</style>\n",
       "<table border=\"1\" class=\"dataframe\">\n",
       "  <thead>\n",
       "    <tr style=\"text-align: right;\">\n",
       "      <th></th>\n",
       "      <th>2017-01-04 00:00:00</th>\n",
       "      <th>2017-01-05 00:00:00</th>\n",
       "      <th>2017-01-06 00:00:00</th>\n",
       "      <th>2017-01-09 00:00:00</th>\n",
       "      <th>2017-01-10 00:00:00</th>\n",
       "      <th>2017-01-11 00:00:00</th>\n",
       "      <th>2017-01-12 00:00:00</th>\n",
       "      <th>2017-01-17 00:00:00</th>\n",
       "      <th>2017-01-18 00:00:00</th>\n",
       "      <th>2017-01-19 00:00:00</th>\n",
       "      <th>...</th>\n",
       "      <th>2022-09-21 00:00:00</th>\n",
       "      <th>2022-09-22 00:00:00</th>\n",
       "      <th>2022-09-23 00:00:00</th>\n",
       "      <th>2022-09-26 00:00:00</th>\n",
       "      <th>2022-09-27 00:00:00</th>\n",
       "      <th>2022-09-28 00:00:00</th>\n",
       "      <th>2022-09-29 00:00:00</th>\n",
       "      <th>2022-09-30 00:00:00</th>\n",
       "      <th>CL=F</th>\n",
       "      <th>PTTEP.BK</th>\n",
       "    </tr>\n",
       "    <tr>\n",
       "      <th>Date</th>\n",
       "      <th></th>\n",
       "      <th></th>\n",
       "      <th></th>\n",
       "      <th></th>\n",
       "      <th></th>\n",
       "      <th></th>\n",
       "      <th></th>\n",
       "      <th></th>\n",
       "      <th></th>\n",
       "      <th></th>\n",
       "      <th></th>\n",
       "      <th></th>\n",
       "      <th></th>\n",
       "      <th></th>\n",
       "      <th></th>\n",
       "      <th></th>\n",
       "      <th></th>\n",
       "      <th></th>\n",
       "      <th></th>\n",
       "      <th></th>\n",
       "      <th></th>\n",
       "    </tr>\n",
       "  </thead>\n",
       "  <tbody>\n",
       "    <tr>\n",
       "      <th>2017-01-04</th>\n",
       "      <td>False</td>\n",
       "      <td>False</td>\n",
       "      <td>False</td>\n",
       "      <td>False</td>\n",
       "      <td>False</td>\n",
       "      <td>False</td>\n",
       "      <td>False</td>\n",
       "      <td>False</td>\n",
       "      <td>False</td>\n",
       "      <td>False</td>\n",
       "      <td>...</td>\n",
       "      <td>False</td>\n",
       "      <td>False</td>\n",
       "      <td>False</td>\n",
       "      <td>False</td>\n",
       "      <td>False</td>\n",
       "      <td>False</td>\n",
       "      <td>False</td>\n",
       "      <td>False</td>\n",
       "      <td>False</td>\n",
       "      <td>False</td>\n",
       "    </tr>\n",
       "    <tr>\n",
       "      <th>2017-01-05</th>\n",
       "      <td>False</td>\n",
       "      <td>False</td>\n",
       "      <td>False</td>\n",
       "      <td>False</td>\n",
       "      <td>False</td>\n",
       "      <td>False</td>\n",
       "      <td>False</td>\n",
       "      <td>False</td>\n",
       "      <td>False</td>\n",
       "      <td>False</td>\n",
       "      <td>...</td>\n",
       "      <td>False</td>\n",
       "      <td>False</td>\n",
       "      <td>False</td>\n",
       "      <td>False</td>\n",
       "      <td>False</td>\n",
       "      <td>False</td>\n",
       "      <td>False</td>\n",
       "      <td>False</td>\n",
       "      <td>False</td>\n",
       "      <td>False</td>\n",
       "    </tr>\n",
       "    <tr>\n",
       "      <th>2017-01-06</th>\n",
       "      <td>False</td>\n",
       "      <td>False</td>\n",
       "      <td>False</td>\n",
       "      <td>False</td>\n",
       "      <td>False</td>\n",
       "      <td>False</td>\n",
       "      <td>False</td>\n",
       "      <td>False</td>\n",
       "      <td>False</td>\n",
       "      <td>False</td>\n",
       "      <td>...</td>\n",
       "      <td>False</td>\n",
       "      <td>False</td>\n",
       "      <td>False</td>\n",
       "      <td>False</td>\n",
       "      <td>False</td>\n",
       "      <td>False</td>\n",
       "      <td>False</td>\n",
       "      <td>False</td>\n",
       "      <td>False</td>\n",
       "      <td>False</td>\n",
       "    </tr>\n",
       "    <tr>\n",
       "      <th>2017-01-09</th>\n",
       "      <td>False</td>\n",
       "      <td>False</td>\n",
       "      <td>False</td>\n",
       "      <td>False</td>\n",
       "      <td>False</td>\n",
       "      <td>False</td>\n",
       "      <td>False</td>\n",
       "      <td>False</td>\n",
       "      <td>False</td>\n",
       "      <td>False</td>\n",
       "      <td>...</td>\n",
       "      <td>False</td>\n",
       "      <td>False</td>\n",
       "      <td>False</td>\n",
       "      <td>False</td>\n",
       "      <td>False</td>\n",
       "      <td>False</td>\n",
       "      <td>False</td>\n",
       "      <td>False</td>\n",
       "      <td>False</td>\n",
       "      <td>False</td>\n",
       "    </tr>\n",
       "    <tr>\n",
       "      <th>2017-01-10</th>\n",
       "      <td>False</td>\n",
       "      <td>False</td>\n",
       "      <td>False</td>\n",
       "      <td>False</td>\n",
       "      <td>False</td>\n",
       "      <td>False</td>\n",
       "      <td>False</td>\n",
       "      <td>False</td>\n",
       "      <td>False</td>\n",
       "      <td>False</td>\n",
       "      <td>...</td>\n",
       "      <td>False</td>\n",
       "      <td>False</td>\n",
       "      <td>False</td>\n",
       "      <td>False</td>\n",
       "      <td>False</td>\n",
       "      <td>False</td>\n",
       "      <td>False</td>\n",
       "      <td>False</td>\n",
       "      <td>False</td>\n",
       "      <td>False</td>\n",
       "    </tr>\n",
       "    <tr>\n",
       "      <th>...</th>\n",
       "      <td>...</td>\n",
       "      <td>...</td>\n",
       "      <td>...</td>\n",
       "      <td>...</td>\n",
       "      <td>...</td>\n",
       "      <td>...</td>\n",
       "      <td>...</td>\n",
       "      <td>...</td>\n",
       "      <td>...</td>\n",
       "      <td>...</td>\n",
       "      <td>...</td>\n",
       "      <td>...</td>\n",
       "      <td>...</td>\n",
       "      <td>...</td>\n",
       "      <td>...</td>\n",
       "      <td>...</td>\n",
       "      <td>...</td>\n",
       "      <td>...</td>\n",
       "      <td>...</td>\n",
       "      <td>...</td>\n",
       "      <td>...</td>\n",
       "    </tr>\n",
       "    <tr>\n",
       "      <th>2022-09-26</th>\n",
       "      <td>False</td>\n",
       "      <td>False</td>\n",
       "      <td>False</td>\n",
       "      <td>False</td>\n",
       "      <td>False</td>\n",
       "      <td>False</td>\n",
       "      <td>False</td>\n",
       "      <td>False</td>\n",
       "      <td>False</td>\n",
       "      <td>False</td>\n",
       "      <td>...</td>\n",
       "      <td>False</td>\n",
       "      <td>False</td>\n",
       "      <td>False</td>\n",
       "      <td>False</td>\n",
       "      <td>False</td>\n",
       "      <td>False</td>\n",
       "      <td>False</td>\n",
       "      <td>False</td>\n",
       "      <td>False</td>\n",
       "      <td>False</td>\n",
       "    </tr>\n",
       "    <tr>\n",
       "      <th>2022-09-27</th>\n",
       "      <td>False</td>\n",
       "      <td>False</td>\n",
       "      <td>False</td>\n",
       "      <td>False</td>\n",
       "      <td>False</td>\n",
       "      <td>False</td>\n",
       "      <td>False</td>\n",
       "      <td>False</td>\n",
       "      <td>False</td>\n",
       "      <td>False</td>\n",
       "      <td>...</td>\n",
       "      <td>False</td>\n",
       "      <td>False</td>\n",
       "      <td>False</td>\n",
       "      <td>False</td>\n",
       "      <td>False</td>\n",
       "      <td>False</td>\n",
       "      <td>False</td>\n",
       "      <td>False</td>\n",
       "      <td>False</td>\n",
       "      <td>False</td>\n",
       "    </tr>\n",
       "    <tr>\n",
       "      <th>2022-09-28</th>\n",
       "      <td>False</td>\n",
       "      <td>False</td>\n",
       "      <td>False</td>\n",
       "      <td>False</td>\n",
       "      <td>False</td>\n",
       "      <td>False</td>\n",
       "      <td>False</td>\n",
       "      <td>False</td>\n",
       "      <td>False</td>\n",
       "      <td>False</td>\n",
       "      <td>...</td>\n",
       "      <td>False</td>\n",
       "      <td>False</td>\n",
       "      <td>False</td>\n",
       "      <td>False</td>\n",
       "      <td>False</td>\n",
       "      <td>False</td>\n",
       "      <td>False</td>\n",
       "      <td>False</td>\n",
       "      <td>False</td>\n",
       "      <td>False</td>\n",
       "    </tr>\n",
       "    <tr>\n",
       "      <th>2022-09-29</th>\n",
       "      <td>False</td>\n",
       "      <td>False</td>\n",
       "      <td>False</td>\n",
       "      <td>False</td>\n",
       "      <td>False</td>\n",
       "      <td>False</td>\n",
       "      <td>False</td>\n",
       "      <td>False</td>\n",
       "      <td>False</td>\n",
       "      <td>False</td>\n",
       "      <td>...</td>\n",
       "      <td>False</td>\n",
       "      <td>False</td>\n",
       "      <td>False</td>\n",
       "      <td>False</td>\n",
       "      <td>False</td>\n",
       "      <td>False</td>\n",
       "      <td>False</td>\n",
       "      <td>False</td>\n",
       "      <td>False</td>\n",
       "      <td>False</td>\n",
       "    </tr>\n",
       "    <tr>\n",
       "      <th>2022-09-30</th>\n",
       "      <td>False</td>\n",
       "      <td>False</td>\n",
       "      <td>False</td>\n",
       "      <td>False</td>\n",
       "      <td>False</td>\n",
       "      <td>False</td>\n",
       "      <td>False</td>\n",
       "      <td>False</td>\n",
       "      <td>False</td>\n",
       "      <td>False</td>\n",
       "      <td>...</td>\n",
       "      <td>False</td>\n",
       "      <td>False</td>\n",
       "      <td>False</td>\n",
       "      <td>False</td>\n",
       "      <td>False</td>\n",
       "      <td>False</td>\n",
       "      <td>False</td>\n",
       "      <td>False</td>\n",
       "      <td>False</td>\n",
       "      <td>False</td>\n",
       "    </tr>\n",
       "  </tbody>\n",
       "</table>\n",
       "<p>1303 rows × 1305 columns</p>\n",
       "</div>"
      ],
      "text/plain": [
       "            2017-01-04 00:00:00  2017-01-05 00:00:00  2017-01-06 00:00:00  \\\n",
       "Date                                                                        \n",
       "2017-01-04                False                False                False   \n",
       "2017-01-05                False                False                False   \n",
       "2017-01-06                False                False                False   \n",
       "2017-01-09                False                False                False   \n",
       "2017-01-10                False                False                False   \n",
       "...                         ...                  ...                  ...   \n",
       "2022-09-26                False                False                False   \n",
       "2022-09-27                False                False                False   \n",
       "2022-09-28                False                False                False   \n",
       "2022-09-29                False                False                False   \n",
       "2022-09-30                False                False                False   \n",
       "\n",
       "            2017-01-09 00:00:00  2017-01-10 00:00:00  2017-01-11 00:00:00  \\\n",
       "Date                                                                        \n",
       "2017-01-04                False                False                False   \n",
       "2017-01-05                False                False                False   \n",
       "2017-01-06                False                False                False   \n",
       "2017-01-09                False                False                False   \n",
       "2017-01-10                False                False                False   \n",
       "...                         ...                  ...                  ...   \n",
       "2022-09-26                False                False                False   \n",
       "2022-09-27                False                False                False   \n",
       "2022-09-28                False                False                False   \n",
       "2022-09-29                False                False                False   \n",
       "2022-09-30                False                False                False   \n",
       "\n",
       "            2017-01-12 00:00:00  2017-01-17 00:00:00  2017-01-18 00:00:00  \\\n",
       "Date                                                                        \n",
       "2017-01-04                False                False                False   \n",
       "2017-01-05                False                False                False   \n",
       "2017-01-06                False                False                False   \n",
       "2017-01-09                False                False                False   \n",
       "2017-01-10                False                False                False   \n",
       "...                         ...                  ...                  ...   \n",
       "2022-09-26                False                False                False   \n",
       "2022-09-27                False                False                False   \n",
       "2022-09-28                False                False                False   \n",
       "2022-09-29                False                False                False   \n",
       "2022-09-30                False                False                False   \n",
       "\n",
       "            2017-01-19 00:00:00  ...  2022-09-21 00:00:00  \\\n",
       "Date                             ...                        \n",
       "2017-01-04                False  ...                False   \n",
       "2017-01-05                False  ...                False   \n",
       "2017-01-06                False  ...                False   \n",
       "2017-01-09                False  ...                False   \n",
       "2017-01-10                False  ...                False   \n",
       "...                         ...  ...                  ...   \n",
       "2022-09-26                False  ...                False   \n",
       "2022-09-27                False  ...                False   \n",
       "2022-09-28                False  ...                False   \n",
       "2022-09-29                False  ...                False   \n",
       "2022-09-30                False  ...                False   \n",
       "\n",
       "            2022-09-22 00:00:00  2022-09-23 00:00:00  2022-09-26 00:00:00  \\\n",
       "Date                                                                        \n",
       "2017-01-04                False                False                False   \n",
       "2017-01-05                False                False                False   \n",
       "2017-01-06                False                False                False   \n",
       "2017-01-09                False                False                False   \n",
       "2017-01-10                False                False                False   \n",
       "...                         ...                  ...                  ...   \n",
       "2022-09-26                False                False                False   \n",
       "2022-09-27                False                False                False   \n",
       "2022-09-28                False                False                False   \n",
       "2022-09-29                False                False                False   \n",
       "2022-09-30                False                False                False   \n",
       "\n",
       "            2022-09-27 00:00:00  2022-09-28 00:00:00  2022-09-29 00:00:00  \\\n",
       "Date                                                                        \n",
       "2017-01-04                False                False                False   \n",
       "2017-01-05                False                False                False   \n",
       "2017-01-06                False                False                False   \n",
       "2017-01-09                False                False                False   \n",
       "2017-01-10                False                False                False   \n",
       "...                         ...                  ...                  ...   \n",
       "2022-09-26                False                False                False   \n",
       "2022-09-27                False                False                False   \n",
       "2022-09-28                False                False                False   \n",
       "2022-09-29                False                False                False   \n",
       "2022-09-30                False                False                False   \n",
       "\n",
       "            2022-09-30 00:00:00   CL=F  PTTEP.BK  \n",
       "Date                                              \n",
       "2017-01-04                False  False     False  \n",
       "2017-01-05                False  False     False  \n",
       "2017-01-06                False  False     False  \n",
       "2017-01-09                False  False     False  \n",
       "2017-01-10                False  False     False  \n",
       "...                         ...    ...       ...  \n",
       "2022-09-26                False  False     False  \n",
       "2022-09-27                False  False     False  \n",
       "2022-09-28                False  False     False  \n",
       "2022-09-29                False  False     False  \n",
       "2022-09-30                False  False     False  \n",
       "\n",
       "[1303 rows x 1305 columns]"
      ]
     },
     "execution_count": 63,
     "metadata": {},
     "output_type": "execute_result"
    }
   ],
   "source": [
    "(df_clean<Lower_limit) | (df_clean> Upper_limit).any(1)"
   ]
  },
  {
   "cell_type": "code",
   "execution_count": 64,
   "id": "f2f9b304",
   "metadata": {},
   "outputs": [],
   "source": [
    "df_cleaner = df_clean[~((df_clean<Lower_limit) | (df_clean> Upper_limit)).any(1)]"
   ]
  },
  {
   "cell_type": "code",
   "execution_count": 66,
   "id": "4e4563fa",
   "metadata": {},
   "outputs": [
    {
     "data": {
      "text/plain": [
       "<AxesSubplot:xlabel='CL=F', ylabel='PTTEP.BK'>"
      ]
     },
     "execution_count": 66,
     "metadata": {},
     "output_type": "execute_result"
    },
    {
     "data": {
      "image/png": "[encoded data removed]",
      "text/plain": [
       "<Figure size 640x480 with 1 Axes>"
      ]
     },
     "metadata": {},
     "output_type": "display_data"
    }
   ],
   "source": [
    "df_cleaner.plot.scatter(x='CL=F',y='PTTEP.BK')\n"
   ]
  },
  {
   "cell_type": "code",
   "execution_count": 68,
   "id": "566dc18d",
   "metadata": {},
   "outputs": [
    {
     "data": {
      "text/html": [
       "<div>\n",
       "<style scoped>\n",
       "    .dataframe tbody tr th:only-of-type {\n",
       "        vertical-align: middle;\n",
       "    }\n",
       "\n",
       "    .dataframe tbody tr th {\n",
       "        vertical-align: top;\n",
       "    }\n",
       "\n",
       "    .dataframe thead th {\n",
       "        text-align: right;\n",
       "    }\n",
       "</style>\n",
       "<table border=\"1\" class=\"dataframe\">\n",
       "  <thead>\n",
       "    <tr style=\"text-align: right;\">\n",
       "      <th></th>\n",
       "      <th>CL=F</th>\n",
       "      <th>PTTEP.BK</th>\n",
       "    </tr>\n",
       "    <tr>\n",
       "      <th>Date</th>\n",
       "      <th></th>\n",
       "      <th></th>\n",
       "    </tr>\n",
       "  </thead>\n",
       "  <tbody>\n",
       "    <tr>\n",
       "      <th>2017-01-04</th>\n",
       "      <td>NaN</td>\n",
       "      <td>NaN</td>\n",
       "    </tr>\n",
       "    <tr>\n",
       "      <th>2017-01-05</th>\n",
       "      <td>0.009388</td>\n",
       "      <td>-0.005076</td>\n",
       "    </tr>\n",
       "    <tr>\n",
       "      <th>2017-01-06</th>\n",
       "      <td>0.004278</td>\n",
       "      <td>0.005102</td>\n",
       "    </tr>\n",
       "    <tr>\n",
       "      <th>2017-01-09</th>\n",
       "      <td>-0.037600</td>\n",
       "      <td>-0.007615</td>\n",
       "    </tr>\n",
       "    <tr>\n",
       "      <th>2017-01-10</th>\n",
       "      <td>-0.021940</td>\n",
       "      <td>-0.017903</td>\n",
       "    </tr>\n",
       "    <tr>\n",
       "      <th>...</th>\n",
       "      <td>...</td>\n",
       "      <td>...</td>\n",
       "    </tr>\n",
       "    <tr>\n",
       "      <th>2022-09-26</th>\n",
       "      <td>-0.025781</td>\n",
       "      <td>-0.026393</td>\n",
       "    </tr>\n",
       "    <tr>\n",
       "      <th>2022-09-27</th>\n",
       "      <td>0.023335</td>\n",
       "      <td>-0.009036</td>\n",
       "    </tr>\n",
       "    <tr>\n",
       "      <th>2022-09-28</th>\n",
       "      <td>0.046497</td>\n",
       "      <td>-0.015198</td>\n",
       "    </tr>\n",
       "    <tr>\n",
       "      <th>2022-09-29</th>\n",
       "      <td>-0.011199</td>\n",
       "      <td>-0.006173</td>\n",
       "    </tr>\n",
       "    <tr>\n",
       "      <th>2022-09-30</th>\n",
       "      <td>-0.021421</td>\n",
       "      <td>-0.003106</td>\n",
       "    </tr>\n",
       "  </tbody>\n",
       "</table>\n",
       "<p>1303 rows × 2 columns</p>\n",
       "</div>"
      ],
      "text/plain": [
       "                CL=F  PTTEP.BK\n",
       "Date                          \n",
       "2017-01-04       NaN       NaN\n",
       "2017-01-05  0.009388 -0.005076\n",
       "2017-01-06  0.004278  0.005102\n",
       "2017-01-09 -0.037600 -0.007615\n",
       "2017-01-10 -0.021940 -0.017903\n",
       "...              ...       ...\n",
       "2022-09-26 -0.025781 -0.026393\n",
       "2022-09-27  0.023335 -0.009036\n",
       "2022-09-28  0.046497 -0.015198\n",
       "2022-09-29 -0.011199 -0.006173\n",
       "2022-09-30 -0.021421 -0.003106\n",
       "\n",
       "[1303 rows x 2 columns]"
      ]
     },
     "execution_count": 68,
     "metadata": {},
     "output_type": "execute_result"
    }
   ],
   "source": [
    "df_cleaner"
   ]
  },
  {
   "cell_type": "code",
   "execution_count": 69,
   "id": "020bfdbd",
   "metadata": {},
   "outputs": [
    {
     "data": {
      "text/html": [
       "<div>\n",
       "<style scoped>\n",
       "    .dataframe tbody tr th:only-of-type {\n",
       "        vertical-align: middle;\n",
       "    }\n",
       "\n",
       "    .dataframe tbody tr th {\n",
       "        vertical-align: top;\n",
       "    }\n",
       "\n",
       "    .dataframe thead th {\n",
       "        text-align: right;\n",
       "    }\n",
       "</style>\n",
       "<table border=\"1\" class=\"dataframe\">\n",
       "  <thead>\n",
       "    <tr style=\"text-align: right;\">\n",
       "      <th></th>\n",
       "      <th>CL=F</th>\n",
       "      <th>PTTEP.BK</th>\n",
       "    </tr>\n",
       "    <tr>\n",
       "      <th>Date</th>\n",
       "      <th></th>\n",
       "      <th></th>\n",
       "    </tr>\n",
       "  </thead>\n",
       "  <tbody>\n",
       "    <tr>\n",
       "      <th>2017-01-05</th>\n",
       "      <td>0.009388</td>\n",
       "      <td>-0.005076</td>\n",
       "    </tr>\n",
       "    <tr>\n",
       "      <th>2017-01-06</th>\n",
       "      <td>0.004278</td>\n",
       "      <td>0.005102</td>\n",
       "    </tr>\n",
       "    <tr>\n",
       "      <th>2017-01-09</th>\n",
       "      <td>-0.037600</td>\n",
       "      <td>-0.007615</td>\n",
       "    </tr>\n",
       "    <tr>\n",
       "      <th>2017-01-10</th>\n",
       "      <td>-0.021940</td>\n",
       "      <td>-0.017903</td>\n",
       "    </tr>\n",
       "    <tr>\n",
       "      <th>2017-01-11</th>\n",
       "      <td>0.028139</td>\n",
       "      <td>0.005209</td>\n",
       "    </tr>\n",
       "    <tr>\n",
       "      <th>...</th>\n",
       "      <td>...</td>\n",
       "      <td>...</td>\n",
       "    </tr>\n",
       "    <tr>\n",
       "      <th>2022-09-26</th>\n",
       "      <td>-0.025781</td>\n",
       "      <td>-0.026393</td>\n",
       "    </tr>\n",
       "    <tr>\n",
       "      <th>2022-09-27</th>\n",
       "      <td>0.023335</td>\n",
       "      <td>-0.009036</td>\n",
       "    </tr>\n",
       "    <tr>\n",
       "      <th>2022-09-28</th>\n",
       "      <td>0.046497</td>\n",
       "      <td>-0.015198</td>\n",
       "    </tr>\n",
       "    <tr>\n",
       "      <th>2022-09-29</th>\n",
       "      <td>-0.011199</td>\n",
       "      <td>-0.006173</td>\n",
       "    </tr>\n",
       "    <tr>\n",
       "      <th>2022-09-30</th>\n",
       "      <td>-0.021421</td>\n",
       "      <td>-0.003106</td>\n",
       "    </tr>\n",
       "  </tbody>\n",
       "</table>\n",
       "<p>1302 rows × 2 columns</p>\n",
       "</div>"
      ],
      "text/plain": [
       "                CL=F  PTTEP.BK\n",
       "Date                          \n",
       "2017-01-05  0.009388 -0.005076\n",
       "2017-01-06  0.004278  0.005102\n",
       "2017-01-09 -0.037600 -0.007615\n",
       "2017-01-10 -0.021940 -0.017903\n",
       "2017-01-11  0.028139  0.005209\n",
       "...              ...       ...\n",
       "2022-09-26 -0.025781 -0.026393\n",
       "2022-09-27  0.023335 -0.009036\n",
       "2022-09-28  0.046497 -0.015198\n",
       "2022-09-29 -0.011199 -0.006173\n",
       "2022-09-30 -0.021421 -0.003106\n",
       "\n",
       "[1302 rows x 2 columns]"
      ]
     },
     "execution_count": 69,
     "metadata": {},
     "output_type": "execute_result"
    }
   ],
   "source": [
    "df_cleaner.dropna()"
   ]
  },
  {
   "cell_type": "code",
   "execution_count": 73,
   "id": "c57c80d5",
   "metadata": {},
   "outputs": [],
   "source": [
    "X=df_cleaner['CL=F']\n",
    "y= df_cleaner['PTTEP.BK']"
   ]
  },
  {
   "cell_type": "code",
   "execution_count": 76,
   "id": "6c0a1369",
   "metadata": {
    "scrolled": false
   },
   "outputs": [
    {
     "data": {
      "text/plain": [
       "[<matplotlib.lines.Line2D at 0x7fcc185172e0>]"
      ]
     },
     "execution_count": 76,
     "metadata": {},
     "output_type": "execute_result"
    },
    {
     "data": {
      "image/png": "[encoded data removed]",
      "text/plain": [
       "<Figure size 640x480 with 1 Axes>"
      ]
     },
     "metadata": {},
     "output_type": "display_data"
    }
   ],
   "source": [
    "df_cleaner.plot.scatter(x='CL=F',y='PTTEP.BK')\n",
    "\n",
    "plt.plot(X,m*X+c,color='k')"
   ]
  },
  {
   "cell_type": "markdown",
   "id": "5969cac9",
   "metadata": {},
   "source": [
    "# let try ml model from sklearn"
   ]
  },
  {
   "cell_type": "markdown",
   "id": "8f97b7b7",
   "metadata": {},
   "source": [
    "# predict PTTEP BY PTT ECOSYSTEM"
   ]
  },
  {
   "cell_type": "code",
   "execution_count": 79,
   "id": "13bebfb7",
   "metadata": {},
   "outputs": [],
   "source": [
    "from sklearn.linear_model import LinearRegression\n",
    "from sklearn.model_selection import train_test_split\n",
    "from sklearn.preprocessing import scale\n",
    "from sklearn import metrics"
   ]
  },
  {
   "cell_type": "code",
   "execution_count": 80,
   "id": "7d76bd3e",
   "metadata": {},
   "outputs": [],
   "source": [
    "start='2017-01-01'\n",
    "end='2021-10-01'"
   ]
  },
  {
   "cell_type": "code",
   "execution_count": 83,
   "id": "9e0138fb",
   "metadata": {},
   "outputs": [
    {
     "name": "stdout",
     "output_type": "stream",
     "text": [
      "[*********************100%***********************]  5 of 5 completed\n"
     ]
    }
   ],
   "source": [
    "data=yf.download('CL=F PTTEP.BK GPSC.BK PTTGC.BK PTT.BK',start=start,end=end)"
   ]
  },
  {
   "cell_type": "code",
   "execution_count": 84,
   "id": "d7f2fa45",
   "metadata": {},
   "outputs": [],
   "source": [
    "df=data['Adj Close']"
   ]
  },
  {
   "cell_type": "code",
   "execution_count": 85,
   "id": "0fbd3d0a",
   "metadata": {
    "scrolled": false
   },
   "outputs": [
    {
     "data": {
      "text/html": [
       "<div>\n",
       "<style scoped>\n",
       "    .dataframe tbody tr th:only-of-type {\n",
       "        vertical-align: middle;\n",
       "    }\n",
       "\n",
       "    .dataframe tbody tr th {\n",
       "        vertical-align: top;\n",
       "    }\n",
       "\n",
       "    .dataframe thead th {\n",
       "        text-align: right;\n",
       "    }\n",
       "</style>\n",
       "<table border=\"1\" class=\"dataframe\">\n",
       "  <thead>\n",
       "    <tr style=\"text-align: right;\">\n",
       "      <th></th>\n",
       "      <th>CL=F</th>\n",
       "      <th>GPSC.BK</th>\n",
       "      <th>PTT.BK</th>\n",
       "      <th>PTTEP.BK</th>\n",
       "      <th>PTTGC.BK</th>\n",
       "    </tr>\n",
       "    <tr>\n",
       "      <th>Date</th>\n",
       "      <th></th>\n",
       "      <th></th>\n",
       "      <th></th>\n",
       "      <th></th>\n",
       "      <th></th>\n",
       "    </tr>\n",
       "  </thead>\n",
       "  <tbody>\n",
       "    <tr>\n",
       "      <th>2017-01-03</th>\n",
       "      <td>52.330002</td>\n",
       "      <td>NaN</td>\n",
       "      <td>NaN</td>\n",
       "      <td>NaN</td>\n",
       "      <td>NaN</td>\n",
       "    </tr>\n",
       "    <tr>\n",
       "      <th>2017-01-04</th>\n",
       "      <td>53.259998</td>\n",
       "      <td>29.146652</td>\n",
       "      <td>29.128031</td>\n",
       "      <td>74.474823</td>\n",
       "      <td>48.913532</td>\n",
       "    </tr>\n",
       "    <tr>\n",
       "      <th>2017-01-05</th>\n",
       "      <td>53.759998</td>\n",
       "      <td>28.555843</td>\n",
       "      <td>29.664598</td>\n",
       "      <td>74.096771</td>\n",
       "      <td>49.104599</td>\n",
       "    </tr>\n",
       "    <tr>\n",
       "      <th>2017-01-06</th>\n",
       "      <td>53.990002</td>\n",
       "      <td>28.555843</td>\n",
       "      <td>29.817902</td>\n",
       "      <td>74.474823</td>\n",
       "      <td>48.913532</td>\n",
       "    </tr>\n",
       "    <tr>\n",
       "      <th>2017-01-09</th>\n",
       "      <td>51.959999</td>\n",
       "      <td>28.555843</td>\n",
       "      <td>29.357985</td>\n",
       "      <td>73.907753</td>\n",
       "      <td>48.340328</td>\n",
       "    </tr>\n",
       "    <tr>\n",
       "      <th>...</th>\n",
       "      <td>...</td>\n",
       "      <td>...</td>\n",
       "      <td>...</td>\n",
       "      <td>...</td>\n",
       "      <td>...</td>\n",
       "    </tr>\n",
       "    <tr>\n",
       "      <th>2021-09-24</th>\n",
       "      <td>73.980003</td>\n",
       "      <td>NaN</td>\n",
       "      <td>NaN</td>\n",
       "      <td>NaN</td>\n",
       "      <td>NaN</td>\n",
       "    </tr>\n",
       "    <tr>\n",
       "      <th>2021-09-27</th>\n",
       "      <td>75.449997</td>\n",
       "      <td>75.753326</td>\n",
       "      <td>37.146828</td>\n",
       "      <td>111.294357</td>\n",
       "      <td>58.820953</td>\n",
       "    </tr>\n",
       "    <tr>\n",
       "      <th>2021-09-28</th>\n",
       "      <td>75.290001</td>\n",
       "      <td>75.015472</td>\n",
       "      <td>37.146828</td>\n",
       "      <td>113.196823</td>\n",
       "      <td>60.726082</td>\n",
       "    </tr>\n",
       "    <tr>\n",
       "      <th>2021-09-29</th>\n",
       "      <td>74.830002</td>\n",
       "      <td>75.015472</td>\n",
       "      <td>37.099571</td>\n",
       "      <td>113.196823</td>\n",
       "      <td>60.249802</td>\n",
       "    </tr>\n",
       "    <tr>\n",
       "      <th>2021-09-30</th>\n",
       "      <td>75.029999</td>\n",
       "      <td>74.277611</td>\n",
       "      <td>36.863266</td>\n",
       "      <td>111.769974</td>\n",
       "      <td>60.249802</td>\n",
       "    </tr>\n",
       "  </tbody>\n",
       "</table>\n",
       "<p>1231 rows × 5 columns</p>\n",
       "</div>"
      ],
      "text/plain": [
       "                 CL=F    GPSC.BK     PTT.BK    PTTEP.BK   PTTGC.BK\n",
       "Date                                                              \n",
       "2017-01-03  52.330002        NaN        NaN         NaN        NaN\n",
       "2017-01-04  53.259998  29.146652  29.128031   74.474823  48.913532\n",
       "2017-01-05  53.759998  28.555843  29.664598   74.096771  49.104599\n",
       "2017-01-06  53.990002  28.555843  29.817902   74.474823  48.913532\n",
       "2017-01-09  51.959999  28.555843  29.357985   73.907753  48.340328\n",
       "...               ...        ...        ...         ...        ...\n",
       "2021-09-24  73.980003        NaN        NaN         NaN        NaN\n",
       "2021-09-27  75.449997  75.753326  37.146828  111.294357  58.820953\n",
       "2021-09-28  75.290001  75.015472  37.146828  113.196823  60.726082\n",
       "2021-09-29  74.830002  75.015472  37.099571  113.196823  60.249802\n",
       "2021-09-30  75.029999  74.277611  36.863266  111.769974  60.249802\n",
       "\n",
       "[1231 rows x 5 columns]"
      ]
     },
     "execution_count": 85,
     "metadata": {},
     "output_type": "execute_result"
    }
   ],
   "source": [
    "df"
   ]
  },
  {
   "cell_type": "code",
   "execution_count": 87,
   "id": "805be0c6",
   "metadata": {},
   "outputs": [],
   "source": [
    "df =df.fillna(method='ffill').pct_change()"
   ]
  },
  {
   "cell_type": "code",
   "execution_count": 88,
   "id": "7849fd99",
   "metadata": {},
   "outputs": [],
   "source": [
    "df=df.dropna()"
   ]
  },
  {
   "cell_type": "code",
   "execution_count": null,
   "id": "b53b3972",
   "metadata": {},
   "outputs": [],
   "source": [
    "df=df[(df!=0).]"
   ]
  },
  {
   "cell_type": "code",
   "execution_count": 89,
   "id": "e827b919",
   "metadata": {},
   "outputs": [
    {
     "data": {
      "text/html": [
       "<div>\n",
       "<style scoped>\n",
       "    .dataframe tbody tr th:only-of-type {\n",
       "        vertical-align: middle;\n",
       "    }\n",
       "\n",
       "    .dataframe tbody tr th {\n",
       "        vertical-align: top;\n",
       "    }\n",
       "\n",
       "    .dataframe thead th {\n",
       "        text-align: right;\n",
       "    }\n",
       "</style>\n",
       "<table border=\"1\" class=\"dataframe\">\n",
       "  <thead>\n",
       "    <tr style=\"text-align: right;\">\n",
       "      <th></th>\n",
       "      <th>CL=F</th>\n",
       "      <th>GPSC.BK</th>\n",
       "      <th>PTT.BK</th>\n",
       "      <th>PTTEP.BK</th>\n",
       "      <th>PTTGC.BK</th>\n",
       "    </tr>\n",
       "    <tr>\n",
       "      <th>Date</th>\n",
       "      <th></th>\n",
       "      <th></th>\n",
       "      <th></th>\n",
       "      <th></th>\n",
       "      <th></th>\n",
       "    </tr>\n",
       "  </thead>\n",
       "  <tbody>\n",
       "    <tr>\n",
       "      <th>2017-01-05</th>\n",
       "      <td>0.009388</td>\n",
       "      <td>-0.020270</td>\n",
       "      <td>0.018421</td>\n",
       "      <td>-0.005076</td>\n",
       "      <td>0.003906</td>\n",
       "    </tr>\n",
       "    <tr>\n",
       "      <th>2017-01-06</th>\n",
       "      <td>0.004278</td>\n",
       "      <td>0.000000</td>\n",
       "      <td>0.005168</td>\n",
       "      <td>0.005102</td>\n",
       "      <td>-0.003891</td>\n",
       "    </tr>\n",
       "    <tr>\n",
       "      <th>2017-01-09</th>\n",
       "      <td>-0.037600</td>\n",
       "      <td>0.000000</td>\n",
       "      <td>-0.015424</td>\n",
       "      <td>-0.007614</td>\n",
       "      <td>-0.011719</td>\n",
       "    </tr>\n",
       "    <tr>\n",
       "      <th>2017-01-10</th>\n",
       "      <td>-0.021940</td>\n",
       "      <td>0.006896</td>\n",
       "      <td>0.013055</td>\n",
       "      <td>-0.017903</td>\n",
       "      <td>0.003953</td>\n",
       "    </tr>\n",
       "    <tr>\n",
       "      <th>2017-01-11</th>\n",
       "      <td>0.028139</td>\n",
       "      <td>0.006849</td>\n",
       "      <td>-0.007732</td>\n",
       "      <td>0.005208</td>\n",
       "      <td>-0.003937</td>\n",
       "    </tr>\n",
       "    <tr>\n",
       "      <th>...</th>\n",
       "      <td>...</td>\n",
       "      <td>...</td>\n",
       "      <td>...</td>\n",
       "      <td>...</td>\n",
       "      <td>...</td>\n",
       "    </tr>\n",
       "    <tr>\n",
       "      <th>2021-09-24</th>\n",
       "      <td>0.009277</td>\n",
       "      <td>0.000000</td>\n",
       "      <td>0.000000</td>\n",
       "      <td>0.000000</td>\n",
       "      <td>0.000000</td>\n",
       "    </tr>\n",
       "    <tr>\n",
       "      <th>2021-09-27</th>\n",
       "      <td>0.019870</td>\n",
       "      <td>-0.012821</td>\n",
       "      <td>0.012500</td>\n",
       "      <td>0.035398</td>\n",
       "      <td>0.020661</td>\n",
       "    </tr>\n",
       "    <tr>\n",
       "      <th>2021-09-28</th>\n",
       "      <td>-0.002121</td>\n",
       "      <td>-0.009740</td>\n",
       "      <td>0.000000</td>\n",
       "      <td>0.017094</td>\n",
       "      <td>0.032389</td>\n",
       "    </tr>\n",
       "    <tr>\n",
       "      <th>2021-09-29</th>\n",
       "      <td>-0.006110</td>\n",
       "      <td>0.000000</td>\n",
       "      <td>-0.001272</td>\n",
       "      <td>0.000000</td>\n",
       "      <td>-0.007843</td>\n",
       "    </tr>\n",
       "    <tr>\n",
       "      <th>2021-09-30</th>\n",
       "      <td>0.002673</td>\n",
       "      <td>-0.009836</td>\n",
       "      <td>-0.006369</td>\n",
       "      <td>-0.012605</td>\n",
       "      <td>0.000000</td>\n",
       "    </tr>\n",
       "  </tbody>\n",
       "</table>\n",
       "<p>1229 rows × 5 columns</p>\n",
       "</div>"
      ],
      "text/plain": [
       "                CL=F   GPSC.BK    PTT.BK  PTTEP.BK  PTTGC.BK\n",
       "Date                                                        \n",
       "2017-01-05  0.009388 -0.020270  0.018421 -0.005076  0.003906\n",
       "2017-01-06  0.004278  0.000000  0.005168  0.005102 -0.003891\n",
       "2017-01-09 -0.037600  0.000000 -0.015424 -0.007614 -0.011719\n",
       "2017-01-10 -0.021940  0.006896  0.013055 -0.017903  0.003953\n",
       "2017-01-11  0.028139  0.006849 -0.007732  0.005208 -0.003937\n",
       "...              ...       ...       ...       ...       ...\n",
       "2021-09-24  0.009277  0.000000  0.000000  0.000000  0.000000\n",
       "2021-09-27  0.019870 -0.012821  0.012500  0.035398  0.020661\n",
       "2021-09-28 -0.002121 -0.009740  0.000000  0.017094  0.032389\n",
       "2021-09-29 -0.006110  0.000000 -0.001272  0.000000 -0.007843\n",
       "2021-09-30  0.002673 -0.009836 -0.006369 -0.012605  0.000000\n",
       "\n",
       "[1229 rows x 5 columns]"
      ]
     },
     "execution_count": 89,
     "metadata": {},
     "output_type": "execute_result"
    }
   ],
   "source": [
    "df"
   ]
  },
  {
   "cell_type": "code",
   "execution_count": 90,
   "id": "ef6e14ad",
   "metadata": {},
   "outputs": [],
   "source": [
    "df = df[['CL=F','GPSC.BK', 'PTTEP.BK' , 'PTTGC.BK' ,'PTT.BK']]"
   ]
  },
  {
   "cell_type": "code",
   "execution_count": null,
   "id": "0dc7b250",
   "metadata": {},
   "outputs": [],
   "source": []
  },
  {
   "cell_type": "code",
   "execution_count": 91,
   "id": "e0bec2b9",
   "metadata": {},
   "outputs": [
    {
     "data": {
      "text/html": [
       "<div>\n",
       "<style scoped>\n",
       "    .dataframe tbody tr th:only-of-type {\n",
       "        vertical-align: middle;\n",
       "    }\n",
       "\n",
       "    .dataframe tbody tr th {\n",
       "        vertical-align: top;\n",
       "    }\n",
       "\n",
       "    .dataframe thead th {\n",
       "        text-align: right;\n",
       "    }\n",
       "</style>\n",
       "<table border=\"1\" class=\"dataframe\">\n",
       "  <thead>\n",
       "    <tr style=\"text-align: right;\">\n",
       "      <th></th>\n",
       "      <th>CL=F</th>\n",
       "      <th>GPSC.BK</th>\n",
       "      <th>PTTEP.BK</th>\n",
       "      <th>PTTGC.BK</th>\n",
       "      <th>PTT.BK</th>\n",
       "    </tr>\n",
       "    <tr>\n",
       "      <th>Date</th>\n",
       "      <th></th>\n",
       "      <th></th>\n",
       "      <th></th>\n",
       "      <th></th>\n",
       "      <th></th>\n",
       "    </tr>\n",
       "  </thead>\n",
       "  <tbody>\n",
       "    <tr>\n",
       "      <th>2017-01-05</th>\n",
       "      <td>0.009388</td>\n",
       "      <td>-0.02027</td>\n",
       "      <td>-0.005076</td>\n",
       "      <td>0.003906</td>\n",
       "      <td>0.018421</td>\n",
       "    </tr>\n",
       "  </tbody>\n",
       "</table>\n",
       "</div>"
      ],
      "text/plain": [
       "                CL=F  GPSC.BK  PTTEP.BK  PTTGC.BK    PTT.BK\n",
       "Date                                                       \n",
       "2017-01-05  0.009388 -0.02027 -0.005076  0.003906  0.018421"
      ]
     },
     "execution_count": 91,
     "metadata": {},
     "output_type": "execute_result"
    }
   ],
   "source": [
    "df.head(1)"
   ]
  },
  {
   "cell_type": "markdown",
   "id": "1148caec",
   "metadata": {},
   "source": []
  },
  {
   "cell_type": "code",
   "execution_count": 92,
   "id": "ac6cd956",
   "metadata": {},
   "outputs": [],
   "source": [
    "X=df.iloc[:,:-1] # without pttbk\n",
    "y=df.iloc[:,-1] # only pttbk"
   ]
  },
  {
   "cell_type": "code",
   "execution_count": 93,
   "id": "e3130bd3",
   "metadata": {
    "scrolled": false
   },
   "outputs": [
    {
     "data": {
      "text/html": [
       "<div>\n",
       "<style scoped>\n",
       "    .dataframe tbody tr th:only-of-type {\n",
       "        vertical-align: middle;\n",
       "    }\n",
       "\n",
       "    .dataframe tbody tr th {\n",
       "        vertical-align: top;\n",
       "    }\n",
       "\n",
       "    .dataframe thead th {\n",
       "        text-align: right;\n",
       "    }\n",
       "</style>\n",
       "<table border=\"1\" class=\"dataframe\">\n",
       "  <thead>\n",
       "    <tr style=\"text-align: right;\">\n",
       "      <th></th>\n",
       "      <th>CL=F</th>\n",
       "      <th>GPSC.BK</th>\n",
       "      <th>PTTEP.BK</th>\n",
       "      <th>PTTGC.BK</th>\n",
       "    </tr>\n",
       "    <tr>\n",
       "      <th>Date</th>\n",
       "      <th></th>\n",
       "      <th></th>\n",
       "      <th></th>\n",
       "      <th></th>\n",
       "    </tr>\n",
       "  </thead>\n",
       "  <tbody>\n",
       "    <tr>\n",
       "      <th>2017-01-05</th>\n",
       "      <td>0.009388</td>\n",
       "      <td>-0.020270</td>\n",
       "      <td>-0.005076</td>\n",
       "      <td>0.003906</td>\n",
       "    </tr>\n",
       "    <tr>\n",
       "      <th>2017-01-06</th>\n",
       "      <td>0.004278</td>\n",
       "      <td>0.000000</td>\n",
       "      <td>0.005102</td>\n",
       "      <td>-0.003891</td>\n",
       "    </tr>\n",
       "    <tr>\n",
       "      <th>2017-01-09</th>\n",
       "      <td>-0.037600</td>\n",
       "      <td>0.000000</td>\n",
       "      <td>-0.007614</td>\n",
       "      <td>-0.011719</td>\n",
       "    </tr>\n",
       "    <tr>\n",
       "      <th>2017-01-10</th>\n",
       "      <td>-0.021940</td>\n",
       "      <td>0.006896</td>\n",
       "      <td>-0.017903</td>\n",
       "      <td>0.003953</td>\n",
       "    </tr>\n",
       "    <tr>\n",
       "      <th>2017-01-11</th>\n",
       "      <td>0.028139</td>\n",
       "      <td>0.006849</td>\n",
       "      <td>0.005208</td>\n",
       "      <td>-0.003937</td>\n",
       "    </tr>\n",
       "    <tr>\n",
       "      <th>...</th>\n",
       "      <td>...</td>\n",
       "      <td>...</td>\n",
       "      <td>...</td>\n",
       "      <td>...</td>\n",
       "    </tr>\n",
       "    <tr>\n",
       "      <th>2021-09-24</th>\n",
       "      <td>0.009277</td>\n",
       "      <td>0.000000</td>\n",
       "      <td>0.000000</td>\n",
       "      <td>0.000000</td>\n",
       "    </tr>\n",
       "    <tr>\n",
       "      <th>2021-09-27</th>\n",
       "      <td>0.019870</td>\n",
       "      <td>-0.012821</td>\n",
       "      <td>0.035398</td>\n",
       "      <td>0.020661</td>\n",
       "    </tr>\n",
       "    <tr>\n",
       "      <th>2021-09-28</th>\n",
       "      <td>-0.002121</td>\n",
       "      <td>-0.009740</td>\n",
       "      <td>0.017094</td>\n",
       "      <td>0.032389</td>\n",
       "    </tr>\n",
       "    <tr>\n",
       "      <th>2021-09-29</th>\n",
       "      <td>-0.006110</td>\n",
       "      <td>0.000000</td>\n",
       "      <td>0.000000</td>\n",
       "      <td>-0.007843</td>\n",
       "    </tr>\n",
       "    <tr>\n",
       "      <th>2021-09-30</th>\n",
       "      <td>0.002673</td>\n",
       "      <td>-0.009836</td>\n",
       "      <td>-0.012605</td>\n",
       "      <td>0.000000</td>\n",
       "    </tr>\n",
       "  </tbody>\n",
       "</table>\n",
       "<p>1229 rows × 4 columns</p>\n",
       "</div>"
      ],
      "text/plain": [
       "                CL=F   GPSC.BK  PTTEP.BK  PTTGC.BK\n",
       "Date                                              \n",
       "2017-01-05  0.009388 -0.020270 -0.005076  0.003906\n",
       "2017-01-06  0.004278  0.000000  0.005102 -0.003891\n",
       "2017-01-09 -0.037600  0.000000 -0.007614 -0.011719\n",
       "2017-01-10 -0.021940  0.006896 -0.017903  0.003953\n",
       "2017-01-11  0.028139  0.006849  0.005208 -0.003937\n",
       "...              ...       ...       ...       ...\n",
       "2021-09-24  0.009277  0.000000  0.000000  0.000000\n",
       "2021-09-27  0.019870 -0.012821  0.035398  0.020661\n",
       "2021-09-28 -0.002121 -0.009740  0.017094  0.032389\n",
       "2021-09-29 -0.006110  0.000000  0.000000 -0.007843\n",
       "2021-09-30  0.002673 -0.009836 -0.012605  0.000000\n",
       "\n",
       "[1229 rows x 4 columns]"
      ]
     },
     "execution_count": 93,
     "metadata": {},
     "output_type": "execute_result"
    }
   ],
   "source": [
    "X"
   ]
  },
  {
   "cell_type": "code",
   "execution_count": 94,
   "id": "7aabece1",
   "metadata": {},
   "outputs": [
    {
     "data": {
      "text/plain": [
       "Date\n",
       "2017-01-05    0.018421\n",
       "2017-01-06    0.005168\n",
       "2017-01-09   -0.015424\n",
       "2017-01-10    0.013055\n",
       "2017-01-11   -0.007732\n",
       "                ...   \n",
       "2021-09-24    0.000000\n",
       "2021-09-27    0.012500\n",
       "2021-09-28    0.000000\n",
       "2021-09-29   -0.001272\n",
       "2021-09-30   -0.006369\n",
       "Name: PTT.BK, Length: 1229, dtype: float64"
      ]
     },
     "execution_count": 94,
     "metadata": {},
     "output_type": "execute_result"
    }
   ],
   "source": [
    "y"
   ]
  },
  {
   "cell_type": "code",
   "execution_count": 95,
   "id": "8bef38b4",
   "metadata": {},
   "outputs": [],
   "source": [
    "model = LinearRegression()\n",
    "reg=model.fit(X,y)\n"
   ]
  },
  {
   "cell_type": "code",
   "execution_count": 96,
   "id": "3ee7e097",
   "metadata": {},
   "outputs": [
    {
     "data": {
      "text/plain": [
       "0.6930020040744118"
      ]
     },
     "execution_count": 96,
     "metadata": {},
     "output_type": "execute_result"
    }
   ],
   "source": [
    "reg.score(X,y)"
   ]
  },
  {
   "cell_type": "markdown",
   "id": "05c2c9f9",
   "metadata": {},
   "source": [
    "# result is around 69%"
   ]
  },
  {
   "cell_type": "raw",
   "id": "078ad3a8",
   "metadata": {},
   "source": []
  },
  {
   "cell_type": "code",
   "execution_count": 97,
   "id": "763c9805",
   "metadata": {},
   "outputs": [
    {
     "data": {
      "text/plain": [
       "array([-0.0008743 ,  0.04342929,  0.4660136 ,  0.25859285])"
      ]
     },
     "execution_count": 97,
     "metadata": {},
     "output_type": "execute_result"
    }
   ],
   "source": [
    "reg.coef_"
   ]
  },
  {
   "cell_type": "code",
   "execution_count": 98,
   "id": "a5349c83",
   "metadata": {},
   "outputs": [
    {
     "data": {
      "text/plain": [
       "CL=F        0.009277\n",
       "GPSC.BK     0.000000\n",
       "PTTEP.BK    0.000000\n",
       "PTTGC.BK    0.000000\n",
       "Name: 2021-09-24 00:00:00, dtype: float64"
      ]
     },
     "execution_count": 98,
     "metadata": {},
     "output_type": "execute_result"
    }
   ],
   "source": [
    "X.iloc[-5]"
   ]
  },
  {
   "cell_type": "code",
   "execution_count": 99,
   "id": "520e6121",
   "metadata": {},
   "outputs": [
    {
     "name": "stderr",
     "output_type": "stream",
     "text": [
      "/Users/admin/opt/anaconda3/lib/python3.9/site-packages/sklearn/base.py:450: UserWarning: X does not have valid feature names, but LinearRegression was fitted with feature names\n",
      "  warnings.warn(\n"
     ]
    },
    {
     "data": {
      "text/plain": [
       "array([-7.28099021e-05])"
      ]
     },
     "execution_count": 99,
     "metadata": {},
     "output_type": "execute_result"
    }
   ],
   "source": [
    "reg.predict(X.iloc[-5].values.reshape(1,-1))"
   ]
  },
  {
   "cell_type": "code",
   "execution_count": 100,
   "id": "a13552aa",
   "metadata": {},
   "outputs": [
    {
     "data": {
      "text/plain": [
       "0.0"
      ]
     },
     "execution_count": 100,
     "metadata": {},
     "output_type": "execute_result"
    }
   ],
   "source": [
    "y.iloc[-5]"
   ]
  },
  {
   "cell_type": "markdown",
   "id": "8e918d49",
   "metadata": {},
   "source": [
    "# this is real solution to create machine learning"
   ]
  },
  {
   "attachments": {
    "image.png": {
     "image/png": "[encoded data removed]"
    }
   },
   "cell_type": "markdown",
   "id": "dec82976",
   "metadata": {},
   "source": [
    "![image.png](attachment:image.png)"
   ]
  },
  {
   "cell_type": "code",
   "execution_count": 101,
   "id": "7ba64761",
   "metadata": {},
   "outputs": [],
   "source": [
    "X_train,X_test ,y_train , y_test = train_test_split(X,y,test_size=0.3,random_state=2)"
   ]
  },
  {
   "cell_type": "code",
   "execution_count": 103,
   "id": "31e5d793",
   "metadata": {},
   "outputs": [
    {
     "data": {
      "text/html": [
       "<div>\n",
       "<style scoped>\n",
       "    .dataframe tbody tr th:only-of-type {\n",
       "        vertical-align: middle;\n",
       "    }\n",
       "\n",
       "    .dataframe tbody tr th {\n",
       "        vertical-align: top;\n",
       "    }\n",
       "\n",
       "    .dataframe thead th {\n",
       "        text-align: right;\n",
       "    }\n",
       "</style>\n",
       "<table border=\"1\" class=\"dataframe\">\n",
       "  <thead>\n",
       "    <tr style=\"text-align: right;\">\n",
       "      <th></th>\n",
       "      <th>CL=F</th>\n",
       "      <th>GPSC.BK</th>\n",
       "      <th>PTTEP.BK</th>\n",
       "      <th>PTTGC.BK</th>\n",
       "    </tr>\n",
       "    <tr>\n",
       "      <th>Date</th>\n",
       "      <th></th>\n",
       "      <th></th>\n",
       "      <th></th>\n",
       "      <th></th>\n",
       "    </tr>\n",
       "  </thead>\n",
       "  <tbody>\n",
       "    <tr>\n",
       "      <th>2018-07-05</th>\n",
       "      <td>-0.016186</td>\n",
       "      <td>0.000000</td>\n",
       "      <td>-0.014870</td>\n",
       "      <td>-0.020408</td>\n",
       "    </tr>\n",
       "    <tr>\n",
       "      <th>2020-04-14</th>\n",
       "      <td>-0.102633</td>\n",
       "      <td>-0.033582</td>\n",
       "      <td>0.012579</td>\n",
       "      <td>0.035211</td>\n",
       "    </tr>\n",
       "    <tr>\n",
       "      <th>2018-10-17</th>\n",
       "      <td>-0.030172</td>\n",
       "      <td>-0.007519</td>\n",
       "      <td>-0.010135</td>\n",
       "      <td>0.016181</td>\n",
       "    </tr>\n",
       "    <tr>\n",
       "      <th>2021-04-09</th>\n",
       "      <td>-0.004698</td>\n",
       "      <td>0.003401</td>\n",
       "      <td>0.004505</td>\n",
       "      <td>0.008130</td>\n",
       "    </tr>\n",
       "    <tr>\n",
       "      <th>2021-07-20</th>\n",
       "      <td>0.015056</td>\n",
       "      <td>-0.006231</td>\n",
       "      <td>-0.018265</td>\n",
       "      <td>-0.021834</td>\n",
       "    </tr>\n",
       "    <tr>\n",
       "      <th>...</th>\n",
       "      <td>...</td>\n",
       "      <td>...</td>\n",
       "      <td>...</td>\n",
       "      <td>...</td>\n",
       "    </tr>\n",
       "    <tr>\n",
       "      <th>2018-10-23</th>\n",
       "      <td>-0.039613</td>\n",
       "      <td>0.000000</td>\n",
       "      <td>0.000000</td>\n",
       "      <td>0.000000</td>\n",
       "    </tr>\n",
       "    <tr>\n",
       "      <th>2018-03-02</th>\n",
       "      <td>0.004263</td>\n",
       "      <td>-0.006757</td>\n",
       "      <td>-0.004329</td>\n",
       "      <td>-0.002519</td>\n",
       "    </tr>\n",
       "    <tr>\n",
       "      <th>2018-11-29</th>\n",
       "      <td>0.023066</td>\n",
       "      <td>-0.009009</td>\n",
       "      <td>0.000000</td>\n",
       "      <td>0.003195</td>\n",
       "    </tr>\n",
       "    <tr>\n",
       "      <th>2019-01-18</th>\n",
       "      <td>0.033224</td>\n",
       "      <td>0.040909</td>\n",
       "      <td>0.016260</td>\n",
       "      <td>0.022222</td>\n",
       "    </tr>\n",
       "    <tr>\n",
       "      <th>2021-08-11</th>\n",
       "      <td>0.014058</td>\n",
       "      <td>-0.003155</td>\n",
       "      <td>-0.009569</td>\n",
       "      <td>-0.004202</td>\n",
       "    </tr>\n",
       "  </tbody>\n",
       "</table>\n",
       "<p>860 rows × 4 columns</p>\n",
       "</div>"
      ],
      "text/plain": [
       "                CL=F   GPSC.BK  PTTEP.BK  PTTGC.BK\n",
       "Date                                              \n",
       "2018-07-05 -0.016186  0.000000 -0.014870 -0.020408\n",
       "2020-04-14 -0.102633 -0.033582  0.012579  0.035211\n",
       "2018-10-17 -0.030172 -0.007519 -0.010135  0.016181\n",
       "2021-04-09 -0.004698  0.003401  0.004505  0.008130\n",
       "2021-07-20  0.015056 -0.006231 -0.018265 -0.021834\n",
       "...              ...       ...       ...       ...\n",
       "2018-10-23 -0.039613  0.000000  0.000000  0.000000\n",
       "2018-03-02  0.004263 -0.006757 -0.004329 -0.002519\n",
       "2018-11-29  0.023066 -0.009009  0.000000  0.003195\n",
       "2019-01-18  0.033224  0.040909  0.016260  0.022222\n",
       "2021-08-11  0.014058 -0.003155 -0.009569 -0.004202\n",
       "\n",
       "[860 rows x 4 columns]"
      ]
     },
     "execution_count": 103,
     "metadata": {},
     "output_type": "execute_result"
    }
   ],
   "source": [
    "X_train"
   ]
  },
  {
   "cell_type": "code",
   "execution_count": 104,
   "id": "29ef6176",
   "metadata": {},
   "outputs": [],
   "source": [
    "model = LinearRegression()\n",
    "reg=model.fit(X_train,y_train)"
   ]
  },
  {
   "cell_type": "code",
   "execution_count": 105,
   "id": "22717288",
   "metadata": {},
   "outputs": [
    {
     "data": {
      "text/plain": [
       "0.677138014487511"
      ]
     },
     "execution_count": 105,
     "metadata": {},
     "output_type": "execute_result"
    }
   ],
   "source": [
    "reg.score(X_test,y_test)"
   ]
  },
  {
   "cell_type": "code",
   "execution_count": 107,
   "id": "c7d495bb",
   "metadata": {},
   "outputs": [],
   "source": [
    "y_pred=model.predict(X_test)"
   ]
  },
  {
   "cell_type": "code",
   "execution_count": 108,
   "id": "a99ca61e",
   "metadata": {
    "scrolled": true
   },
   "outputs": [
    {
     "data": {
      "text/plain": [
       "array([ 1.06822972e-03, -6.08361983e-03, -9.59875772e-03,  1.19441048e-02,\n",
       "       -1.20925748e-05, -6.67092359e-03, -2.23129414e-03, -1.16893735e-02,\n",
       "       -8.20508254e-03, -2.96115292e-04,  9.63657737e-03,  7.89663348e-04,\n",
       "       -1.57649076e-03, -4.17393616e-04,  7.55224223e-03,  4.73649673e-03,\n",
       "        2.34852028e-03,  4.30439232e-03, -2.44439599e-02,  4.39207475e-04,\n",
       "        1.39673691e-02, -1.10842014e-04,  1.64632286e-02, -4.16869024e-04,\n",
       "       -3.71568682e-04, -2.57106355e-03, -8.03970342e-04,  3.25504505e-03,\n",
       "        9.91532220e-03,  4.01103637e-03, -5.66139310e-04,  1.89764917e-03,\n",
       "        1.22922374e-02,  5.13004696e-03, -5.41011953e-03,  2.40873594e-02,\n",
       "        7.14304005e-05, -1.40654865e-03, -4.92050705e-03,  3.04429504e-02,\n",
       "       -8.30268612e-03,  2.60706739e-03, -9.93591449e-03, -2.16089067e-04,\n",
       "        7.41811534e-03, -1.81060806e-02, -1.80721767e-03,  1.67278968e-03,\n",
       "       -2.30056081e-03, -6.83467241e-03, -1.69893881e-03,  1.26038316e-02,\n",
       "        9.39950872e-03,  3.30960714e-02,  7.93148795e-04,  1.36084100e-02,\n",
       "        3.88062004e-03,  1.19913774e-02,  7.86146567e-03,  1.70936922e-02,\n",
       "       -4.53719307e-03, -8.17102981e-03,  4.14061794e-03, -8.04040807e-03,\n",
       "       -1.89680753e-02, -3.45984625e-03,  1.56522982e-03,  9.22149442e-03,\n",
       "        3.49978479e-02, -1.23803423e-02, -1.53883781e-03,  4.37925969e-03,\n",
       "        5.94548786e-03, -1.61472365e-02, -5.74405744e-03, -8.23774986e-03,\n",
       "       -1.29036306e-02,  1.11873660e-03, -2.12799466e-03,  1.32388333e-02,\n",
       "        2.30539745e-03, -6.45914006e-03,  1.07736183e-03,  2.35909172e-03,\n",
       "        2.10612513e-03,  1.15252698e-04, -4.93156540e-03,  6.08799231e-03,\n",
       "       -4.22462731e-03, -7.34432908e-03, -2.05719818e-04, -4.06953734e-03,\n",
       "       -1.68451724e-02, -6.19322815e-03,  3.66547001e-03,  8.88519987e-05,\n",
       "       -2.80091049e-04, -1.36134364e-02, -3.86428342e-04,  1.76258187e-02,\n",
       "       -2.38509544e-03,  3.33467579e-02,  3.82493383e-02,  1.93501544e-02,\n",
       "        5.60826778e-03,  9.40680053e-04,  9.85789170e-03, -1.22853712e-02,\n",
       "        4.00921087e-03, -1.29179431e-02, -2.07795539e-03, -5.26236085e-03,\n",
       "       -2.53846289e-02, -4.76901248e-04,  5.60449821e-03,  5.91494631e-03,\n",
       "        5.59839997e-03, -6.53247683e-03,  9.25070705e-03, -4.81200363e-03,\n",
       "        9.25116999e-03,  1.00756534e-02,  2.35873549e-03,  8.99554812e-03,\n",
       "       -1.42424803e-02, -4.18302132e-03, -1.88723804e-03, -6.07610334e-03,\n",
       "        4.11615439e-03, -1.35471089e-03, -3.44636558e-04, -4.08937120e-04,\n",
       "        3.47056599e-03,  8.71794466e-03, -3.50730182e-04, -4.27989759e-02,\n",
       "       -1.26822736e-02, -9.98213516e-04, -3.86165612e-02, -1.21893434e-02,\n",
       "       -2.73467436e-02, -9.43041176e-03, -1.24576993e-02, -2.89257681e-04,\n",
       "       -3.45314532e-04,  2.00485607e-02, -6.58842124e-03,  5.41772598e-02,\n",
       "        1.63984093e-03, -7.20747782e-03, -1.24386568e-03, -1.42087676e-03,\n",
       "       -3.77029766e-02,  9.04537965e-03, -4.00550587e-03,  9.67979891e-03,\n",
       "        5.84037998e-03,  3.57050252e-03,  8.77508302e-03, -2.87843624e-04,\n",
       "        1.46368043e-02, -7.17138334e-03,  3.41144172e-03,  5.16807505e-05,\n",
       "       -4.70072814e-03, -1.29192873e-02, -1.41173498e-02,  3.39346088e-03,\n",
       "        4.97477347e-03, -1.71444777e-02, -8.63459425e-04,  1.69609364e-03,\n",
       "       -1.52343064e-03,  2.47506189e-02, -3.78147410e-04,  2.44329756e-02,\n",
       "        6.50210223e-04,  1.92314498e-02,  5.27373229e-03,  1.95754608e-02,\n",
       "        6.93316714e-03, -8.24655066e-03,  1.48933609e-05,  3.95537442e-03,\n",
       "       -1.45684565e-02, -1.17356708e-02,  9.94212887e-03, -5.35021210e-03,\n",
       "       -1.54519842e-03,  3.65892163e-03,  3.51471181e-03,  7.56470391e-03,\n",
       "        1.02659569e-02, -1.52138917e-02, -6.30626570e-03,  7.99678129e-03,\n",
       "       -5.45131900e-03, -1.66921846e-02,  3.10499489e-03, -2.32875737e-03,\n",
       "       -3.67057019e-04,  4.40343095e-03,  8.79247638e-03, -1.40559453e-02,\n",
       "        9.02348906e-03,  1.54065088e-02,  2.35727241e-03,  5.86687552e-03,\n",
       "        8.64033815e-03,  7.09845222e-03, -7.90261402e-03, -1.88707415e-02,\n",
       "       -2.02000000e-02, -4.09365808e-02,  8.74187765e-03, -1.26731316e-02,\n",
       "       -5.97579636e-03,  4.41183567e-03,  8.89821807e-03,  1.86693869e-02,\n",
       "       -2.35542356e-04,  2.73745592e-03,  2.62276154e-03,  8.54288751e-02,\n",
       "        1.44769367e-02,  4.02057793e-03, -3.81062936e-04, -9.14279529e-03,\n",
       "        1.08901788e-02, -9.26283785e-05,  1.65469284e-02,  4.06020142e-02,\n",
       "        5.82438118e-02, -1.45909772e-02, -1.00980530e-02, -1.97156875e-03,\n",
       "       -3.64165038e-03, -1.08448895e-02,  9.20350316e-03, -8.10344361e-03,\n",
       "        8.78660439e-05,  8.49198613e-03,  5.17753486e-03,  1.16789228e-02,\n",
       "        1.63092574e-02, -8.02443110e-03,  2.77960885e-02, -2.42681139e-03,\n",
       "        8.64384508e-03,  1.21115004e-02, -2.48898047e-03, -1.63299603e-03,\n",
       "        4.51730468e-03, -3.23987006e-02, -7.37448301e-03,  1.55740922e-02,\n",
       "        3.61360995e-02,  3.44363373e-03, -3.67984981e-03, -5.20547330e-03,\n",
       "       -1.66783634e-02, -4.94126525e-03, -1.21385333e-02, -3.69586395e-03,\n",
       "        8.72176127e-03, -8.96662398e-02, -6.73334009e-03, -2.24488751e-02,\n",
       "        4.72586176e-03,  1.37418565e-02, -4.07978856e-03, -2.72319121e-03,\n",
       "       -5.63980392e-03, -1.06727358e-02,  1.59597671e-02, -1.76126402e-02,\n",
       "        1.11025451e-02, -1.28082202e-03, -1.02972444e-02,  2.39482630e-03,\n",
       "        5.25677608e-02, -5.78097279e-03, -4.02846481e-04, -1.20997394e-02,\n",
       "       -1.96234286e-04,  1.84464848e-02, -6.33306106e-04,  1.80547443e-04,\n",
       "       -1.78776303e-02, -3.82492792e-04,  1.84828323e-02,  2.93541131e-03,\n",
       "        1.94469132e-02,  1.38074954e-02,  4.92155689e-03,  8.68470081e-03,\n",
       "       -2.68506319e-03, -9.86671025e-03, -1.39559008e-02,  8.03739783e-04,\n",
       "       -1.01467675e-02, -2.35480806e-02, -1.88892429e-02,  7.00759595e-03,\n",
       "        9.92106802e-03,  1.16199362e-02, -9.68123856e-03,  1.08406816e-02,\n",
       "        8.26867499e-03, -6.91539505e-03, -4.85013863e-03, -2.13353718e-02,\n",
       "       -1.39794339e-02, -8.70252649e-03,  5.92437466e-03, -5.62187046e-03,\n",
       "       -5.42940290e-03,  4.09586518e-03,  2.08368617e-02, -5.14265075e-04,\n",
       "        1.32974796e-03, -4.20951567e-03,  3.11325908e-02,  3.57658038e-03,\n",
       "       -5.13807736e-03, -3.60419897e-03, -9.88671199e-03,  8.21402838e-03,\n",
       "       -1.12029739e-02, -7.89081243e-04, -3.83269158e-04,  1.56213251e-02,\n",
       "       -3.80808545e-04, -1.37268083e-02, -3.76573491e-04,  2.14535943e-03,\n",
       "        2.71703342e-02, -9.55489485e-03, -3.29963027e-04, -6.54914112e-03,\n",
       "        1.59124759e-02, -3.85325893e-04,  1.15537704e-02,  1.24490930e-02,\n",
       "       -2.12029457e-03,  9.78737001e-05, -8.00071205e-03, -1.58713443e-02,\n",
       "       -9.01169251e-03, -5.59555462e-04,  4.41277692e-04,  6.32922164e-04,\n",
       "        3.98376447e-03,  5.92881284e-03,  5.06110816e-03, -3.08172448e-03,\n",
       "        6.74756859e-03,  1.15455686e-02, -7.45854281e-03, -3.31180097e-04,\n",
       "       -7.18292076e-03,  2.23628868e-02,  6.69881766e-04, -3.15413128e-03,\n",
       "        8.65905022e-03,  2.98338115e-03,  3.39258966e-03,  5.88288637e-02,\n",
       "       -3.04244083e-04])"
      ]
     },
     "execution_count": 108,
     "metadata": {},
     "output_type": "execute_result"
    }
   ],
   "source": [
    "y_pred"
   ]
  },
  {
   "cell_type": "code",
   "execution_count": 109,
   "id": "debf44f0",
   "metadata": {},
   "outputs": [
    {
     "name": "stdout",
     "output_type": "stream",
     "text": [
      "Score =  0.677138014487511\n"
     ]
    }
   ],
   "source": [
    "print('Score = ',metrics.r2_score(y_test,y_pred))"
   ]
  },
  {
   "cell_type": "code",
   "execution_count": 110,
   "id": "c95aed92",
   "metadata": {},
   "outputs": [
    {
     "data": {
      "text/plain": [
       "array([-0.00336659,  0.03775117,  0.45493335,  0.26257137])"
      ]
     },
     "execution_count": 110,
     "metadata": {},
     "output_type": "execute_result"
    }
   ],
   "source": [
    "reg.coef_"
   ]
  },
  {
   "cell_type": "code",
   "execution_count": 111,
   "id": "89a8cc7e",
   "metadata": {},
   "outputs": [],
   "source": [
    "m=model.coef_\n",
    "b=model.intercept_"
   ]
  },
  {
   "cell_type": "code",
   "execution_count": 112,
   "id": "343e4ab5",
   "metadata": {},
   "outputs": [
    {
     "data": {
      "text/plain": [
       "array([-0.00336659,  0.03775117,  0.45493335,  0.26257137])"
      ]
     },
     "execution_count": 112,
     "metadata": {},
     "output_type": "execute_result"
    }
   ],
   "source": [
    "m"
   ]
  },
  {
   "cell_type": "code",
   "execution_count": 113,
   "id": "95955ba0",
   "metadata": {},
   "outputs": [
    {
     "data": {
      "text/plain": [
       "-0.00034629297368207084"
      ]
     },
     "execution_count": 113,
     "metadata": {},
     "output_type": "execute_result"
    }
   ],
   "source": [
    "b"
   ]
  },
  {
   "cell_type": "code",
   "execution_count": 114,
   "id": "cd2882ba",
   "metadata": {},
   "outputs": [
    {
     "data": {
      "text/plain": [
       "<matplotlib.collections.PathCollection at 0x7fcc4a4a7670>"
      ]
     },
     "execution_count": 114,
     "metadata": {},
     "output_type": "execute_result"
    },
    {
     "data": {
      "image/png": "[encoded data removed]",
      "text/plain": [
       "<Figure size 640x480 with 1 Axes>"
      ]
     },
     "metadata": {},
     "output_type": "display_data"
    }
   ],
   "source": [
    "plt.scatter(y_pred,y_test)\n"
   ]
  },
  {
   "cell_type": "code",
   "execution_count": null,
   "id": "5a3a6d7c",
   "metadata": {},
   "outputs": [],
   "source": []
  },
  {
   "cell_type": "code",
   "execution_count": 115,
   "id": "e623a985",
   "metadata": {},
   "outputs": [
    {
     "name": "stdout",
     "output_type": "stream",
     "text": [
      "MAE =  0.007780711981282307\n",
      "MSE = 0.00010917101267642652\n",
      "RMSE =  0.010448493320877729\n"
     ]
    }
   ],
   "source": [
    "print('MAE = ',metrics.mean_absolute_error(y_test,y_pred))\n",
    "print('MSE =',metrics.mean_squared_error(y_test,y_pred))\n",
    "print('RMSE = ',np.sqrt(metrics.mean_squared_error(y_test,y_pred)))"
   ]
  },
  {
   "cell_type": "code",
   "execution_count": null,
   "id": "e7fb5ab2",
   "metadata": {},
   "outputs": [],
   "source": []
  }
 ],
 "metadata": {
  "kernelspec": {
   "display_name": "Python 3 (ipykernel)",
   "language": "python",
   "name": "python3"
  },
  "language_info": {
   "codemirror_mode": {
    "name": "ipython",
    "version": 3
   },
   "file_extension": ".py",
   "mimetype": "text/x-python",
   "name": "python",
   "nbconvert_exporter": "python",
   "pygments_lexer": "ipython3",
   "version": "3.9.13"
  }
 },
 "nbformat": 4,
 "nbformat_minor": 5
}
