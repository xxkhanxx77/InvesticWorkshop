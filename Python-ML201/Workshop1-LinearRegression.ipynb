{
 "cells": [
  {
   "cell_type": "code",
   "execution_count": 18,
   "id": "bd6a874a",
   "metadata": {},
   "outputs": [],
   "source": [
    "import numpy as np\n",
    "import pandas as pd\n",
    "import seaborn as sns\n",
    "import matplotlib.pyplot as plt\n",
    "import pandas_ta as ta\n",
    "import vectorbt as vbt\n",
    "import yfinance as yf\n",
    "from datetime import datetime\n",
    "\n",
    "from sklearn.model_selection import (GridSearchCV, \n",
    "                                     TimeSeriesSplit,\n",
    "                                     train_test_split)\n",
    "from sklearn.preprocessing import (OrdinalEncoder, \n",
    "                                   OneHotEncoder)\n",
    "from sklearn.linear_model import (LinearRegression, \n",
    "                                  RidgeCV, \n",
    "                                  LassoCV, \n",
    "                                  ElasticNetCV)\n",
    "from sklearn.metrics import (r2_score, \n",
    "                             mean_squared_error, \n",
    "                             mean_absolute_error, \n",
    "                             mean_absolute_percentage_error)\n",
    "\n",
    "import warnings\n",
    "warnings.filterwarnings('ignore')"
   ]
  },
  {
   "cell_type": "code",
   "execution_count": 19,
   "id": "d5fc8a60",
   "metadata": {},
   "outputs": [],
   "source": [
    "start_date = datetime(2015,1,1)\n",
    "end_date = datetime(2020,12,31)"
   ]
  },
  {
   "cell_type": "code",
   "execution_count": 20,
   "id": "2a47de73",
   "metadata": {},
   "outputs": [],
   "source": [
    "\n",
    "data = pd.DataFrame()\n",
    "data = data.ta.ticker('spy',start = start_date, end = end_date)"
   ]
  },
  {
   "cell_type": "code",
   "execution_count": 21,
   "id": "0d3ef80d",
   "metadata": {},
   "outputs": [],
   "source": [
    "df = data.copy()"
   ]
  },
  {
   "cell_type": "code",
   "execution_count": 22,
   "id": "15fe9e8a",
   "metadata": {},
   "outputs": [
    {
     "data": {
      "text/html": [
       "<div>\n",
       "<style scoped>\n",
       "    .dataframe tbody tr th:only-of-type {\n",
       "        vertical-align: middle;\n",
       "    }\n",
       "\n",
       "    .dataframe tbody tr th {\n",
       "        vertical-align: top;\n",
       "    }\n",
       "\n",
       "    .dataframe thead th {\n",
       "        text-align: right;\n",
       "    }\n",
       "</style>\n",
       "<table border=\"1\" class=\"dataframe\">\n",
       "  <thead>\n",
       "    <tr style=\"text-align: right;\">\n",
       "      <th></th>\n",
       "      <th>Open</th>\n",
       "      <th>High</th>\n",
       "      <th>Low</th>\n",
       "      <th>Close</th>\n",
       "      <th>Volume</th>\n",
       "      <th>Dividends</th>\n",
       "      <th>Stock Splits</th>\n",
       "    </tr>\n",
       "    <tr>\n",
       "      <th>Date</th>\n",
       "      <th></th>\n",
       "      <th></th>\n",
       "      <th></th>\n",
       "      <th></th>\n",
       "      <th></th>\n",
       "      <th></th>\n",
       "      <th></th>\n",
       "    </tr>\n",
       "  </thead>\n",
       "  <tbody>\n",
       "    <tr>\n",
       "      <th>2020-12-23 00:00:00-05:00</th>\n",
       "      <td>357.633467</td>\n",
       "      <td>358.934725</td>\n",
       "      <td>356.604112</td>\n",
       "      <td>356.944000</td>\n",
       "      <td>46201400</td>\n",
       "      <td>0.0</td>\n",
       "      <td>0</td>\n",
       "    </tr>\n",
       "    <tr>\n",
       "      <th>2020-12-24 00:00:00-05:00</th>\n",
       "      <td>357.439255</td>\n",
       "      <td>358.361804</td>\n",
       "      <td>356.827493</td>\n",
       "      <td>358.332672</td>\n",
       "      <td>26457900</td>\n",
       "      <td>0.0</td>\n",
       "      <td>0</td>\n",
       "    </tr>\n",
       "    <tr>\n",
       "      <th>2020-12-28 00:00:00-05:00</th>\n",
       "      <td>360.993419</td>\n",
       "      <td>361.818852</td>\n",
       "      <td>360.342805</td>\n",
       "      <td>361.411011</td>\n",
       "      <td>39000400</td>\n",
       "      <td>0.0</td>\n",
       "      <td>0</td>\n",
       "    </tr>\n",
       "    <tr>\n",
       "      <th>2020-12-29 00:00:00-05:00</th>\n",
       "      <td>363.003628</td>\n",
       "      <td>363.188138</td>\n",
       "      <td>360.109765</td>\n",
       "      <td>360.721558</td>\n",
       "      <td>53680500</td>\n",
       "      <td>0.0</td>\n",
       "      <td>0</td>\n",
       "    </tr>\n",
       "    <tr>\n",
       "      <th>2020-12-30 00:00:00-05:00</th>\n",
       "      <td>361.576094</td>\n",
       "      <td>362.314133</td>\n",
       "      <td>360.828364</td>\n",
       "      <td>361.236206</td>\n",
       "      <td>49455300</td>\n",
       "      <td>0.0</td>\n",
       "      <td>0</td>\n",
       "    </tr>\n",
       "  </tbody>\n",
       "</table>\n",
       "</div>"
      ],
      "text/plain": [
       "                                 Open        High         Low       Close  \\\n",
       "Date                                                                        \n",
       "2020-12-23 00:00:00-05:00  357.633467  358.934725  356.604112  356.944000   \n",
       "2020-12-24 00:00:00-05:00  357.439255  358.361804  356.827493  358.332672   \n",
       "2020-12-28 00:00:00-05:00  360.993419  361.818852  360.342805  361.411011   \n",
       "2020-12-29 00:00:00-05:00  363.003628  363.188138  360.109765  360.721558   \n",
       "2020-12-30 00:00:00-05:00  361.576094  362.314133  360.828364  361.236206   \n",
       "\n",
       "                             Volume  Dividends  Stock Splits  \n",
       "Date                                                          \n",
       "2020-12-23 00:00:00-05:00  46201400        0.0             0  \n",
       "2020-12-24 00:00:00-05:00  26457900        0.0             0  \n",
       "2020-12-28 00:00:00-05:00  39000400        0.0             0  \n",
       "2020-12-29 00:00:00-05:00  53680500        0.0             0  \n",
       "2020-12-30 00:00:00-05:00  49455300        0.0             0  "
      ]
     },
     "execution_count": 22,
     "metadata": {},
     "output_type": "execute_result"
    }
   ],
   "source": [
    "df.tail()"
   ]
  },
  {
   "cell_type": "code",
   "execution_count": 23,
   "id": "d2399fd6",
   "metadata": {},
   "outputs": [
    {
     "data": {
      "text/html": [
       "<div>\n",
       "<style scoped>\n",
       "    .dataframe tbody tr th:only-of-type {\n",
       "        vertical-align: middle;\n",
       "    }\n",
       "\n",
       "    .dataframe tbody tr th {\n",
       "        vertical-align: top;\n",
       "    }\n",
       "\n",
       "    .dataframe thead th {\n",
       "        text-align: right;\n",
       "    }\n",
       "</style>\n",
       "<table border=\"1\" class=\"dataframe\">\n",
       "  <thead>\n",
       "    <tr style=\"text-align: right;\">\n",
       "      <th></th>\n",
       "      <th>Close</th>\n",
       "    </tr>\n",
       "    <tr>\n",
       "      <th>Date</th>\n",
       "      <th></th>\n",
       "    </tr>\n",
       "  </thead>\n",
       "  <tbody>\n",
       "    <tr>\n",
       "      <th>2020-12-23 00:00:00-05:00</th>\n",
       "      <td>356.944000</td>\n",
       "    </tr>\n",
       "    <tr>\n",
       "      <th>2020-12-24 00:00:00-05:00</th>\n",
       "      <td>358.332672</td>\n",
       "    </tr>\n",
       "    <tr>\n",
       "      <th>2020-12-28 00:00:00-05:00</th>\n",
       "      <td>361.411011</td>\n",
       "    </tr>\n",
       "    <tr>\n",
       "      <th>2020-12-29 00:00:00-05:00</th>\n",
       "      <td>360.721558</td>\n",
       "    </tr>\n",
       "    <tr>\n",
       "      <th>2020-12-30 00:00:00-05:00</th>\n",
       "      <td>361.236206</td>\n",
       "    </tr>\n",
       "  </tbody>\n",
       "</table>\n",
       "</div>"
      ],
      "text/plain": [
       "                                Close\n",
       "Date                                 \n",
       "2020-12-23 00:00:00-05:00  356.944000\n",
       "2020-12-24 00:00:00-05:00  358.332672\n",
       "2020-12-28 00:00:00-05:00  361.411011\n",
       "2020-12-29 00:00:00-05:00  360.721558\n",
       "2020-12-30 00:00:00-05:00  361.236206"
      ]
     },
     "execution_count": 23,
     "metadata": {},
     "output_type": "execute_result"
    }
   ],
   "source": [
    "df = df[['Close']]\n",
    "df.tail()"
   ]
  },
  {
   "cell_type": "code",
   "execution_count": 24,
   "id": "1c8c433f",
   "metadata": {},
   "outputs": [
    {
     "name": "stdout",
     "output_type": "stream",
     "text": [
      "<class 'pandas.core.frame.DataFrame'>\n",
      "DatetimeIndex: 1510 entries, 2015-01-02 00:00:00-05:00 to 2020-12-30 00:00:00-05:00\n",
      "Data columns (total 1 columns):\n",
      " #   Column  Non-Null Count  Dtype  \n",
      "---  ------  --------------  -----  \n",
      " 0   Close   1510 non-null   float64\n",
      "dtypes: float64(1)\n",
      "memory usage: 23.6 KB\n"
     ]
    }
   ],
   "source": [
    "df.info()"
   ]
  },
  {
   "cell_type": "code",
   "execution_count": 25,
   "id": "69db5910",
   "metadata": {},
   "outputs": [
    {
     "data": {
      "text/html": [
       "<div>\n",
       "<style scoped>\n",
       "    .dataframe tbody tr th:only-of-type {\n",
       "        vertical-align: middle;\n",
       "    }\n",
       "\n",
       "    .dataframe tbody tr th {\n",
       "        vertical-align: top;\n",
       "    }\n",
       "\n",
       "    .dataframe thead th {\n",
       "        text-align: right;\n",
       "    }\n",
       "</style>\n",
       "<table border=\"1\" class=\"dataframe\">\n",
       "  <thead>\n",
       "    <tr style=\"text-align: right;\">\n",
       "      <th></th>\n",
       "      <th>Close</th>\n",
       "      <th>MACD_12_26_9</th>\n",
       "      <th>MACDh_12_26_9</th>\n",
       "      <th>MACDs_12_26_9</th>\n",
       "    </tr>\n",
       "    <tr>\n",
       "      <th>Date</th>\n",
       "      <th></th>\n",
       "      <th></th>\n",
       "      <th></th>\n",
       "      <th></th>\n",
       "    </tr>\n",
       "  </thead>\n",
       "  <tbody>\n",
       "    <tr>\n",
       "      <th>2020-12-23 00:00:00-05:00</th>\n",
       "      <td>356.944000</td>\n",
       "      <td>3.782510</td>\n",
       "      <td>-0.641183</td>\n",
       "      <td>4.423693</td>\n",
       "    </tr>\n",
       "    <tr>\n",
       "      <th>2020-12-24 00:00:00-05:00</th>\n",
       "      <td>358.332672</td>\n",
       "      <td>3.665078</td>\n",
       "      <td>-0.606892</td>\n",
       "      <td>4.271970</td>\n",
       "    </tr>\n",
       "    <tr>\n",
       "      <th>2020-12-28 00:00:00-05:00</th>\n",
       "      <td>361.411011</td>\n",
       "      <td>3.776872</td>\n",
       "      <td>-0.396079</td>\n",
       "      <td>4.172951</td>\n",
       "    </tr>\n",
       "    <tr>\n",
       "      <th>2020-12-29 00:00:00-05:00</th>\n",
       "      <td>360.721558</td>\n",
       "      <td>3.766419</td>\n",
       "      <td>-0.325225</td>\n",
       "      <td>4.091644</td>\n",
       "    </tr>\n",
       "    <tr>\n",
       "      <th>2020-12-30 00:00:00-05:00</th>\n",
       "      <td>361.236206</td>\n",
       "      <td>3.756362</td>\n",
       "      <td>-0.268226</td>\n",
       "      <td>4.024588</td>\n",
       "    </tr>\n",
       "  </tbody>\n",
       "</table>\n",
       "</div>"
      ],
      "text/plain": [
       "                                Close  MACD_12_26_9  MACDh_12_26_9  \\\n",
       "Date                                                                 \n",
       "2020-12-23 00:00:00-05:00  356.944000      3.782510      -0.641183   \n",
       "2020-12-24 00:00:00-05:00  358.332672      3.665078      -0.606892   \n",
       "2020-12-28 00:00:00-05:00  361.411011      3.776872      -0.396079   \n",
       "2020-12-29 00:00:00-05:00  360.721558      3.766419      -0.325225   \n",
       "2020-12-30 00:00:00-05:00  361.236206      3.756362      -0.268226   \n",
       "\n",
       "                           MACDs_12_26_9  \n",
       "Date                                      \n",
       "2020-12-23 00:00:00-05:00       4.423693  \n",
       "2020-12-24 00:00:00-05:00       4.271970  \n",
       "2020-12-28 00:00:00-05:00       4.172951  \n",
       "2020-12-29 00:00:00-05:00       4.091644  \n",
       "2020-12-30 00:00:00-05:00       4.024588  "
      ]
     },
     "execution_count": 25,
     "metadata": {},
     "output_type": "execute_result"
    }
   ],
   "source": [
    "df.ta.macd(append=True)\n",
    "df.tail()"
   ]
  },
  {
   "cell_type": "code",
   "execution_count": 26,
   "id": "cbdbbbb1",
   "metadata": {},
   "outputs": [
    {
     "data": {
      "text/html": [
       "<div>\n",
       "<style scoped>\n",
       "    .dataframe tbody tr th:only-of-type {\n",
       "        vertical-align: middle;\n",
       "    }\n",
       "\n",
       "    .dataframe tbody tr th {\n",
       "        vertical-align: top;\n",
       "    }\n",
       "\n",
       "    .dataframe thead th {\n",
       "        text-align: right;\n",
       "    }\n",
       "</style>\n",
       "<table border=\"1\" class=\"dataframe\">\n",
       "  <thead>\n",
       "    <tr style=\"text-align: right;\">\n",
       "      <th></th>\n",
       "      <th>Close</th>\n",
       "      <th>MACD_12_26_9</th>\n",
       "      <th>MACDh_12_26_9</th>\n",
       "      <th>MACDs_12_26_9</th>\n",
       "      <th>z-score-MACDh</th>\n",
       "    </tr>\n",
       "    <tr>\n",
       "      <th>Date</th>\n",
       "      <th></th>\n",
       "      <th></th>\n",
       "      <th></th>\n",
       "      <th></th>\n",
       "      <th></th>\n",
       "    </tr>\n",
       "  </thead>\n",
       "  <tbody>\n",
       "    <tr>\n",
       "      <th>2015-01-02 00:00:00-05:00</th>\n",
       "      <td>177.463638</td>\n",
       "      <td>NaN</td>\n",
       "      <td>NaN</td>\n",
       "      <td>NaN</td>\n",
       "      <td>NaN</td>\n",
       "    </tr>\n",
       "    <tr>\n",
       "      <th>2015-01-05 00:00:00-05:00</th>\n",
       "      <td>174.258652</td>\n",
       "      <td>NaN</td>\n",
       "      <td>NaN</td>\n",
       "      <td>NaN</td>\n",
       "      <td>NaN</td>\n",
       "    </tr>\n",
       "    <tr>\n",
       "      <th>2015-01-06 00:00:00-05:00</th>\n",
       "      <td>172.617401</td>\n",
       "      <td>NaN</td>\n",
       "      <td>NaN</td>\n",
       "      <td>NaN</td>\n",
       "      <td>NaN</td>\n",
       "    </tr>\n",
       "    <tr>\n",
       "      <th>2015-01-07 00:00:00-05:00</th>\n",
       "      <td>174.768356</td>\n",
       "      <td>NaN</td>\n",
       "      <td>NaN</td>\n",
       "      <td>NaN</td>\n",
       "      <td>NaN</td>\n",
       "    </tr>\n",
       "    <tr>\n",
       "      <th>2015-01-08 00:00:00-05:00</th>\n",
       "      <td>177.869644</td>\n",
       "      <td>NaN</td>\n",
       "      <td>NaN</td>\n",
       "      <td>NaN</td>\n",
       "      <td>NaN</td>\n",
       "    </tr>\n",
       "    <tr>\n",
       "      <th>...</th>\n",
       "      <td>...</td>\n",
       "      <td>...</td>\n",
       "      <td>...</td>\n",
       "      <td>...</td>\n",
       "      <td>...</td>\n",
       "    </tr>\n",
       "    <tr>\n",
       "      <th>2020-12-23 00:00:00-05:00</th>\n",
       "      <td>356.944000</td>\n",
       "      <td>3.782510</td>\n",
       "      <td>-0.641183</td>\n",
       "      <td>4.423693</td>\n",
       "      <td>-1.358761</td>\n",
       "    </tr>\n",
       "    <tr>\n",
       "      <th>2020-12-24 00:00:00-05:00</th>\n",
       "      <td>358.332672</td>\n",
       "      <td>3.665078</td>\n",
       "      <td>-0.606892</td>\n",
       "      <td>4.271970</td>\n",
       "      <td>-1.174522</td>\n",
       "    </tr>\n",
       "    <tr>\n",
       "      <th>2020-12-28 00:00:00-05:00</th>\n",
       "      <td>361.411011</td>\n",
       "      <td>3.776872</td>\n",
       "      <td>-0.396079</td>\n",
       "      <td>4.172951</td>\n",
       "      <td>-0.669623</td>\n",
       "    </tr>\n",
       "    <tr>\n",
       "      <th>2020-12-29 00:00:00-05:00</th>\n",
       "      <td>360.721558</td>\n",
       "      <td>3.766419</td>\n",
       "      <td>-0.325225</td>\n",
       "      <td>4.091644</td>\n",
       "      <td>-0.448680</td>\n",
       "    </tr>\n",
       "    <tr>\n",
       "      <th>2020-12-30 00:00:00-05:00</th>\n",
       "      <td>361.236206</td>\n",
       "      <td>3.756362</td>\n",
       "      <td>-0.268226</td>\n",
       "      <td>4.024588</td>\n",
       "      <td>-0.257679</td>\n",
       "    </tr>\n",
       "  </tbody>\n",
       "</table>\n",
       "<p>1510 rows × 5 columns</p>\n",
       "</div>"
      ],
      "text/plain": [
       "                                Close  MACD_12_26_9  MACDh_12_26_9  \\\n",
       "Date                                                                 \n",
       "2015-01-02 00:00:00-05:00  177.463638           NaN            NaN   \n",
       "2015-01-05 00:00:00-05:00  174.258652           NaN            NaN   \n",
       "2015-01-06 00:00:00-05:00  172.617401           NaN            NaN   \n",
       "2015-01-07 00:00:00-05:00  174.768356           NaN            NaN   \n",
       "2015-01-08 00:00:00-05:00  177.869644           NaN            NaN   \n",
       "...                               ...           ...            ...   \n",
       "2020-12-23 00:00:00-05:00  356.944000      3.782510      -0.641183   \n",
       "2020-12-24 00:00:00-05:00  358.332672      3.665078      -0.606892   \n",
       "2020-12-28 00:00:00-05:00  361.411011      3.776872      -0.396079   \n",
       "2020-12-29 00:00:00-05:00  360.721558      3.766419      -0.325225   \n",
       "2020-12-30 00:00:00-05:00  361.236206      3.756362      -0.268226   \n",
       "\n",
       "                           MACDs_12_26_9  z-score-MACDh  \n",
       "Date                                                     \n",
       "2015-01-02 00:00:00-05:00            NaN            NaN  \n",
       "2015-01-05 00:00:00-05:00            NaN            NaN  \n",
       "2015-01-06 00:00:00-05:00            NaN            NaN  \n",
       "2015-01-07 00:00:00-05:00            NaN            NaN  \n",
       "2015-01-08 00:00:00-05:00            NaN            NaN  \n",
       "...                                  ...            ...  \n",
       "2020-12-23 00:00:00-05:00       4.423693      -1.358761  \n",
       "2020-12-24 00:00:00-05:00       4.271970      -1.174522  \n",
       "2020-12-28 00:00:00-05:00       4.172951      -0.669623  \n",
       "2020-12-29 00:00:00-05:00       4.091644      -0.448680  \n",
       "2020-12-30 00:00:00-05:00       4.024588      -0.257679  \n",
       "\n",
       "[1510 rows x 5 columns]"
      ]
     },
     "execution_count": 26,
     "metadata": {},
     "output_type": "execute_result"
    }
   ],
   "source": [
    "window = 21\n",
    "target_column = 'MACDh_12_26_9'\n",
    "roll = df[target_column].rolling(window)\n",
    "df['z-score-MACDh'] = (df[target_column] - roll.mean()) / roll.std()\n",
    "df"
   ]
  },
  {
   "cell_type": "code",
   "execution_count": 27,
   "id": "c1d16078",
   "metadata": {},
   "outputs": [
    {
     "data": {
      "text/plain": [
       "Date\n",
       "2015-01-02 00:00:00-05:00   -0.005744\n",
       "2015-01-05 00:00:00-05:00    0.004611\n",
       "2015-01-06 00:00:00-05:00    0.011310\n",
       "2015-01-07 00:00:00-05:00   -0.007167\n",
       "2015-01-08 00:00:00-05:00   -0.033414\n",
       "                               ...   \n",
       "2020-12-23 00:00:00-05:00         NaN\n",
       "2020-12-24 00:00:00-05:00         NaN\n",
       "2020-12-28 00:00:00-05:00         NaN\n",
       "2020-12-29 00:00:00-05:00         NaN\n",
       "2020-12-30 00:00:00-05:00         NaN\n",
       "Name: Close, Length: 1510, dtype: float64"
      ]
     },
     "execution_count": 27,
     "metadata": {},
     "output_type": "execute_result"
    }
   ],
   "source": [
    "df['Close'].pct_change(5).shift(-5)"
   ]
  },
  {
   "cell_type": "code",
   "execution_count": 28,
   "id": "8a5820ae",
   "metadata": {},
   "outputs": [
    {
     "data": {
      "text/html": [
       "<div>\n",
       "<style scoped>\n",
       "    .dataframe tbody tr th:only-of-type {\n",
       "        vertical-align: middle;\n",
       "    }\n",
       "\n",
       "    .dataframe tbody tr th {\n",
       "        vertical-align: top;\n",
       "    }\n",
       "\n",
       "    .dataframe thead th {\n",
       "        text-align: right;\n",
       "    }\n",
       "</style>\n",
       "<table border=\"1\" class=\"dataframe\">\n",
       "  <thead>\n",
       "    <tr style=\"text-align: right;\">\n",
       "      <th></th>\n",
       "      <th>Close</th>\n",
       "      <th>MACD_12_26_9</th>\n",
       "      <th>MACDh_12_26_9</th>\n",
       "      <th>MACDs_12_26_9</th>\n",
       "      <th>z-score-MACDh</th>\n",
       "      <th>Profit-Loss</th>\n",
       "    </tr>\n",
       "    <tr>\n",
       "      <th>Date</th>\n",
       "      <th></th>\n",
       "      <th></th>\n",
       "      <th></th>\n",
       "      <th></th>\n",
       "      <th></th>\n",
       "      <th></th>\n",
       "    </tr>\n",
       "  </thead>\n",
       "  <tbody>\n",
       "    <tr>\n",
       "      <th>2015-01-02 00:00:00-05:00</th>\n",
       "      <td>177.463638</td>\n",
       "      <td>NaN</td>\n",
       "      <td>NaN</td>\n",
       "      <td>NaN</td>\n",
       "      <td>NaN</td>\n",
       "      <td>-0.005744</td>\n",
       "    </tr>\n",
       "    <tr>\n",
       "      <th>2015-01-05 00:00:00-05:00</th>\n",
       "      <td>174.258652</td>\n",
       "      <td>NaN</td>\n",
       "      <td>NaN</td>\n",
       "      <td>NaN</td>\n",
       "      <td>NaN</td>\n",
       "      <td>0.004611</td>\n",
       "    </tr>\n",
       "    <tr>\n",
       "      <th>2015-01-06 00:00:00-05:00</th>\n",
       "      <td>172.617401</td>\n",
       "      <td>NaN</td>\n",
       "      <td>NaN</td>\n",
       "      <td>NaN</td>\n",
       "      <td>NaN</td>\n",
       "      <td>0.011310</td>\n",
       "    </tr>\n",
       "    <tr>\n",
       "      <th>2015-01-07 00:00:00-05:00</th>\n",
       "      <td>174.768356</td>\n",
       "      <td>NaN</td>\n",
       "      <td>NaN</td>\n",
       "      <td>NaN</td>\n",
       "      <td>NaN</td>\n",
       "      <td>-0.007167</td>\n",
       "    </tr>\n",
       "    <tr>\n",
       "      <th>2015-01-08 00:00:00-05:00</th>\n",
       "      <td>177.869644</td>\n",
       "      <td>NaN</td>\n",
       "      <td>NaN</td>\n",
       "      <td>NaN</td>\n",
       "      <td>NaN</td>\n",
       "      <td>-0.033414</td>\n",
       "    </tr>\n",
       "    <tr>\n",
       "      <th>...</th>\n",
       "      <td>...</td>\n",
       "      <td>...</td>\n",
       "      <td>...</td>\n",
       "      <td>...</td>\n",
       "      <td>...</td>\n",
       "      <td>...</td>\n",
       "    </tr>\n",
       "    <tr>\n",
       "      <th>2020-12-23 00:00:00-05:00</th>\n",
       "      <td>356.944000</td>\n",
       "      <td>3.782510</td>\n",
       "      <td>-0.641183</td>\n",
       "      <td>4.423693</td>\n",
       "      <td>-1.358761</td>\n",
       "      <td>NaN</td>\n",
       "    </tr>\n",
       "    <tr>\n",
       "      <th>2020-12-24 00:00:00-05:00</th>\n",
       "      <td>358.332672</td>\n",
       "      <td>3.665078</td>\n",
       "      <td>-0.606892</td>\n",
       "      <td>4.271970</td>\n",
       "      <td>-1.174522</td>\n",
       "      <td>NaN</td>\n",
       "    </tr>\n",
       "    <tr>\n",
       "      <th>2020-12-28 00:00:00-05:00</th>\n",
       "      <td>361.411011</td>\n",
       "      <td>3.776872</td>\n",
       "      <td>-0.396079</td>\n",
       "      <td>4.172951</td>\n",
       "      <td>-0.669623</td>\n",
       "      <td>NaN</td>\n",
       "    </tr>\n",
       "    <tr>\n",
       "      <th>2020-12-29 00:00:00-05:00</th>\n",
       "      <td>360.721558</td>\n",
       "      <td>3.766419</td>\n",
       "      <td>-0.325225</td>\n",
       "      <td>4.091644</td>\n",
       "      <td>-0.448680</td>\n",
       "      <td>NaN</td>\n",
       "    </tr>\n",
       "    <tr>\n",
       "      <th>2020-12-30 00:00:00-05:00</th>\n",
       "      <td>361.236206</td>\n",
       "      <td>3.756362</td>\n",
       "      <td>-0.268226</td>\n",
       "      <td>4.024588</td>\n",
       "      <td>-0.257679</td>\n",
       "      <td>NaN</td>\n",
       "    </tr>\n",
       "  </tbody>\n",
       "</table>\n",
       "<p>1510 rows × 6 columns</p>\n",
       "</div>"
      ],
      "text/plain": [
       "                                Close  MACD_12_26_9  MACDh_12_26_9  \\\n",
       "Date                                                                 \n",
       "2015-01-02 00:00:00-05:00  177.463638           NaN            NaN   \n",
       "2015-01-05 00:00:00-05:00  174.258652           NaN            NaN   \n",
       "2015-01-06 00:00:00-05:00  172.617401           NaN            NaN   \n",
       "2015-01-07 00:00:00-05:00  174.768356           NaN            NaN   \n",
       "2015-01-08 00:00:00-05:00  177.869644           NaN            NaN   \n",
       "...                               ...           ...            ...   \n",
       "2020-12-23 00:00:00-05:00  356.944000      3.782510      -0.641183   \n",
       "2020-12-24 00:00:00-05:00  358.332672      3.665078      -0.606892   \n",
       "2020-12-28 00:00:00-05:00  361.411011      3.776872      -0.396079   \n",
       "2020-12-29 00:00:00-05:00  360.721558      3.766419      -0.325225   \n",
       "2020-12-30 00:00:00-05:00  361.236206      3.756362      -0.268226   \n",
       "\n",
       "                           MACDs_12_26_9  z-score-MACDh  Profit-Loss  \n",
       "Date                                                                  \n",
       "2015-01-02 00:00:00-05:00            NaN            NaN    -0.005744  \n",
       "2015-01-05 00:00:00-05:00            NaN            NaN     0.004611  \n",
       "2015-01-06 00:00:00-05:00            NaN            NaN     0.011310  \n",
       "2015-01-07 00:00:00-05:00            NaN            NaN    -0.007167  \n",
       "2015-01-08 00:00:00-05:00            NaN            NaN    -0.033414  \n",
       "...                                  ...            ...          ...  \n",
       "2020-12-23 00:00:00-05:00       4.423693      -1.358761          NaN  \n",
       "2020-12-24 00:00:00-05:00       4.271970      -1.174522          NaN  \n",
       "2020-12-28 00:00:00-05:00       4.172951      -0.669623          NaN  \n",
       "2020-12-29 00:00:00-05:00       4.091644      -0.448680          NaN  \n",
       "2020-12-30 00:00:00-05:00       4.024588      -0.257679          NaN  \n",
       "\n",
       "[1510 rows x 6 columns]"
      ]
     },
     "execution_count": 28,
     "metadata": {},
     "output_type": "execute_result"
    }
   ],
   "source": [
    "df['Profit-Loss'] = df['Close'].pct_change(5).shift(-5)\n",
    "df"
   ]
  },
  {
   "cell_type": "code",
   "execution_count": 29,
   "id": "4383984d",
   "metadata": {},
   "outputs": [
    {
     "name": "stdout",
     "output_type": "stream",
     "text": [
      "<class 'pandas.core.frame.DataFrame'>\n",
      "DatetimeIndex: 1510 entries, 2015-01-02 00:00:00-05:00 to 2020-12-30 00:00:00-05:00\n",
      "Data columns (total 6 columns):\n",
      " #   Column         Non-Null Count  Dtype  \n",
      "---  ------         --------------  -----  \n",
      " 0   Close          1510 non-null   float64\n",
      " 1   MACD_12_26_9   1477 non-null   float64\n",
      " 2   MACDh_12_26_9  1477 non-null   float64\n",
      " 3   MACDs_12_26_9  1477 non-null   float64\n",
      " 4   z-score-MACDh  1457 non-null   float64\n",
      " 5   Profit-Loss    1505 non-null   float64\n",
      "dtypes: float64(6)\n",
      "memory usage: 82.6 KB\n"
     ]
    }
   ],
   "source": [
    "df.info()"
   ]
  },
  {
   "cell_type": "code",
   "execution_count": 30,
   "id": "58c02c4a",
   "metadata": {},
   "outputs": [],
   "source": [
    "df.dropna(inplace=True)"
   ]
  },
  {
   "cell_type": "code",
   "execution_count": 31,
   "id": "562ded6e",
   "metadata": {
    "scrolled": true
   },
   "outputs": [
    {
     "data": {
      "text/html": [
       "<div>\n",
       "<style scoped>\n",
       "    .dataframe tbody tr th:only-of-type {\n",
       "        vertical-align: middle;\n",
       "    }\n",
       "\n",
       "    .dataframe tbody tr th {\n",
       "        vertical-align: top;\n",
       "    }\n",
       "\n",
       "    .dataframe thead th {\n",
       "        text-align: right;\n",
       "    }\n",
       "</style>\n",
       "<table border=\"1\" class=\"dataframe\">\n",
       "  <thead>\n",
       "    <tr style=\"text-align: right;\">\n",
       "      <th></th>\n",
       "      <th>Close</th>\n",
       "      <th>MACD_12_26_9</th>\n",
       "      <th>MACDh_12_26_9</th>\n",
       "      <th>MACDs_12_26_9</th>\n",
       "      <th>z-score-MACDh</th>\n",
       "      <th>Profit-Loss</th>\n",
       "    </tr>\n",
       "    <tr>\n",
       "      <th>Date</th>\n",
       "      <th></th>\n",
       "      <th></th>\n",
       "      <th></th>\n",
       "      <th></th>\n",
       "      <th></th>\n",
       "      <th></th>\n",
       "    </tr>\n",
       "  </thead>\n",
       "  <tbody>\n",
       "    <tr>\n",
       "      <th>2015-03-20 00:00:00-04:00</th>\n",
       "      <td>182.577042</td>\n",
       "      <td>0.492658</td>\n",
       "      <td>0.048072</td>\n",
       "      <td>0.444586</td>\n",
       "      <td>0.336023</td>\n",
       "      <td>-0.022195</td>\n",
       "    </tr>\n",
       "    <tr>\n",
       "      <th>2015-03-23 00:00:00-04:00</th>\n",
       "      <td>182.221268</td>\n",
       "      <td>0.595780</td>\n",
       "      <td>0.120956</td>\n",
       "      <td>0.474825</td>\n",
       "      <td>0.582388</td>\n",
       "      <td>-0.008333</td>\n",
       "    </tr>\n",
       "    <tr>\n",
       "      <th>2015-03-24 00:00:00-04:00</th>\n",
       "      <td>181.197357</td>\n",
       "      <td>0.588105</td>\n",
       "      <td>0.090624</td>\n",
       "      <td>0.497481</td>\n",
       "      <td>0.603975</td>\n",
       "      <td>-0.011445</td>\n",
       "    </tr>\n",
       "    <tr>\n",
       "      <th>2015-03-25 00:00:00-04:00</th>\n",
       "      <td>178.542114</td>\n",
       "      <td>0.363576</td>\n",
       "      <td>-0.107124</td>\n",
       "      <td>0.470700</td>\n",
       "      <td>0.208922</td>\n",
       "      <td>-0.000292</td>\n",
       "    </tr>\n",
       "    <tr>\n",
       "      <th>2015-03-26 00:00:00-04:00</th>\n",
       "      <td>178.116898</td>\n",
       "      <td>0.149598</td>\n",
       "      <td>-0.256881</td>\n",
       "      <td>0.406479</td>\n",
       "      <td>-0.107782</td>\n",
       "      <td>0.005700</td>\n",
       "    </tr>\n",
       "    <tr>\n",
       "      <th>...</th>\n",
       "      <td>...</td>\n",
       "      <td>...</td>\n",
       "      <td>...</td>\n",
       "      <td>...</td>\n",
       "      <td>...</td>\n",
       "      <td>...</td>\n",
       "    </tr>\n",
       "    <tr>\n",
       "      <th>2020-12-16 00:00:00-05:00</th>\n",
       "      <td>357.943115</td>\n",
       "      <td>4.525214</td>\n",
       "      <td>-0.458619</td>\n",
       "      <td>4.983833</td>\n",
       "      <td>-1.338210</td>\n",
       "      <td>-0.002791</td>\n",
       "    </tr>\n",
       "    <tr>\n",
       "      <th>2020-12-17 00:00:00-05:00</th>\n",
       "      <td>359.944641</td>\n",
       "      <td>4.617565</td>\n",
       "      <td>-0.293015</td>\n",
       "      <td>4.910580</td>\n",
       "      <td>-1.068218</td>\n",
       "      <td>-0.004478</td>\n",
       "    </tr>\n",
       "    <tr>\n",
       "      <th>2020-12-18 00:00:00-05:00</th>\n",
       "      <td>358.507477</td>\n",
       "      <td>4.522652</td>\n",
       "      <td>-0.310342</td>\n",
       "      <td>4.832994</td>\n",
       "      <td>-1.051383</td>\n",
       "      <td>0.008099</td>\n",
       "    </tr>\n",
       "    <tr>\n",
       "      <th>2020-12-21 00:00:00-05:00</th>\n",
       "      <td>357.225616</td>\n",
       "      <td>4.294493</td>\n",
       "      <td>-0.430801</td>\n",
       "      <td>4.725294</td>\n",
       "      <td>-1.214166</td>\n",
       "      <td>0.009786</td>\n",
       "    </tr>\n",
       "    <tr>\n",
       "      <th>2020-12-22 00:00:00-05:00</th>\n",
       "      <td>356.623566</td>\n",
       "      <td>4.018769</td>\n",
       "      <td>-0.565220</td>\n",
       "      <td>4.583989</td>\n",
       "      <td>-1.355620</td>\n",
       "      <td>0.012934</td>\n",
       "    </tr>\n",
       "  </tbody>\n",
       "</table>\n",
       "<p>1452 rows × 6 columns</p>\n",
       "</div>"
      ],
      "text/plain": [
       "                                Close  MACD_12_26_9  MACDh_12_26_9  \\\n",
       "Date                                                                 \n",
       "2015-03-20 00:00:00-04:00  182.577042      0.492658       0.048072   \n",
       "2015-03-23 00:00:00-04:00  182.221268      0.595780       0.120956   \n",
       "2015-03-24 00:00:00-04:00  181.197357      0.588105       0.090624   \n",
       "2015-03-25 00:00:00-04:00  178.542114      0.363576      -0.107124   \n",
       "2015-03-26 00:00:00-04:00  178.116898      0.149598      -0.256881   \n",
       "...                               ...           ...            ...   \n",
       "2020-12-16 00:00:00-05:00  357.943115      4.525214      -0.458619   \n",
       "2020-12-17 00:00:00-05:00  359.944641      4.617565      -0.293015   \n",
       "2020-12-18 00:00:00-05:00  358.507477      4.522652      -0.310342   \n",
       "2020-12-21 00:00:00-05:00  357.225616      4.294493      -0.430801   \n",
       "2020-12-22 00:00:00-05:00  356.623566      4.018769      -0.565220   \n",
       "\n",
       "                           MACDs_12_26_9  z-score-MACDh  Profit-Loss  \n",
       "Date                                                                  \n",
       "2015-03-20 00:00:00-04:00       0.444586       0.336023    -0.022195  \n",
       "2015-03-23 00:00:00-04:00       0.474825       0.582388    -0.008333  \n",
       "2015-03-24 00:00:00-04:00       0.497481       0.603975    -0.011445  \n",
       "2015-03-25 00:00:00-04:00       0.470700       0.208922    -0.000292  \n",
       "2015-03-26 00:00:00-04:00       0.406479      -0.107782     0.005700  \n",
       "...                                  ...            ...          ...  \n",
       "2020-12-16 00:00:00-05:00       4.983833      -1.338210    -0.002791  \n",
       "2020-12-17 00:00:00-05:00       4.910580      -1.068218    -0.004478  \n",
       "2020-12-18 00:00:00-05:00       4.832994      -1.051383     0.008099  \n",
       "2020-12-21 00:00:00-05:00       4.725294      -1.214166     0.009786  \n",
       "2020-12-22 00:00:00-05:00       4.583989      -1.355620     0.012934  \n",
       "\n",
       "[1452 rows x 6 columns]"
      ]
     },
     "execution_count": 31,
     "metadata": {},
     "output_type": "execute_result"
    }
   ],
   "source": [
    "df"
   ]
  },
  {
   "cell_type": "code",
   "execution_count": 32,
   "id": "fa146a22",
   "metadata": {},
   "outputs": [],
   "source": [
    "my_features = ['MACD_12_26_9', 'MACDs_12_26_9','z-score-MACDh']\n",
    "X = df[my_features]\n",
    "y = df['Profit-Loss']"
   ]
  },
  {
   "cell_type": "code",
   "execution_count": 33,
   "id": "46db38f6",
   "metadata": {},
   "outputs": [],
   "source": [
    "X_train, X_test, y_train, y_test = train_test_split(X, y, test_size=0.25, random_state=42)"
   ]
  },
  {
   "cell_type": "markdown",
   "id": "39aed26a",
   "metadata": {},
   "source": [
    "# ## Linear Regression"
   ]
  },
  {
   "cell_type": "code",
   "execution_count": 36,
   "id": "20b47c75",
   "metadata": {
    "scrolled": true
   },
   "outputs": [
    {
     "data": {
      "text/plain": [
       "LinearRegression()"
      ]
     },
     "execution_count": 36,
     "metadata": {},
     "output_type": "execute_result"
    }
   ],
   "source": [
    "\n",
    "reg = LinearRegression()\n",
    "reg.fit(X_train, y_train)"
   ]
  },
  {
   "cell_type": "code",
   "execution_count": 40,
   "id": "7b4b7392",
   "metadata": {},
   "outputs": [
    {
     "name": "stdout",
     "output_type": "stream",
     "text": [
      "coef =  [ 0.00385432 -0.00479301 -0.00211189]\n",
      "intercept =  0.0037764576906361043\n"
     ]
    }
   ],
   "source": [
    "m = reg.coef_\n",
    "print(\"coef = \",m)\n",
    "b = reg.intercept_\n",
    "print(\"intercept = \",b)"
   ]
  },
  {
   "cell_type": "code",
   "execution_count": 41,
   "id": "1a373856",
   "metadata": {},
   "outputs": [],
   "source": [
    "y_pred_train = reg.predict(X_train)\n",
    "y_pred_test = reg.predict(X_test)"
   ]
  },
  {
   "cell_type": "code",
   "execution_count": 42,
   "id": "fb774785",
   "metadata": {},
   "outputs": [
    {
     "name": "stdout",
     "output_type": "stream",
     "text": [
      "r2_score =\t\t\t 0.025700605012555\n",
      "mean_squared_error =\t\t 0.0005513347239580572\n",
      "mean_absolute_error =\t\t 0.015172607686261927\n",
      "mean_absolute_percentage_error = 2.1184492990320294\n"
     ]
    }
   ],
   "source": [
    "print('r2_score =\\t\\t\\t', r2_score(y_train, y_pred_train))\n",
    "print('mean_squared_error =\\t\\t', mean_squared_error(y_train, y_pred_train))\n",
    "print('mean_absolute_error =\\t\\t', mean_absolute_error(y_train, y_pred_train))\n",
    "print('mean_absolute_percentage_error =', mean_absolute_percentage_error(y_train, y_pred_train))"
   ]
  },
  {
   "cell_type": "code",
   "execution_count": 43,
   "id": "b37c272d",
   "metadata": {},
   "outputs": [
    {
     "data": {
      "text/plain": [
       "Text(0, 0.5, 'Actual')"
      ]
     },
     "execution_count": 43,
     "metadata": {},
     "output_type": "execute_result"
    },
    {
     "data": {
      "image/png": "[encoded data removed]",
      "text/plain": [
       "<Figure size 640x480 with 1 Axes>"
      ]
     },
     "metadata": {},
     "output_type": "display_data"
    }
   ],
   "source": [
    "# Scatter Plot between Predicted & Actual Values\n",
    "plt.scatter(y_pred_train, y_train)\n",
    "\n",
    "plt.plot(y_pred_train, y_pred_train, color='red')\n",
    "\n",
    "plt.title('Scatter Plot between Predicted & Actual Values')\n",
    "plt.xlabel('Predicted')\n",
    "plt.ylabel('Actual')"
   ]
  },
  {
   "cell_type": "code",
   "execution_count": 44,
   "id": "147de76e",
   "metadata": {},
   "outputs": [
    {
     "name": "stdout",
     "output_type": "stream",
     "text": [
      "r2_score =\t\t\t -0.00842955464879358\n",
      "mean_squared_error =\t\t 0.0005022661324882663\n",
      "mean_absolute_error =\t\t 0.014520483893693035\n",
      "mean_absolute_percentage_error = 47306857790.81109\n"
     ]
    }
   ],
   "source": [
    "print('r2_score =\\t\\t\\t', r2_score(y_test, y_pred_test))\n",
    "print('mean_squared_error =\\t\\t', mean_squared_error(y_test, y_pred_test))\n",
    "print('mean_absolute_error =\\t\\t', mean_absolute_error(y_test, y_pred_test))\n",
    "print('mean_absolute_percentage_error =', mean_absolute_percentage_error(y_test, y_pred_test))"
   ]
  },
  {
   "cell_type": "code",
   "execution_count": 45,
   "id": "27fa5a10",
   "metadata": {},
   "outputs": [
    {
     "data": {
      "text/plain": [
       "Text(0, 0.5, 'Actual')"
      ]
     },
     "execution_count": 45,
     "metadata": {},
     "output_type": "execute_result"
    },
    {
     "data": {
      "image/png": "[encoded data removed]",
      "text/plain": [
       "<Figure size 640x480 with 1 Axes>"
      ]
     },
     "metadata": {},
     "output_type": "display_data"
    }
   ],
   "source": [
    "# Scatter Plot between Predicted & Actual Values\n",
    "plt.scatter(y_pred_test, y_test)\n",
    "\n",
    "plt.plot(y_pred_test, y_pred_test, color='red')\n",
    "\n",
    "plt.title('Scatter Plot between Predicted & Actual Values')\n",
    "plt.xlabel('Predicted')\n",
    "plt.ylabel('Actual')"
   ]
  },
  {
   "cell_type": "markdown",
   "id": "2982d197",
   "metadata": {},
   "source": [
    "# Ridge Regression"
   ]
  },
  {
   "cell_type": "code",
   "execution_count": 46,
   "id": "0e715da1",
   "metadata": {},
   "outputs": [],
   "source": [
    "alphas = np.logspace(-3, 3, num=100)"
   ]
  },
  {
   "cell_type": "code",
   "execution_count": 47,
   "id": "e2eae784",
   "metadata": {
    "scrolled": false
   },
   "outputs": [
    {
     "data": {
      "text/plain": [
       "[<matplotlib.lines.Line2D at 0x7fbce80c7fd0>]"
      ]
     },
     "execution_count": 47,
     "metadata": {},
     "output_type": "execute_result"
    },
    {
     "data": {
      "image/png": "[encoded data removed]",
      "text/plain": [
       "<Figure size 640x480 with 1 Axes>"
      ]
     },
     "metadata": {},
     "output_type": "display_data"
    }
   ],
   "source": [
    "plt.plot(alphas, '*')"
   ]
  },
  {
   "cell_type": "code",
   "execution_count": null,
   "id": "612a3a5f",
   "metadata": {},
   "outputs": [],
   "source": []
  },
  {
   "cell_type": "code",
   "execution_count": 48,
   "id": "c217bcb2",
   "metadata": {},
   "outputs": [
    {
     "data": {
      "text/plain": [
       "RidgeCV(alphas=array([1.00000000e-03, 1.14975700e-03, 1.32194115e-03, 1.51991108e-03,\n",
       "       1.74752840e-03, 2.00923300e-03, 2.31012970e-03, 2.65608778e-03,\n",
       "       3.05385551e-03, 3.51119173e-03, 4.03701726e-03, 4.64158883e-03,\n",
       "       5.33669923e-03, 6.13590727e-03, 7.05480231e-03, 8.11130831e-03,\n",
       "       9.32603347e-03, 1.07226722e-02, 1.23284674e-02, 1.41747416e-02,\n",
       "       1.62975083e-02, 1.87381742e-0...\n",
       "       7.05480231e+01, 8.11130831e+01, 9.32603347e+01, 1.07226722e+02,\n",
       "       1.23284674e+02, 1.41747416e+02, 1.62975083e+02, 1.87381742e+02,\n",
       "       2.15443469e+02, 2.47707636e+02, 2.84803587e+02, 3.27454916e+02,\n",
       "       3.76493581e+02, 4.32876128e+02, 4.97702356e+02, 5.72236766e+02,\n",
       "       6.57933225e+02, 7.56463328e+02, 8.69749003e+02, 1.00000000e+03]),\n",
       "        cv=TimeSeriesSplit(gap=0, max_train_size=None, n_splits=5, test_size=None))"
      ]
     },
     "execution_count": 48,
     "metadata": {},
     "output_type": "execute_result"
    }
   ],
   "source": [
    "tscv = TimeSeriesSplit(n_splits = 5)\n",
    "ridge = RidgeCV(alphas=alphas, cv=tscv)\n",
    "ridge.fit(X_train, y_train)"
   ]
  },
  {
   "cell_type": "code",
   "execution_count": 51,
   "id": "19c9cdf7",
   "metadata": {},
   "outputs": [
    {
     "data": {
      "text/plain": [
       "1000.0"
      ]
     },
     "execution_count": 51,
     "metadata": {},
     "output_type": "execute_result"
    }
   ],
   "source": [
    "ridge.alpha_\n"
   ]
  },
  {
   "cell_type": "code",
   "execution_count": 50,
   "id": "6b8d61e0",
   "metadata": {},
   "outputs": [
    {
     "data": {
      "text/plain": [
       "array([ 0.00078184, -0.00135288, -0.00042107])"
      ]
     },
     "execution_count": 50,
     "metadata": {},
     "output_type": "execute_result"
    }
   ],
   "source": [
    "ridge.coef_"
   ]
  },
  {
   "cell_type": "code",
   "execution_count": 52,
   "id": "954b4eeb",
   "metadata": {},
   "outputs": [
    {
     "data": {
      "text/plain": [
       "0.0038204625270319616"
      ]
     },
     "execution_count": 52,
     "metadata": {},
     "output_type": "execute_result"
    }
   ],
   "source": [
    "ridge.intercept_"
   ]
  },
  {
   "cell_type": "code",
   "execution_count": 53,
   "id": "b3a131ae",
   "metadata": {},
   "outputs": [],
   "source": [
    "\n",
    "y_pred_train = ridge.predict(X_train)\n",
    "y_pred_test = ridge.predict(X_test)"
   ]
  },
  {
   "cell_type": "code",
   "execution_count": 54,
   "id": "6ffbd5db",
   "metadata": {},
   "outputs": [
    {
     "name": "stdout",
     "output_type": "stream",
     "text": [
      "r2_score =\t\t\t 0.013094797993434604\n",
      "mean_squared_error =\t\t 0.0005584680745163267\n",
      "mean_absolute_error =\t\t 0.015028197709291457\n",
      "mean_absolute_percentage_error = 1.892715124051214\n"
     ]
    }
   ],
   "source": [
    "print('r2_score =\\t\\t\\t', r2_score(y_train, y_pred_train))\n",
    "print('mean_squared_error =\\t\\t', mean_squared_error(y_train, y_pred_train))\n",
    "print('mean_absolute_error =\\t\\t', mean_absolute_error(y_train, y_pred_train))\n",
    "print('mean_absolute_percentage_error =', mean_absolute_percentage_error(y_train, y_pred_train))"
   ]
  },
  {
   "cell_type": "code",
   "execution_count": 55,
   "id": "af9d0827",
   "metadata": {},
   "outputs": [
    {
     "data": {
      "text/plain": [
       "Text(0, 0.5, 'Actual')"
      ]
     },
     "execution_count": 55,
     "metadata": {},
     "output_type": "execute_result"
    },
    {
     "data": {
      "image/png": "[encoded data removed]",
      "text/plain": [
       "<Figure size 640x480 with 1 Axes>"
      ]
     },
     "metadata": {},
     "output_type": "display_data"
    }
   ],
   "source": [
    "# Scatter Plot between Predicted & Actual Values\n",
    "plt.scatter(y_pred_train, y_train)\n",
    "\n",
    "plt.plot(y_pred_train, y_pred_train, color='red')\n",
    "\n",
    "plt.title('Scatter Plot between Predicted & Actual Values')\n",
    "plt.xlabel('Predicted')\n",
    "plt.ylabel('Actual')"
   ]
  },
  {
   "cell_type": "code",
   "execution_count": 56,
   "id": "dffcd5cc",
   "metadata": {},
   "outputs": [
    {
     "name": "stdout",
     "output_type": "stream",
     "text": [
      "r2_score =\t\t\t -0.0039011254005854035\n",
      "mean_squared_error =\t\t 0.0005000106684013014\n",
      "mean_absolute_error =\t\t 0.014494797163039558\n",
      "mean_absolute_percentage_error = 41723667251.62375\n"
     ]
    }
   ],
   "source": [
    "print('r2_score =\\t\\t\\t', r2_score(y_test, y_pred_test))\n",
    "print('mean_squared_error =\\t\\t', mean_squared_error(y_test, y_pred_test))\n",
    "print('mean_absolute_error =\\t\\t', mean_absolute_error(y_test, y_pred_test))\n",
    "print('mean_absolute_percentage_error =', mean_absolute_percentage_error(y_test, y_pred_test))"
   ]
  },
  {
   "cell_type": "code",
   "execution_count": 57,
   "id": "bac97553",
   "metadata": {},
   "outputs": [
    {
     "data": {
      "text/plain": [
       "Text(0, 0.5, 'Actual')"
      ]
     },
     "execution_count": 57,
     "metadata": {},
     "output_type": "execute_result"
    },
    {
     "data": {
      "image/png": "[encoded data removed]",
      "text/plain": [
       "<Figure size 640x480 with 1 Axes>"
      ]
     },
     "metadata": {},
     "output_type": "display_data"
    }
   ],
   "source": [
    "# Scatter Plot between Predicted & Actual Values\n",
    "plt.scatter(y_pred_test, y_test)\n",
    "\n",
    "plt.plot(y_pred_test, y_pred_test, color='red')\n",
    "\n",
    "plt.title('Scatter Plot between Predicted & Actual Values')\n",
    "plt.xlabel('Predicted')\n",
    "plt.ylabel('Actual')"
   ]
  },
  {
   "cell_type": "markdown",
   "id": "c9c7bb2e",
   "metadata": {},
   "source": [
    "# Losso regression"
   ]
  },
  {
   "cell_type": "code",
   "execution_count": 58,
   "id": "0a0461d7",
   "metadata": {},
   "outputs": [],
   "source": [
    "tscv = TimeSeriesSplit(n_splits = 5)\n",
    "lasso = LassoCV(n_alphas=100, cv=tscv)"
   ]
  },
  {
   "cell_type": "code",
   "execution_count": 59,
   "id": "60a9648b",
   "metadata": {},
   "outputs": [
    {
     "data": {
      "text/plain": [
       "LassoCV(cv=TimeSeriesSplit(gap=0, max_train_size=None, n_splits=5, test_size=None))"
      ]
     },
     "execution_count": 59,
     "metadata": {},
     "output_type": "execute_result"
    }
   ],
   "source": [
    "lasso.fit(X_train, y_train)"
   ]
  },
  {
   "cell_type": "code",
   "execution_count": 60,
   "id": "e509427d",
   "metadata": {},
   "outputs": [
    {
     "data": {
      "text/plain": [
       "0.005400228503948883"
      ]
     },
     "execution_count": 60,
     "metadata": {},
     "output_type": "execute_result"
    }
   ],
   "source": [
    "lasso.alpha_"
   ]
  },
  {
   "cell_type": "code",
   "execution_count": 61,
   "id": "53f4ea8e",
   "metadata": {},
   "outputs": [
    {
     "data": {
      "text/plain": [
       "array([-0.00000000e+00, -6.09503456e-19, -0.00000000e+00])"
      ]
     },
     "execution_count": 61,
     "metadata": {},
     "output_type": "execute_result"
    }
   ],
   "source": [
    "lasso.coef_"
   ]
  },
  {
   "cell_type": "code",
   "execution_count": 62,
   "id": "d7a1fe49",
   "metadata": {},
   "outputs": [
    {
     "data": {
      "text/plain": [
       "0.0034779656482360802"
      ]
     },
     "execution_count": 62,
     "metadata": {},
     "output_type": "execute_result"
    }
   ],
   "source": [
    "lasso.intercept_"
   ]
  },
  {
   "cell_type": "code",
   "execution_count": 64,
   "id": "192ac813",
   "metadata": {},
   "outputs": [],
   "source": [
    "\n",
    "y_pred_train = lasso.predict(X_train)\n",
    "y_pred_test = lasso.predict(X_test)"
   ]
  },
  {
   "cell_type": "code",
   "execution_count": 65,
   "id": "f51bf8de",
   "metadata": {},
   "outputs": [
    {
     "name": "stdout",
     "output_type": "stream",
     "text": [
      "r2_score =\t\t\t 2.220446049250313e-16\n",
      "mean_squared_error =\t\t 0.0005658781343748672\n",
      "mean_absolute_error =\t\t 0.015069541227051933\n",
      "mean_absolute_percentage_error = 1.880519296593139\n"
     ]
    }
   ],
   "source": [
    "print('r2_score =\\t\\t\\t', r2_score(y_train, y_pred_train))\n",
    "print('mean_squared_error =\\t\\t', mean_squared_error(y_train, y_pred_train))\n",
    "print('mean_absolute_error =\\t\\t', mean_absolute_error(y_train, y_pred_train))\n",
    "print('mean_absolute_percentage_error =', mean_absolute_percentage_error(y_train, y_pred_train))"
   ]
  },
  {
   "cell_type": "code",
   "execution_count": 66,
   "id": "49ce22bf",
   "metadata": {},
   "outputs": [
    {
     "data": {
      "text/plain": [
       "Text(0, 0.5, 'Actual')"
      ]
     },
     "execution_count": 66,
     "metadata": {},
     "output_type": "execute_result"
    },
    {
     "data": {
      "image/png": "[encoded data removed]",
      "text/plain": [
       "<Figure size 640x480 with 1 Axes>"
      ]
     },
     "metadata": {},
     "output_type": "display_data"
    }
   ],
   "source": [
    "# Scatter Plot between Predicted & Actual Values\n",
    "plt.scatter(y_pred_train, y_train)\n",
    "\n",
    "plt.plot(y_pred_train, y_pred_train, color='red')\n",
    "\n",
    "plt.title('Scatter Plot between Predicted & Actual Values')\n",
    "plt.xlabel('Predicted')\n",
    "plt.ylabel('Actual')"
   ]
  },
  {
   "cell_type": "code",
   "execution_count": 67,
   "id": "7afd42c7",
   "metadata": {},
   "outputs": [
    {
     "name": "stdout",
     "output_type": "stream",
     "text": [
      "r2_score =\t\t\t -0.02162827028882841\n",
      "mean_squared_error =\t\t 0.0005088399856917668\n",
      "mean_absolute_error =\t\t 0.014525436682452925\n",
      "mean_absolute_percentage_error = 43149765284.101715\n"
     ]
    }
   ],
   "source": [
    "print('r2_score =\\t\\t\\t', r2_score(y_test, y_pred_test))\n",
    "print('mean_squared_error =\\t\\t', mean_squared_error(y_test, y_pred_test))\n",
    "print('mean_absolute_error =\\t\\t', mean_absolute_error(y_test, y_pred_test))\n",
    "print('mean_absolute_percentage_error =', mean_absolute_percentage_error(y_test, y_pred_test))"
   ]
  },
  {
   "cell_type": "code",
   "execution_count": 68,
   "id": "16f7adf7",
   "metadata": {},
   "outputs": [
    {
     "data": {
      "text/plain": [
       "Text(0, 0.5, 'Actual')"
      ]
     },
     "execution_count": 68,
     "metadata": {},
     "output_type": "execute_result"
    },
    {
     "data": {
      "image/png": "[encoded data removed]",
      "text/plain": [
       "<Figure size 640x480 with 1 Axes>"
      ]
     },
     "metadata": {},
     "output_type": "display_data"
    }
   ],
   "source": [
    "# Scatter Plot between Predicted & Actual Values\n",
    "plt.scatter(y_pred_test, y_test)\n",
    "\n",
    "plt.plot(y_pred_test, y_pred_test, color='red')\n",
    "\n",
    "plt.title('Scatter Plot between Predicted & Actual Values')\n",
    "plt.xlabel('Predicted')\n",
    "plt.ylabel('Actual')"
   ]
  },
  {
   "cell_type": "code",
   "execution_count": null,
   "id": "b3efd87f",
   "metadata": {},
   "outputs": [],
   "source": []
  }
 ],
 "metadata": {
  "kernelspec": {
   "display_name": "Python 3 (ipykernel)",
   "language": "python",
   "name": "python3"
  },
  "language_info": {
   "codemirror_mode": {
    "name": "ipython",
    "version": 3
   },
   "file_extension": ".py",
   "mimetype": "text/x-python",
   "name": "python",
   "nbconvert_exporter": "python",
   "pygments_lexer": "ipython3",
   "version": "3.9.13"
  }
 },
 "nbformat": 4,
 "nbformat_minor": 5
}
