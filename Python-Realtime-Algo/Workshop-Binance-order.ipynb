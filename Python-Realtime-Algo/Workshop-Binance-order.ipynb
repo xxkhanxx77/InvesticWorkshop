{
 "cells": [
  {
   "cell_type": "code",
   "execution_count": 1,
   "id": "9496fdff",
   "metadata": {},
   "outputs": [],
   "source": [
    "from binance.client import Client\n",
    "import datetime\n",
    "import pandas as pd"
   ]
  },
  {
   "cell_type": "code",
   "execution_count": null,
   "id": "fc8629c7",
   "metadata": {},
   "outputs": [],
   "source": []
  },
  {
   "cell_type": "code",
   "execution_count": 2,
   "id": "5f2f0688",
   "metadata": {},
   "outputs": [],
   "source": [
    "y = 'APiKey'\n",
    "z = 'SecretKey'\n",
    "client = Client(y,z)"
   ]
  },
  {
   "cell_type": "code",
   "execution_count": null,
   "id": "e6f0e499",
   "metadata": {},
   "outputs": [],
   "source": []
  },
  {
   "cell_type": "code",
   "execution_count": 59,
   "id": "da2a516c",
   "metadata": {},
   "outputs": [],
   "source": [
    "market_buy = client.order_market_buy(symbol='BNBBUSD',quantity=0.05)"
   ]
  },
  {
   "cell_type": "code",
   "execution_count": 60,
   "id": "d8b98dc5",
   "metadata": {},
   "outputs": [
    {
     "data": {
      "text/plain": [
       "{'symbol': 'BNBBUSD',\n",
       " 'orderId': 1529127067,\n",
       " 'orderListId': -1,\n",
       " 'clientOrderId': 'hTyrdk3j7IWhoAdgg3auha',\n",
       " 'transactTime': 1673197101591,\n",
       " 'price': '0.00000000',\n",
       " 'origQty': '0.05000000',\n",
       " 'executedQty': '0.05000000',\n",
       " 'cummulativeQuoteQty': '13.25500000',\n",
       " 'status': 'FILLED',\n",
       " 'timeInForce': 'GTC',\n",
       " 'type': 'MARKET',\n",
       " 'side': 'BUY',\n",
       " 'workingTime': 1673197101591,\n",
       " 'fills': [{'price': '265.10000000',\n",
       "   'qty': '0.05000000',\n",
       "   'commission': '0.00003750',\n",
       "   'commissionAsset': 'BNB',\n",
       "   'tradeId': 191096274}],\n",
       " 'selfTradePreventionMode': 'NONE'}"
      ]
     },
     "execution_count": 60,
     "metadata": {},
     "output_type": "execute_result"
    }
   ],
   "source": [
    "market_buy"
   ]
  },
  {
   "cell_type": "code",
   "execution_count": 12,
   "id": "067ad790",
   "metadata": {},
   "outputs": [],
   "source": [
    "market_sell = client.order_market_sell(symbol='BNBBUSD',quantity=0.098)\n",
    "# after buy got fees will have 0.099-0.098\n"
   ]
  },
  {
   "cell_type": "code",
   "execution_count": 58,
   "id": "49adc692",
   "metadata": {},
   "outputs": [],
   "source": [
    "order = client.order_limit_buy(symbol='BNBBUSD',\n",
    "                              quantity=0.05,\n",
    "                              price='220')"
   ]
  },
  {
   "cell_type": "code",
   "execution_count": 52,
   "id": "1a554be6",
   "metadata": {},
   "outputs": [
    {
     "data": {
      "text/plain": [
       "{'symbol': 'BNBBUSD',\n",
       " 'orderId': 1529126302,\n",
       " 'orderListId': -1,\n",
       " 'clientOrderId': 'Hg9W7UNsYEF89YaAfgWIao',\n",
       " 'transactTime': 1673197010041,\n",
       " 'price': '220.00000000',\n",
       " 'origQty': '0.05000000',\n",
       " 'executedQty': '0.00000000',\n",
       " 'cummulativeQuoteQty': '0.00000000',\n",
       " 'status': 'NEW',\n",
       " 'timeInForce': 'GTC',\n",
       " 'type': 'LIMIT',\n",
       " 'side': 'BUY',\n",
       " 'workingTime': 1673197010041,\n",
       " 'fills': [],\n",
       " 'selfTradePreventionMode': 'NONE'}"
      ]
     },
     "execution_count": 52,
     "metadata": {},
     "output_type": "execute_result"
    }
   ],
   "source": [
    "order"
   ]
  },
  {
   "cell_type": "code",
   "execution_count": 21,
   "id": "b11b159a",
   "metadata": {},
   "outputs": [
    {
     "data": {
      "text/plain": [
       "{'symbol': 'BNBBUSD',\n",
       " 'orderId': 1529116640,\n",
       " 'orderListId': -1,\n",
       " 'clientOrderId': 'NP3YcvycLW0BZyny1RnMIv',\n",
       " 'price': '220.00000000',\n",
       " 'origQty': '0.05000000',\n",
       " 'executedQty': '0.00000000',\n",
       " 'cummulativeQuoteQty': '0.00000000',\n",
       " 'status': 'NEW',\n",
       " 'timeInForce': 'GTC',\n",
       " 'type': 'LIMIT',\n",
       " 'side': 'BUY',\n",
       " 'stopPrice': '0.00000000',\n",
       " 'icebergQty': '0.00000000',\n",
       " 'time': 1673195883972,\n",
       " 'updateTime': 1673195883972,\n",
       " 'isWorking': True,\n",
       " 'workingTime': 1673195883972,\n",
       " 'origQuoteOrderQty': '0.00000000',\n",
       " 'selfTradePreventionMode': 'NONE'}"
      ]
     },
     "execution_count": 21,
     "metadata": {},
     "output_type": "execute_result"
    }
   ],
   "source": [
    "client.get_order(symbol='BNBBUSD',orderId='1529116640')"
   ]
  },
  {
   "cell_type": "code",
   "execution_count": 20,
   "id": "ff4ebfcb",
   "metadata": {
    "scrolled": true
   },
   "outputs": [
    {
     "data": {
      "text/plain": [
       "{'symbol': 'BNBBUSD',\n",
       " 'orderId': 1529116640,\n",
       " 'orderListId': -1,\n",
       " 'clientOrderId': 'NP3YcvycLW0BZyny1RnMIv',\n",
       " 'price': '220.00000000',\n",
       " 'origQty': '0.05000000',\n",
       " 'executedQty': '0.00000000',\n",
       " 'cummulativeQuoteQty': '0.00000000',\n",
       " 'status': 'NEW',\n",
       " 'timeInForce': 'GTC',\n",
       " 'type': 'LIMIT',\n",
       " 'side': 'BUY',\n",
       " 'stopPrice': '0.00000000',\n",
       " 'icebergQty': '0.00000000',\n",
       " 'time': 1673195883972,\n",
       " 'updateTime': 1673195883972,\n",
       " 'isWorking': True,\n",
       " 'workingTime': 1673195883972,\n",
       " 'origQuoteOrderQty': '0.00000000',\n",
       " 'selfTradePreventionMode': 'NONE'}"
      ]
     },
     "execution_count": 20,
     "metadata": {},
     "output_type": "execute_result"
    }
   ],
   "source": [
    "client.get_order(symbol='BNBBUSD',orderId=order['orderId'])"
   ]
  },
  {
   "cell_type": "code",
   "execution_count": 22,
   "id": "a16f89e8",
   "metadata": {},
   "outputs": [
    {
     "data": {
      "text/plain": [
       "{'symbol': 'BNBBUSD',\n",
       " 'origClientOrderId': 'NP3YcvycLW0BZyny1RnMIv',\n",
       " 'orderId': 1529116640,\n",
       " 'orderListId': -1,\n",
       " 'clientOrderId': 'FsPehKWWAhnNT4pgNsKV9k',\n",
       " 'price': '220.00000000',\n",
       " 'origQty': '0.05000000',\n",
       " 'executedQty': '0.00000000',\n",
       " 'cummulativeQuoteQty': '0.00000000',\n",
       " 'status': 'CANCELED',\n",
       " 'timeInForce': 'GTC',\n",
       " 'type': 'LIMIT',\n",
       " 'side': 'BUY',\n",
       " 'selfTradePreventionMode': 'NONE'}"
      ]
     },
     "execution_count": 22,
     "metadata": {},
     "output_type": "execute_result"
    }
   ],
   "source": [
    "client.cancel_order(symbol='BNBBUSD',orderId=order['orderId'])"
   ]
  },
  {
   "cell_type": "code",
   "execution_count": 36,
   "id": "1ca795f5",
   "metadata": {},
   "outputs": [],
   "source": [
    "order = client.order_limit_buy(symbol='BNBBUSD',\n",
    "                              quantity=0.05,\n",
    "                              price='220',\n",
    "                              timeInForce='FOK')\n",
    "\n",
    "# fill or kill order is if get  will return if not will terminate order"
   ]
  },
  {
   "cell_type": "code",
   "execution_count": 77,
   "id": "7cc3f16c",
   "metadata": {},
   "outputs": [
    {
     "data": {
      "text/plain": [
       "[{'symbol': 'BNBBUSD',\n",
       "  'orderId': 1529153921,\n",
       "  'orderListId': 80340896,\n",
       "  'clientOrderId': '16luJqdwR0aEa3ZJ59gSQJ',\n",
       "  'price': '250.00000000',\n",
       "  'origQty': '0.05000000',\n",
       "  'executedQty': '0.00000000',\n",
       "  'cummulativeQuoteQty': '0.00000000',\n",
       "  'status': 'NEW',\n",
       "  'timeInForce': 'GTC',\n",
       "  'type': 'LIMIT_MAKER',\n",
       "  'side': 'BUY',\n",
       "  'stopPrice': '0.00000000',\n",
       "  'icebergQty': '0.00000000',\n",
       "  'time': 1673201980241,\n",
       "  'updateTime': 1673201980241,\n",
       "  'isWorking': True,\n",
       "  'workingTime': 1673201980241,\n",
       "  'origQuoteOrderQty': '0.00000000',\n",
       "  'selfTradePreventionMode': 'NONE'}]"
      ]
     },
     "execution_count": 77,
     "metadata": {},
     "output_type": "execute_result"
    }
   ],
   "source": [
    "client.get_all_orders(symbol='BNBBUSD',limit=1)"
   ]
  },
  {
   "cell_type": "code",
   "execution_count": 64,
   "id": "1ed169d4",
   "metadata": {},
   "outputs": [],
   "source": [
    "# this section about get all order and delete"
   ]
  },
  {
   "cell_type": "code",
   "execution_count": 83,
   "id": "9c12c5c6",
   "metadata": {},
   "outputs": [],
   "source": [
    "all_open_order = client.get_open_orders(symbol='BNBBUSD')"
   ]
  },
  {
   "cell_type": "code",
   "execution_count": 84,
   "id": "805c13e4",
   "metadata": {},
   "outputs": [
    {
     "data": {
      "text/plain": [
       "[]"
      ]
     },
     "execution_count": 84,
     "metadata": {},
     "output_type": "execute_result"
    }
   ],
   "source": [
    "all_open_order"
   ]
  },
  {
   "cell_type": "code",
   "execution_count": 85,
   "id": "839caae8",
   "metadata": {},
   "outputs": [],
   "source": [
    "for order in all_open_order:\n",
    "    client.cancel_order(symbol='BNBBUSD',orderId=order['orderId'])"
   ]
  },
  {
   "cell_type": "code",
   "execution_count": 61,
   "id": "b17456e7",
   "metadata": {},
   "outputs": [],
   "source": [
    "limit_sell = client.order_limit_sell(symbol='BNBBUSD',quantity=0.05,price='500')"
   ]
  },
  {
   "cell_type": "code",
   "execution_count": null,
   "id": "c6cf83c5",
   "metadata": {},
   "outputs": [],
   "source": []
  },
  {
   "cell_type": "code",
   "execution_count": 73,
   "id": "8c42d723",
   "metadata": {},
   "outputs": [],
   "source": [
    " # note now bnb is 265 stop price must lower than last price on binance \n",
    "from binance.enums import *\n",
    "order = client.create_oco_order(\n",
    "    symbol='BNBBUSD',\n",
    "    side=SIDE_SELL,\n",
    "    quantity=0.05,\n",
    "    price='400',\n",
    "    stopPrice='250',\n",
    "    stopLimitPrice='240',\n",
    "    stopLimitTimeInForce='FOK')"
   ]
  },
  {
   "cell_type": "code",
   "execution_count": 76,
   "id": "093ac41c",
   "metadata": {},
   "outputs": [],
   "source": [
    " # note now bnb is 265 stop price must more than last price on binance in buy side\n",
    "order = client.create_oco_order(\n",
    "    symbol='BNBBUSD',\n",
    "    side=SIDE_BUY,\n",
    "    quantity=0.05,\n",
    "    price='250',\n",
    "    stopPrice='270',\n",
    "    stopLimitPrice='280',\n",
    "    stopLimitTimeInForce='FOK')"
   ]
  },
  {
   "cell_type": "code",
   "execution_count": null,
   "id": "6949d921",
   "metadata": {},
   "outputs": [],
   "source": []
  }
 ],
 "metadata": {
  "kernelspec": {
   "display_name": "Python 3 (ipykernel)",
   "language": "python",
   "name": "python3"
  },
  "language_info": {
   "codemirror_mode": {
    "name": "ipython",
    "version": 3
   },
   "file_extension": ".py",
   "mimetype": "text/x-python",
   "name": "python",
   "nbconvert_exporter": "python",
   "pygments_lexer": "ipython3",
   "version": "3.9.13"
  }
 },
 "nbformat": 4,
 "nbformat_minor": 5
}
