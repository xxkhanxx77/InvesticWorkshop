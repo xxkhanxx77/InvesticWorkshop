{
  "nbformat": 4,
  "nbformat_minor": 0,
  "metadata": {
    "colab": {
      "provenance": []
    },
    "kernelspec": {
      "name": "python3",
      "display_name": "Python 3"
    }
  },
  "cells": [
    {
      "metadata": {
        "id": "LR8b8mbCrj3Q"
      },
      "cell_type": "markdown",
      "source": [
        "# Install ta-lib python wrapper on Google colab"
      ]
    },
    {
      "metadata": {
        "id": "CAhr6-xosdg_"
      },
      "cell_type": "markdown",
      "source": [
        "Ta-lib python wrapper : https://github.com/mrjbq7/ta-lib\n",
        "\n",
        "Dependencies :\n",
        "> To use TA-Lib for python, you need to have the **TA-Lib already installed**. ...\n",
        "\n",
        "\n"
      ]
    },
    {
      "metadata": {
        "id": "IMVLrgT4ronz",
        "colab": {
          "base_uri": "https://localhost:8080/",
          "height": 370
        },
        "outputId": "b2f92925-6a6b-4c7a-ae81-38e37ccd0033"
      },
      "cell_type": "code",
      "source": [
        "# download TA-Lib \n",
        "!wget http://prdownloads.sourceforge.net/ta-lib/ta-lib-0.4.0-src.tar.gz "
      ],
      "execution_count": null,
      "outputs": [
        {
          "output_type": "stream",
          "text": [
            "--2018-04-18 02:55:45--  http://prdownloads.sourceforge.net/ta-lib/ta-lib-0.4.0-src.tar.gz\r\n",
            "Resolving prdownloads.sourceforge.net (prdownloads.sourceforge.net)... 216.105.38.13\n",
            "Connecting to prdownloads.sourceforge.net (prdownloads.sourceforge.net)|216.105.38.13|:80... connected.\n",
            "HTTP request sent, awaiting response... 301 Moved Permanently\n",
            "Location: http://downloads.sourceforge.net/project/ta-lib/ta-lib/0.4.0/ta-lib-0.4.0-src.tar.gz [following]\n",
            "--2018-04-18 02:55:45--  http://downloads.sourceforge.net/project/ta-lib/ta-lib/0.4.0/ta-lib-0.4.0-src.tar.gz\n",
            "Resolving downloads.sourceforge.net (downloads.sourceforge.net)... 216.105.38.13\n",
            "Reusing existing connection to prdownloads.sourceforge.net:80.\n",
            "HTTP request sent, awaiting response... 302 Found\n",
            "Location: https://phoenixnap.dl.sourceforge.net/project/ta-lib/ta-lib/0.4.0/ta-lib-0.4.0-src.tar.gz [following]\n",
            "--2018-04-18 02:55:45--  https://phoenixnap.dl.sourceforge.net/project/ta-lib/ta-lib/0.4.0/ta-lib-0.4.0-src.tar.gz\n",
            "Resolving phoenixnap.dl.sourceforge.net (phoenixnap.dl.sourceforge.net)... 184.164.141.26\n",
            "Connecting to phoenixnap.dl.sourceforge.net (phoenixnap.dl.sourceforge.net)|184.164.141.26|:443... connected.\n",
            "HTTP request sent, awaiting response... 200 OK\n",
            "Length: 1330299 (1.3M) [application/x-gzip]\n",
            "Saving to: ‘ta-lib-0.4.0-src.tar.gz’\n",
            "\n",
            "ta-lib-0.4.0-src.ta 100%[===================>]   1.27M  6.91MB/s    in 0.2s    \n",
            "\n",
            "2018-04-18 02:55:46 (6.91 MB/s) - ‘ta-lib-0.4.0-src.tar.gz’ saved [1330299/1330299]\n",
            "\n"
          ],
          "name": "stdout"
        }
      ]
    },
    {
      "metadata": {
        "id": "vDSao9xHrq6c",
        "colab": {
          "base_uri": "https://localhost:8080/",
          "height": 34
        },
        "outputId": "1073539b-8182-4828-9c65-ae73b3945158"
      },
      "cell_type": "code",
      "source": [
        "!ls"
      ],
      "execution_count": null,
      "outputs": [
        {
          "output_type": "stream",
          "text": [
            "datalab  ta-lib-0.4.0-src.tar.gz\r\n"
          ],
          "name": "stdout"
        }
      ]
    },
    {
      "metadata": {
        "id": "fUcEOqmfrtQj"
      },
      "cell_type": "code",
      "source": [
        "!tar xvzf ta-lib-0.4.0-src.tar.gz"
      ],
      "execution_count": null,
      "outputs": []
    },
    {
      "metadata": {
        "id": "9fwr6AHyr73q",
        "colab": {
          "base_uri": "https://localhost:8080/",
          "height": 34
        },
        "outputId": "a77a901b-929c-4df4-ee62-f0de3eab1c44"
      },
      "cell_type": "code",
      "source": [
        "!ls"
      ],
      "execution_count": null,
      "outputs": [
        {
          "output_type": "stream",
          "text": [
            "datalab  ta-lib  ta-lib-0.4.0-src.tar.gz\r\n"
          ],
          "name": "stdout"
        }
      ]
    },
    {
      "metadata": {
        "id": "_ZA2-2fDr_6q"
      },
      "cell_type": "code",
      "source": [
        "import os"
      ],
      "execution_count": null,
      "outputs": []
    },
    {
      "metadata": {
        "id": "GrmT5yvCsBRU"
      },
      "cell_type": "code",
      "source": [
        "os.chdir('ta-lib') # Can't use !cd in co-lab"
      ],
      "execution_count": null,
      "outputs": []
    },
    {
      "metadata": {
        "id": "_4KxAWcusCkI"
      },
      "cell_type": "code",
      "source": [
        "!./configure --prefix=/usr"
      ],
      "execution_count": null,
      "outputs": []
    },
    {
      "metadata": {
        "id": "nW8zdllCsEhC"
      },
      "cell_type": "code",
      "source": [
        "!make"
      ],
      "execution_count": null,
      "outputs": []
    },
    {
      "metadata": {
        "id": "lJA3td4NsLPV"
      },
      "cell_type": "code",
      "source": [
        "!make install\n",
        "# wait ~ 30s"
      ],
      "execution_count": null,
      "outputs": []
    },
    {
      "metadata": {
        "id": "DIetmKUZsu6K"
      },
      "cell_type": "code",
      "source": [
        "os.chdir('../')"
      ],
      "execution_count": null,
      "outputs": []
    },
    {
      "metadata": {
        "id": "IliHxmhgszdn",
        "colab": {
          "base_uri": "https://localhost:8080/",
          "height": 34
        },
        "outputId": "4a7240cb-3a41-43c9-9546-f8075e4c0ec7"
      },
      "cell_type": "code",
      "source": [
        "!ls"
      ],
      "execution_count": null,
      "outputs": [
        {
          "output_type": "stream",
          "text": [
            "datalab  ta-lib  ta-lib-0.4.0-src.tar.gz\r\n"
          ],
          "name": "stdout"
        }
      ]
    },
    {
      "metadata": {
        "id": "Yy9KWlGas0Me",
        "colab": {
          "base_uri": "https://localhost:8080/",
          "height": 205
        },
        "outputId": "a885a9ea-91f6-41ca-e5ff-c950785750e8"
      },
      "cell_type": "code",
      "source": [
        "!pip install TA-Lib"
      ],
      "execution_count": null,
      "outputs": [
        {
          "output_type": "stream",
          "text": [
            "Collecting TA-Lib\n",
            "  Downloading https://files.pythonhosted.org/packages/90/05/d4c6a778d7a7de0be366bc4a850b4ffaeac2abad927f95fa8ba6f355a082/TA-Lib-0.4.17.tar.gz (717kB)\n",
            "\u001b[K    100% |████████████████████████████████| 727kB 1.5MB/s \n",
            "\u001b[?25hRequirement already satisfied: numpy in /usr/local/lib/python3.6/dist-packages (from TA-Lib)\n",
            "Building wheels for collected packages: TA-Lib\n",
            "  Running setup.py bdist_wheel for TA-Lib ... \u001b[?25l-\b \b\\\b \b|\b \b/\b \b-\b \b\\\b \b|\b \b/\b \b-\b \b\\\b \b|\b \b/\b \b-\b \b\\\b \b|\b \b/\b \b-\b \b\\\b \b|\b \b/\b \b-\b \b\\\b \b|\b \b/\b \b-\b \b\\\b \b|\b \b/\b \b-\b \b\\\b \b|\b \b/\b \b-\b \b\\\b \b|\b \b/\b \b-\b \b\\\b \b|\b \b/\b \bdone\n",
            "\u001b[?25h  Stored in directory: /content/.cache/pip/wheels/2a/2e/ec/71c565b2e0091e03a2b56abfbfd062f14a01a8d7b20ffe8bd5\n",
            "Successfully built TA-Lib\n",
            "Installing collected packages: TA-Lib\n",
            "Successfully installed TA-Lib-0.4.17\n"
          ],
          "name": "stdout"
        }
      ]
    },
    {
      "metadata": {
        "id": "Xel_cHI7s40J"
      },
      "cell_type": "code",
      "source": [
        "import talib"
      ],
      "execution_count": null,
      "outputs": []
    },
    {
      "metadata": {
        "id": "zfTJzr8UtL96"
      },
      "cell_type": "code",
      "source": [
        "import pandas as pd\n",
        "\n",
        "df = pd.read_csv('https://www.alphavantage.co/query?function=TIME_SERIES_DAILY&symbol=MSFT&apikey=demo&datatype=csv',\n",
        "           index_col=0,\n",
        "           parse_dates=True,\n",
        "           infer_datetime_format=True)"
      ],
      "execution_count": null,
      "outputs": []
    },
    {
      "metadata": {
        "id": "s1ER4BtdtMpk"
      },
      "cell_type": "code",
      "source": [
        "import matplotlib.pyplot as plt\n",
        "import numpy as np\n",
        "import pandas as pd\n",
        "\n",
        "import datetime\n",
        "\n",
        "import matplotlib.dates as mdates\n",
        "import matplotlib.pyplot as plt\n",
        "\n",
        "from matplotlib.dates import MONDAY, DateFormatter, DayLocator, WeekdayLocator\n",
        "from datetime import timedelta\n",
        "from matplotlib.finance import candlestick_ohlc\n",
        "\n",
        "def plot_pattern(quotes,title,pattern_name,index):\n",
        "    # quotes : pandas dataframe\n",
        "    # index : annotation index in \n",
        "    # sample : plot_candle2(AP_df,title='Test',pattern_name='Hanging Man',selected_date='2005-04-29',date1='2005-04-07',date2='2005-05-25')        \n",
        "    mondays = WeekdayLocator(MONDAY)        # major ticks on the mondays\n",
        "    alldays = DayLocator()              # minor ticks on the days\n",
        "    weekFormatter = DateFormatter('%b %d')  # e.g., Jan 12\n",
        "    dayFormatter = DateFormatter('%d')      # e.g., 12\n",
        "    \n",
        "    l = quotes.shape[0]\n",
        "    d1 = index + 16 if index +8 < l else l-1  # 7 day after\n",
        "    d2 = index - 15 if index - 7 >= 0 else 0 # 7 days before\n",
        "\n",
        "    # select desired range of dates\n",
        "    quotes2 = quotes.iloc[range(d2,d1)]\n",
        "    # print(quotes2.shape)\n",
        "    \n",
        "    fig, ax = plt.subplots()\n",
        "    fig.subplots_adjust(bottom=0.2)\n",
        "    ax.xaxis.set_major_locator(mondays)\n",
        "    ax.xaxis.set_minor_locator(alldays)\n",
        "    ax.xaxis.set_major_formatter(weekFormatter)\n",
        "    # ax.xaxis.set_minor_formatter(dayFormatter)\n",
        "\n",
        "    # plot_day_summary(ax, quotes, ticksize=3)\n",
        "    candlestick_ohlc(ax, zip(mdates.date2num(quotes2.index.to_pydatetime()),\n",
        "                         quotes2['open'], quotes2['high'],\n",
        "                         quotes2['low'], quotes2['close']),\n",
        "                 width=0.6,colordown='red',colorup='green')\n",
        "\n",
        "    ax.xaxis_date()\n",
        "    ax.autoscale_view()\n",
        "    fig.set_size_inches(10,5)\n",
        "    plt.setp(plt.gca().get_xticklabels(), rotation=45, horizontalalignment='right')\n",
        "    ax.set_title(title)\n",
        "    ymin, ymax = ax.get_ylim()\n",
        "    selected_date = quotes.iloc[[index]].index.to_pydatetime()\n",
        "    \n",
        "    ax.annotate(pattern_name, \n",
        "                xy = (selected_date,quotes.loc[selected_date].high ),\n",
        "                xytext=(selected_date,quotes.loc[selected_date].high + (ymax-ymin)/4 ),\n",
        "                arrowprops = dict(facecolor='black',width=0.5,shrink=0.25))\n",
        "    plt.show()"
      ],
      "execution_count": null,
      "outputs": []
    },
    {
      "metadata": {
        "id": "Cv3gerpkuVpe"
      },
      "cell_type": "code",
      "source": [
        "open = df['open'].values\n",
        "high = df['high'].values\n",
        "low = df['low'].values\n",
        "close = df['close'].values\n",
        "result = talib.CDLHAMMER(open,high,low,close)\n"
      ],
      "execution_count": null,
      "outputs": []
    },
    {
      "metadata": {
        "id": "QmTNBWepuwFQ",
        "colab": {
          "base_uri": "https://localhost:8080/",
          "height": 151
        },
        "outputId": "d9f1571a-f027-40e7-cb93-f302cca62649"
      },
      "cell_type": "code",
      "source": [
        "result"
      ],
      "execution_count": null,
      "outputs": [
        {
          "output_type": "execute_result",
          "data": {
            "text/plain": [
              "array([  0,   0,   0,   0,   0,   0,   0,   0,   0,   0,   0,   0,   0,\n",
              "         0,   0,   0,   0,   0,   0,   0,   0,   0,   0,   0,   0,   0,\n",
              "         0,   0, 100,   0,   0,   0,   0,   0,   0,   0,   0,   0,   0,\n",
              "         0,   0,   0,   0,   0,   0,   0,   0,   0,   0,   0,   0,   0,\n",
              "         0,   0,   0,   0,   0,   0,   0,   0,   0,   0,   0,   0,   0,\n",
              "       100,   0,   0,   0,   0,   0,   0,   0,   0,   0,   0,   0,   0,\n",
              "         0,   0,   0,   0,   0,   0,   0,   0,   0,   0,   0,   0,   0,\n",
              "         0,   0,   0,   0,   0,   0,   0,   0,   0], dtype=int32)"
            ]
          },
          "metadata": {
            "tags": []
          },
          "execution_count": 34
        }
      ]
    },
    {
      "metadata": {
        "id": "fmsOQJQPvuOI",
        "colab": {
          "base_uri": "https://localhost:8080/",
          "height": 638
        },
        "outputId": "733e429c-1fba-4ba7-f583-d64d9b920f04"
      },
      "cell_type": "code",
      "source": [
        "hammer_days = np.where(result != 0)[0]\n",
        "for i in hammer_days :\n",
        "  plot_pattern(df,'Hammer day '+str(i),'Hammer',i)"
      ],
      "execution_count": null,
      "outputs": [
        {
          "output_type": "display_data",
          "data": {
            "image/png": "[encoded data removed]",
            "text/plain": [
              "<matplotlib.figure.Figure at 0x7fe1028ef390>"
            ]
          },
          "metadata": {
            "tags": []
          }
        },
        {
          "output_type": "display_data",
          "data": {
            "image/png": "[encoded data removed]",
            "text/plain": [
              "<matplotlib.figure.Figure at 0x7fe102325b00>"
            ]
          },
          "metadata": {
            "tags": []
          }
        }
      ]
    },
    {
      "metadata": {
        "id": "3hwDmw2Qv39l"
      },
      "cell_type": "code",
      "source": [],
      "execution_count": null,
      "outputs": []
    }
  ]
}